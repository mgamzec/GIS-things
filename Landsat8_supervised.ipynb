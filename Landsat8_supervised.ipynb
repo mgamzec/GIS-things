{
  "nbformat": 4,
  "nbformat_minor": 0,
  "metadata": {
    "colab": {
      "provenance": [],
      "include_colab_link": true
    },
    "kernelspec": {
      "name": "python3",
      "display_name": "Python 3"
    },
    "language_info": {
      "name": "python"
    },
    "widgets": {
      "application/vnd.jupyter.widget-state+json": {
        "c71dd167040a4937aaac3d5e2b5d018e": {
          "model_module": "jupyter-leaflet",
          "model_name": "LeafletMapModel",
          "model_module_version": "^0.14.0",
          "state": {
            "_view_name": "LeafletMapView",
            "keyboard_pan_offset": 80,
            "right": 26667.66015625,
            "tap": true,
            "_view_module": "jupyter-leaflet",
            "max_zoom": 18,
            "_model_module_version": "^0.14.0",
            "_view_count": null,
            "zoom_snap": 1,
            "min_zoom": 1,
            "bounce_at_zoom_limits": true,
            "keyboard": true,
            "north": 16.449091820909867,
            "scroll_wheel_zoom": true,
            "dragging": true,
            "_model_module": "jupyter-leaflet",
            "zoom_delta": 1,
            "close_popup_on_click": true,
            "fullscreen": false,
            "style": "IPY_MODEL_03e7072fb8244f9f92598bbf0e520ff1",
            "layout": "IPY_MODEL_8bb33ea1bef04d6f8bc5001be5567910",
            "bottom": 15465.765625,
            "inertia_max_speed": 1500,
            "top": 14865.765625,
            "box_zoom": true,
            "controls": [
              "IPY_MODEL_652674c5937d4530b600dfcb4c9d7d8a",
              "IPY_MODEL_f23a9d75f17f40daa5babd52a468d234",
              "IPY_MODEL_f57b42ec72f44e3298565a4cb52cdfc6",
              "IPY_MODEL_a5f5c52e03464b3684b2bca7424e535c",
              "IPY_MODEL_6a07d3ec1dfa43f2bef18b156e66e4fc",
              "IPY_MODEL_1b17d3dc1e794d8abe5fb5c1e2bc9a0b",
              "IPY_MODEL_8ebf6dae07a644cd8b7be01317b71a2c",
              "IPY_MODEL_02f0c10997e64a73a8fe3a01e8c48b1f"
            ],
            "default_style": "IPY_MODEL_03e7072fb8244f9f92598bbf0e520ff1",
            "east": 112.97966480255128,
            "double_click_zoom": true,
            "interpolation": "bilinear",
            "layers": [
              "IPY_MODEL_495ea0b4d2cb430392184401caad06fa",
              "IPY_MODEL_22a56f0db1f84ac393fbd0bc94980825",
              "IPY_MODEL_b2f27bb5dd7542d798e0452fb1d5a209",
              "IPY_MODEL_c2cf99281f5545c296b13ad6b405a7b8"
            ],
            "dragging_style": "IPY_MODEL_5f140f1920464b59b5a203860c5bdb99",
            "_dom_classes": [],
            "zoom_animation_threshold": 4,
            "_model_name": "LeafletMapModel",
            "zoom_start": 12,
            "modisdate": "yesterday",
            "keyboard_zoom_offset": 1,
            "inertia_deceleration": 3000,
            "inertia": true,
            "crs": {
              "name": "EPSG3857",
              "custom": false
            },
            "center": [
              13.263839415450061,
              103.82805347442628
            ],
            "zoom": 7,
            "world_copy_jump": false,
            "_view_module_version": "^0.14.0",
            "window_url": "https://brw5hp4zbn-496ff2e9c6d22116-0-colab.googleusercontent.com/outputframe.html?vrz=colab-20211013-060105-RC00_402790474",
            "tap_tolerance": 15,
            "west": 94.67644214630128,
            "touch_zoom": true,
            "options": [
              "bounce_at_zoom_limits",
              "box_zoom",
              "center",
              "close_popup_on_click",
              "double_click_zoom",
              "dragging",
              "fullscreen",
              "inertia",
              "inertia_deceleration",
              "inertia_max_speed",
              "interpolation",
              "keyboard",
              "keyboard_pan_offset",
              "keyboard_zoom_offset",
              "max_zoom",
              "min_zoom",
              "scroll_wheel_zoom",
              "tap",
              "tap_tolerance",
              "touch_zoom",
              "world_copy_jump",
              "zoom",
              "zoom_animation_threshold",
              "zoom_delta",
              "zoom_snap",
              "zoom_start"
            ],
            "south": 10.0363023980121,
            "left": 25001.66015625,
            "_dragging": false
          }
        },
        "9bbc259afe9146b4a6580d6a6f71857c": {
          "model_module": "jupyter-leaflet",
          "model_name": "LeafletMapStyleModel",
          "model_module_version": "^0.14.0",
          "state": {
            "_view_name": "StyleView",
            "_model_name": "LeafletMapStyleModel",
            "_view_module": "@jupyter-widgets/base",
            "_model_module_version": "^0.14.0",
            "_view_count": null,
            "cursor": "grab",
            "_view_module_version": "1.2.0",
            "_model_module": "jupyter-leaflet"
          }
        },
        "8bb33ea1bef04d6f8bc5001be5567910": {
          "model_module": "@jupyter-widgets/base",
          "model_name": "LayoutModel",
          "model_module_version": "1.2.0",
          "state": {
            "_view_name": "LayoutView",
            "grid_template_rows": null,
            "right": null,
            "justify_content": null,
            "_view_module": "@jupyter-widgets/base",
            "overflow": null,
            "_model_module_version": "1.2.0",
            "_view_count": null,
            "flex_flow": null,
            "width": null,
            "min_width": null,
            "border": null,
            "align_items": null,
            "bottom": null,
            "_model_module": "@jupyter-widgets/base",
            "top": null,
            "grid_column": null,
            "overflow_y": null,
            "overflow_x": null,
            "grid_auto_flow": null,
            "grid_area": null,
            "grid_template_columns": null,
            "flex": null,
            "_model_name": "LayoutModel",
            "justify_items": null,
            "grid_row": null,
            "max_height": null,
            "align_content": null,
            "visibility": null,
            "align_self": null,
            "height": "600px",
            "min_height": null,
            "padding": null,
            "grid_auto_rows": null,
            "grid_gap": null,
            "max_width": null,
            "order": null,
            "_view_module_version": "1.2.0",
            "grid_template_areas": null,
            "object_position": null,
            "object_fit": null,
            "grid_auto_columns": null,
            "margin": null,
            "display": null,
            "left": null
          }
        },
        "652674c5937d4530b600dfcb4c9d7d8a": {
          "model_module": "jupyter-leaflet",
          "model_name": "LeafletWidgetControlModel",
          "model_module_version": "^0.14.0",
          "state": {
            "_view_name": "LeafletWidgetControlView",
            "widget": "IPY_MODEL_a5c1d0d5c3cf4ca1a9ffb2c95766be23",
            "_model_name": "LeafletWidgetControlModel",
            "_view_module": "jupyter-leaflet",
            "_model_module_version": "^0.14.0",
            "max_height": null,
            "_view_count": null,
            "min_height": null,
            "_view_module_version": "^0.14.0",
            "max_width": null,
            "transparent_bg": false,
            "min_width": null,
            "position": "topleft",
            "_model_module": "jupyter-leaflet",
            "options": [
              "position",
              "transparent_bg"
            ]
          }
        },
        "f23a9d75f17f40daa5babd52a468d234": {
          "model_module": "jupyter-leaflet",
          "model_name": "LeafletZoomControlModel",
          "model_module_version": "^0.14.0",
          "state": {
            "_view_name": "LeafletZoomControlView",
            "zoom_in_title": "Zoom in",
            "_model_name": "LeafletZoomControlModel",
            "_view_module": "jupyter-leaflet",
            "_model_module_version": "^0.14.0",
            "_view_count": null,
            "_view_module_version": "^0.14.0",
            "zoom_out_title": "Zoom out",
            "position": "topleft",
            "zoom_in_text": "+",
            "_model_module": "jupyter-leaflet",
            "options": [
              "position",
              "zoom_in_text",
              "zoom_in_title",
              "zoom_out_text",
              "zoom_out_title"
            ],
            "zoom_out_text": "-"
          }
        },
        "f57b42ec72f44e3298565a4cb52cdfc6": {
          "model_module": "jupyter-leaflet",
          "model_name": "LeafletScaleControlModel",
          "model_module_version": "^0.14.0",
          "state": {
            "_view_name": "LeafletScaleControlView",
            "_model_name": "LeafletScaleControlModel",
            "metric": true,
            "_view_module": "jupyter-leaflet",
            "_model_module_version": "^0.14.0",
            "max_width": 100,
            "_view_count": null,
            "_view_module_version": "^0.14.0",
            "update_when_idle": false,
            "position": "bottomleft",
            "imperial": true,
            "_model_module": "jupyter-leaflet",
            "options": [
              "imperial",
              "max_width",
              "metric",
              "position",
              "update_when_idle"
            ]
          }
        },
        "a5f5c52e03464b3684b2bca7424e535c": {
          "model_module": "jupyter-leaflet",
          "model_name": "LeafletFullScreenControlModel",
          "model_module_version": "^0.14.0",
          "state": {
            "_view_name": "LeafletFullScreenControlView",
            "_model_name": "LeafletFullScreenControlModel",
            "_view_module": "jupyter-leaflet",
            "_model_module_version": "^0.14.0",
            "_view_count": null,
            "_view_module_version": "^0.14.0",
            "position": "topleft",
            "_model_module": "jupyter-leaflet",
            "options": [
              "position"
            ]
          }
        },
        "6a07d3ec1dfa43f2bef18b156e66e4fc": {
          "model_module": "jupyter-leaflet",
          "model_name": "LeafletMeasureControlModel",
          "model_module_version": "^0.14.0",
          "state": {
            "_view_name": "LeafletMeasureControlView",
            "primary_area_unit": "acres",
            "capture_z_index": 10000,
            "secondary_area_unit": null,
            "primary_length_unit": "kilometers",
            "active_color": "orange",
            "_model_name": "LeafletMeasureControlModel",
            "popup_options": {
              "className": "leaflet-measure-resultpopup",
              "autoPanPadding": [
                10,
                10
              ]
            },
            "_view_module": "jupyter-leaflet",
            "_model_module_version": "^0.14.0",
            "_view_count": null,
            "_view_module_version": "^0.14.0",
            "secondary_length_unit": null,
            "completed_color": "#C8F2BE",
            "position": "bottomleft",
            "_model_module": "jupyter-leaflet",
            "options": [
              "active_color",
              "capture_z_index",
              "completed_color",
              "popup_options",
              "position",
              "primary_area_unit",
              "primary_length_unit",
              "secondary_area_unit",
              "secondary_length_unit"
            ],
            "_custom_units": {}
          }
        },
        "1b17d3dc1e794d8abe5fb5c1e2bc9a0b": {
          "model_module": "jupyter-leaflet",
          "model_name": "LeafletAttributionControlModel",
          "model_module_version": "^0.14.0",
          "state": {
            "_view_name": "LeafletAttributionControlView",
            "prefix": "ipyleaflet",
            "_model_name": "LeafletAttributionControlModel",
            "_view_module": "jupyter-leaflet",
            "_model_module_version": "^0.14.0",
            "_view_count": null,
            "_view_module_version": "^0.14.0",
            "position": "bottomright",
            "_model_module": "jupyter-leaflet",
            "options": [
              "position",
              "prefix"
            ]
          }
        },
        "8ebf6dae07a644cd8b7be01317b71a2c": {
          "model_module": "jupyter-leaflet",
          "model_name": "LeafletDrawControlModel",
          "model_module_version": "^0.14.0",
          "state": {
            "_view_name": "LeafletDrawControlView",
            "polygon": {
              "shapeOptions": {}
            },
            "circlemarker": {},
            "_model_name": "LeafletDrawControlModel",
            "edit": true,
            "data": [],
            "_view_module": "jupyter-leaflet",
            "_model_module_version": "^0.14.0",
            "remove": true,
            "_view_count": null,
            "_view_module_version": "^0.14.0",
            "polyline": {
              "shapeOptions": {}
            },
            "marker": {
              "shapeOptions": {
                "color": "#3388ff"
              }
            },
            "position": "topleft",
            "circle": {
              "shapeOptions": {
                "color": "#3388ff"
              }
            },
            "_model_module": "jupyter-leaflet",
            "options": [
              "position"
            ],
            "rectangle": {
              "shapeOptions": {
                "color": "#3388ff"
              }
            }
          }
        },
        "02f0c10997e64a73a8fe3a01e8c48b1f": {
          "model_module": "jupyter-leaflet",
          "model_name": "LeafletWidgetControlModel",
          "model_module_version": "^0.14.0",
          "state": {
            "_view_name": "LeafletWidgetControlView",
            "widget": "IPY_MODEL_e19fc4c3fe3f4324a600e1a8f400c1cc",
            "_model_name": "LeafletWidgetControlModel",
            "_view_module": "jupyter-leaflet",
            "_model_module_version": "^0.14.0",
            "max_height": null,
            "_view_count": null,
            "min_height": null,
            "_view_module_version": "^0.14.0",
            "max_width": null,
            "transparent_bg": false,
            "min_width": null,
            "position": "topright",
            "_model_module": "jupyter-leaflet",
            "options": [
              "position",
              "transparent_bg"
            ]
          }
        },
        "03e7072fb8244f9f92598bbf0e520ff1": {
          "model_module": "jupyter-leaflet",
          "model_name": "LeafletMapStyleModel",
          "model_module_version": "^0.14.0",
          "state": {
            "_view_name": "StyleView",
            "_model_name": "LeafletMapStyleModel",
            "_view_module": "@jupyter-widgets/base",
            "_model_module_version": "^0.14.0",
            "_view_count": null,
            "cursor": "grab",
            "_view_module_version": "1.2.0",
            "_model_module": "jupyter-leaflet"
          }
        },
        "495ea0b4d2cb430392184401caad06fa": {
          "model_module": "jupyter-leaflet",
          "model_name": "LeafletTileLayerModel",
          "model_module_version": "^0.14.0",
          "state": {
            "_view_name": "LeafletTileLayerView",
            "_view_module": "jupyter-leaflet",
            "max_zoom": 19,
            "_model_module_version": "^0.14.0",
            "_view_count": null,
            "visible": true,
            "min_zoom": 1,
            "tms": false,
            "_model_module": "jupyter-leaflet",
            "loading": false,
            "bottom": true,
            "no_wrap": false,
            "tile_size": 256,
            "popup_min_width": 50,
            "opacity": 1,
            "popup": null,
            "attribution": "Map data (c) <a href=\"https://openstreetmap.org\">OpenStreetMap</a> contributors",
            "_model_name": "LeafletTileLayerModel",
            "max_native_zoom": 18,
            "base": true,
            "min_native_zoom": 0,
            "show_loading": false,
            "name": "",
            "url": "https://{s}.tile.openstreetmap.org/{z}/{x}/{y}.png",
            "popup_max_height": null,
            "popup_max_width": 300,
            "detect_retina": false,
            "_view_module_version": "^0.14.0",
            "options": [
              "attribution",
              "detect_retina",
              "max_native_zoom",
              "max_zoom",
              "min_native_zoom",
              "min_zoom",
              "no_wrap",
              "tile_size",
              "tms"
            ]
          }
        },
        "22a56f0db1f84ac393fbd0bc94980825": {
          "model_module": "jupyter-leaflet",
          "model_name": "LeafletTileLayerModel",
          "model_module_version": "^0.14.0",
          "state": {
            "_view_name": "LeafletTileLayerView",
            "_view_module": "jupyter-leaflet",
            "max_zoom": 18,
            "_model_module_version": "^0.14.0",
            "_view_count": null,
            "visible": true,
            "min_zoom": 0,
            "tms": false,
            "_model_module": "jupyter-leaflet",
            "loading": false,
            "bottom": true,
            "no_wrap": false,
            "tile_size": 256,
            "popup_min_width": 50,
            "opacity": 1,
            "popup": null,
            "attribution": "Google",
            "_model_name": "LeafletTileLayerModel",
            "max_native_zoom": 18,
            "base": false,
            "min_native_zoom": 0,
            "show_loading": false,
            "name": "Google Maps",
            "url": "https://mt1.google.com/vt/lyrs=m&x={x}&y={y}&z={z}",
            "popup_max_height": null,
            "popup_max_width": 300,
            "detect_retina": false,
            "_view_module_version": "^0.14.0",
            "options": [
              "attribution",
              "detect_retina",
              "max_native_zoom",
              "max_zoom",
              "min_native_zoom",
              "min_zoom",
              "no_wrap",
              "tile_size",
              "tms"
            ]
          }
        },
        "b2f27bb5dd7542d798e0452fb1d5a209": {
          "model_module": "jupyter-leaflet",
          "model_name": "LeafletTileLayerModel",
          "model_module_version": "^0.14.0",
          "state": {
            "_view_name": "LeafletTileLayerView",
            "_view_module": "jupyter-leaflet",
            "max_zoom": 18,
            "_model_module_version": "^0.14.0",
            "_view_count": null,
            "visible": true,
            "min_zoom": 0,
            "tms": false,
            "_model_module": "jupyter-leaflet",
            "loading": false,
            "bottom": true,
            "no_wrap": false,
            "tile_size": 256,
            "popup_min_width": 50,
            "opacity": 1,
            "popup": null,
            "attribution": "Google",
            "_model_name": "LeafletTileLayerModel",
            "max_native_zoom": 18,
            "base": false,
            "min_native_zoom": 0,
            "show_loading": false,
            "name": "Google Satellite",
            "url": "https://mt1.google.com/vt/lyrs=s&x={x}&y={y}&z={z}",
            "popup_max_height": null,
            "popup_max_width": 300,
            "detect_retina": false,
            "_view_module_version": "^0.14.0",
            "options": [
              "attribution",
              "detect_retina",
              "max_native_zoom",
              "max_zoom",
              "min_native_zoom",
              "min_zoom",
              "no_wrap",
              "tile_size",
              "tms"
            ]
          }
        },
        "c2cf99281f5545c296b13ad6b405a7b8": {
          "model_module": "jupyter-leaflet",
          "model_name": "LeafletTileLayerModel",
          "model_module_version": "^0.14.0",
          "state": {
            "_view_name": "LeafletTileLayerView",
            "_view_module": "jupyter-leaflet",
            "max_zoom": 18,
            "_model_module_version": "^0.14.0",
            "_view_count": null,
            "visible": true,
            "min_zoom": 0,
            "tms": false,
            "_model_module": "jupyter-leaflet",
            "loading": false,
            "bottom": true,
            "no_wrap": false,
            "tile_size": 256,
            "popup_min_width": 50,
            "opacity": 1,
            "popup": null,
            "attribution": "Google Earth Engine",
            "_model_name": "LeafletTileLayerModel",
            "max_native_zoom": 18,
            "base": false,
            "min_native_zoom": 0,
            "show_loading": false,
            "name": "Landsat-8",
            "url": "https://earthengine.googleapis.com/v1alpha/projects/earthengine-legacy/maps/ad95dc5512bd394212956a6c68493105-792d1c9866f44c9c1b9d039688593249/tiles/{z}/{x}/{y}",
            "popup_max_height": null,
            "popup_max_width": 300,
            "detect_retina": false,
            "_view_module_version": "^0.14.0",
            "options": [
              "attribution",
              "detect_retina",
              "max_native_zoom",
              "max_zoom",
              "min_native_zoom",
              "min_zoom",
              "no_wrap",
              "tile_size",
              "tms"
            ]
          }
        },
        "5f140f1920464b59b5a203860c5bdb99": {
          "model_module": "jupyter-leaflet",
          "model_name": "LeafletMapStyleModel",
          "model_module_version": "^0.14.0",
          "state": {
            "_view_name": "StyleView",
            "_model_name": "LeafletMapStyleModel",
            "_view_module": "@jupyter-widgets/base",
            "_model_module_version": "^0.14.0",
            "_view_count": null,
            "cursor": "move",
            "_view_module_version": "1.2.0",
            "_model_module": "jupyter-leaflet"
          }
        },
        "a5c1d0d5c3cf4ca1a9ffb2c95766be23": {
          "model_module": "@jupyter-widgets/controls",
          "model_name": "HBoxModel",
          "model_module_version": "1.5.0",
          "state": {
            "_view_name": "HBoxView",
            "_dom_classes": [],
            "_model_name": "HBoxModel",
            "_view_module": "@jupyter-widgets/controls",
            "_model_module_version": "1.5.0",
            "_view_count": null,
            "_view_module_version": "1.5.0",
            "box_style": "",
            "layout": "IPY_MODEL_b330d129ac254236bc00d2240018ed61",
            "_model_module": "@jupyter-widgets/controls",
            "children": [
              "IPY_MODEL_c1543c76726946ca9fd4a928b47b67d7"
            ]
          }
        },
        "e19fc4c3fe3f4324a600e1a8f400c1cc": {
          "model_module": "@jupyter-widgets/controls",
          "model_name": "VBoxModel",
          "model_module_version": "1.5.0",
          "state": {
            "_view_name": "VBoxView",
            "_dom_classes": [],
            "_model_name": "VBoxModel",
            "_view_module": "@jupyter-widgets/controls",
            "_model_module_version": "1.5.0",
            "_view_count": null,
            "_view_module_version": "1.5.0",
            "box_style": "",
            "layout": "IPY_MODEL_f7c196ca93a34369b8c02dc5464d293c",
            "_model_module": "@jupyter-widgets/controls",
            "children": [
              "IPY_MODEL_37f0198472994fc092690fb1993b545e"
            ]
          }
        },
        "b330d129ac254236bc00d2240018ed61": {
          "model_module": "@jupyter-widgets/base",
          "model_name": "LayoutModel",
          "model_module_version": "1.2.0",
          "state": {
            "_view_name": "LayoutView",
            "grid_template_rows": null,
            "right": null,
            "justify_content": null,
            "_view_module": "@jupyter-widgets/base",
            "overflow": null,
            "_model_module_version": "1.2.0",
            "_view_count": null,
            "flex_flow": null,
            "width": null,
            "min_width": null,
            "border": null,
            "align_items": null,
            "bottom": null,
            "_model_module": "@jupyter-widgets/base",
            "top": null,
            "grid_column": null,
            "overflow_y": null,
            "overflow_x": null,
            "grid_auto_flow": null,
            "grid_area": null,
            "grid_template_columns": null,
            "flex": null,
            "_model_name": "LayoutModel",
            "justify_items": null,
            "grid_row": null,
            "max_height": null,
            "align_content": null,
            "visibility": null,
            "align_self": null,
            "height": null,
            "min_height": null,
            "padding": null,
            "grid_auto_rows": null,
            "grid_gap": null,
            "max_width": null,
            "order": null,
            "_view_module_version": "1.2.0",
            "grid_template_areas": null,
            "object_position": null,
            "object_fit": null,
            "grid_auto_columns": null,
            "margin": null,
            "display": null,
            "left": null
          }
        },
        "c1543c76726946ca9fd4a928b47b67d7": {
          "model_module": "@jupyter-widgets/controls",
          "model_name": "ToggleButtonModel",
          "model_module_version": "1.5.0",
          "state": {
            "_view_name": "ToggleButtonView",
            "style": "IPY_MODEL_f05dc708e9b44b459db9d1007b66d96b",
            "_dom_classes": [],
            "description": "",
            "_model_name": "ToggleButtonModel",
            "button_style": "",
            "_view_module": "@jupyter-widgets/controls",
            "_model_module_version": "1.5.0",
            "tooltip": "Search location/data",
            "_view_count": null,
            "disabled": false,
            "_view_module_version": "1.5.0",
            "value": false,
            "description_tooltip": null,
            "_model_module": "@jupyter-widgets/controls",
            "layout": "IPY_MODEL_776d57771f7742f1814d9f6f19329b4c",
            "icon": "globe"
          }
        },
        "f7c196ca93a34369b8c02dc5464d293c": {
          "model_module": "@jupyter-widgets/base",
          "model_name": "LayoutModel",
          "model_module_version": "1.2.0",
          "state": {
            "_view_name": "LayoutView",
            "grid_template_rows": null,
            "right": null,
            "justify_content": null,
            "_view_module": "@jupyter-widgets/base",
            "overflow": null,
            "_model_module_version": "1.2.0",
            "_view_count": null,
            "flex_flow": null,
            "width": null,
            "min_width": null,
            "border": null,
            "align_items": null,
            "bottom": null,
            "_model_module": "@jupyter-widgets/base",
            "top": null,
            "grid_column": null,
            "overflow_y": null,
            "overflow_x": null,
            "grid_auto_flow": null,
            "grid_area": null,
            "grid_template_columns": null,
            "flex": null,
            "_model_name": "LayoutModel",
            "justify_items": null,
            "grid_row": null,
            "max_height": null,
            "align_content": null,
            "visibility": null,
            "align_self": null,
            "height": null,
            "min_height": null,
            "padding": null,
            "grid_auto_rows": null,
            "grid_gap": null,
            "max_width": null,
            "order": null,
            "_view_module_version": "1.2.0",
            "grid_template_areas": null,
            "object_position": null,
            "object_fit": null,
            "grid_auto_columns": null,
            "margin": null,
            "display": null,
            "left": null
          }
        },
        "37f0198472994fc092690fb1993b545e": {
          "model_module": "@jupyter-widgets/controls",
          "model_name": "ToggleButtonModel",
          "model_module_version": "1.5.0",
          "state": {
            "_view_name": "ToggleButtonView",
            "style": "IPY_MODEL_0637dea2819c41f6a64037cf991c698a",
            "_dom_classes": [],
            "description": "",
            "_model_name": "ToggleButtonModel",
            "button_style": "",
            "_view_module": "@jupyter-widgets/controls",
            "_model_module_version": "1.5.0",
            "tooltip": "Toolbar",
            "_view_count": null,
            "disabled": false,
            "_view_module_version": "1.5.0",
            "value": false,
            "description_tooltip": null,
            "_model_module": "@jupyter-widgets/controls",
            "layout": "IPY_MODEL_80fa32a2c0da4b8394be8aba904309bc",
            "icon": "wrench"
          }
        },
        "f05dc708e9b44b459db9d1007b66d96b": {
          "model_module": "@jupyter-widgets/controls",
          "model_name": "DescriptionStyleModel",
          "model_module_version": "1.5.0",
          "state": {
            "_view_name": "StyleView",
            "_model_name": "DescriptionStyleModel",
            "description_width": "",
            "_view_module": "@jupyter-widgets/base",
            "_model_module_version": "1.5.0",
            "_view_count": null,
            "_view_module_version": "1.2.0",
            "_model_module": "@jupyter-widgets/controls"
          }
        },
        "776d57771f7742f1814d9f6f19329b4c": {
          "model_module": "@jupyter-widgets/base",
          "model_name": "LayoutModel",
          "model_module_version": "1.2.0",
          "state": {
            "_view_name": "LayoutView",
            "grid_template_rows": null,
            "right": null,
            "justify_content": null,
            "_view_module": "@jupyter-widgets/base",
            "overflow": null,
            "_model_module_version": "1.2.0",
            "_view_count": null,
            "flex_flow": null,
            "width": "28px",
            "min_width": null,
            "border": null,
            "align_items": null,
            "bottom": null,
            "_model_module": "@jupyter-widgets/base",
            "top": null,
            "grid_column": null,
            "overflow_y": null,
            "overflow_x": null,
            "grid_auto_flow": null,
            "grid_area": null,
            "grid_template_columns": null,
            "flex": null,
            "_model_name": "LayoutModel",
            "justify_items": null,
            "grid_row": null,
            "max_height": null,
            "align_content": null,
            "visibility": null,
            "align_self": null,
            "height": "28px",
            "min_height": null,
            "padding": "0px 0px 0px 4px",
            "grid_auto_rows": null,
            "grid_gap": null,
            "max_width": null,
            "order": null,
            "_view_module_version": "1.2.0",
            "grid_template_areas": null,
            "object_position": null,
            "object_fit": null,
            "grid_auto_columns": null,
            "margin": null,
            "display": null,
            "left": null
          }
        },
        "0637dea2819c41f6a64037cf991c698a": {
          "model_module": "@jupyter-widgets/controls",
          "model_name": "DescriptionStyleModel",
          "model_module_version": "1.5.0",
          "state": {
            "_view_name": "StyleView",
            "_model_name": "DescriptionStyleModel",
            "description_width": "",
            "_view_module": "@jupyter-widgets/base",
            "_model_module_version": "1.5.0",
            "_view_count": null,
            "_view_module_version": "1.2.0",
            "_model_module": "@jupyter-widgets/controls"
          }
        },
        "80fa32a2c0da4b8394be8aba904309bc": {
          "model_module": "@jupyter-widgets/base",
          "model_name": "LayoutModel",
          "model_module_version": "1.2.0",
          "state": {
            "_view_name": "LayoutView",
            "grid_template_rows": null,
            "right": null,
            "justify_content": null,
            "_view_module": "@jupyter-widgets/base",
            "overflow": null,
            "_model_module_version": "1.2.0",
            "_view_count": null,
            "flex_flow": null,
            "width": "28px",
            "min_width": null,
            "border": null,
            "align_items": null,
            "bottom": null,
            "_model_module": "@jupyter-widgets/base",
            "top": null,
            "grid_column": null,
            "overflow_y": null,
            "overflow_x": null,
            "grid_auto_flow": null,
            "grid_area": null,
            "grid_template_columns": null,
            "flex": null,
            "_model_name": "LayoutModel",
            "justify_items": null,
            "grid_row": null,
            "max_height": null,
            "align_content": null,
            "visibility": null,
            "align_self": null,
            "height": "28px",
            "min_height": null,
            "padding": "0px 0px 0px 4px",
            "grid_auto_rows": null,
            "grid_gap": null,
            "max_width": null,
            "order": null,
            "_view_module_version": "1.2.0",
            "grid_template_areas": null,
            "object_position": null,
            "object_fit": null,
            "grid_auto_columns": null,
            "margin": null,
            "display": null,
            "left": null
          }
        }
      }
    }
  },
  "cells": [
    {
      "cell_type": "markdown",
      "metadata": {
        "id": "view-in-github",
        "colab_type": "text"
      },
      "source": [
        "<a href=\"https://colab.research.google.com/github/mgamzec/GeoPython/blob/main/Landsat8_supervised.ipynb\" target=\"_parent\"><img src=\"https://colab.research.google.com/assets/colab-badge.svg\" alt=\"Open In Colab\"/></a>"
      ]
    },
    {
      "cell_type": "code",
      "metadata": {
        "id": "Um-988R6aGnm"
      },
      "source": [],
      "execution_count": null,
      "outputs": []
    },
    {
      "cell_type": "code",
      "metadata": {
        "id": "TA3ZFz3VaJjJ",
        "colab": {
          "base_uri": "https://localhost:8080/"
        },
        "outputId": "2ec79583-e45b-4047-8547-b461168c5fa6"
      },
      "source": [
        "!pip install geemap"
      ],
      "execution_count": null,
      "outputs": [
        {
          "output_type": "stream",
          "name": "stdout",
          "text": [
            "Requirement already satisfied: geemap in /usr/local/lib/python3.7/dist-packages (0.9.2)\n",
            "Requirement already satisfied: googledrivedownloader in /usr/local/lib/python3.7/dist-packages (from geemap) (0.4)\n",
            "Requirement already satisfied: mss in /usr/local/lib/python3.7/dist-packages (from geemap) (6.1.0)\n",
            "Requirement already satisfied: folium>=0.11.0 in /usr/local/lib/python3.7/dist-packages (from geemap) (0.12.1)\n",
            "Requirement already satisfied: geocoder in /usr/local/lib/python3.7/dist-packages (from geemap) (1.38.1)\n",
            "Requirement already satisfied: ipynb-py-convert in /usr/local/lib/python3.7/dist-packages (from geemap) (0.4.6)\n",
            "Requirement already satisfied: pandas in /usr/local/lib/python3.7/dist-packages (from geemap) (1.1.5)\n",
            "Requirement already satisfied: sankee in /usr/local/lib/python3.7/dist-packages (from geemap) (0.0.5)\n",
            "Requirement already satisfied: bqplot in /usr/local/lib/python3.7/dist-packages (from geemap) (0.12.31)\n",
            "Requirement already satisfied: colour in /usr/local/lib/python3.7/dist-packages (from geemap) (0.1.5)\n",
            "Requirement already satisfied: whiteboxgui>=0.6.0 in /usr/local/lib/python3.7/dist-packages (from geemap) (0.6.0)\n",
            "Requirement already satisfied: ffmpeg-python in /usr/local/lib/python3.7/dist-packages (from geemap) (0.2.0)\n",
            "Requirement already satisfied: numpy in /usr/local/lib/python3.7/dist-packages (from geemap) (1.19.5)\n",
            "Requirement already satisfied: earthengine-api>=0.1.230 in /usr/local/lib/python3.7/dist-packages (from geemap) (0.1.284)\n",
            "Requirement already satisfied: matplotlib in /usr/local/lib/python3.7/dist-packages (from geemap) (3.2.2)\n",
            "Requirement already satisfied: pyshp>=2.1.3 in /usr/local/lib/python3.7/dist-packages (from geemap) (2.1.3)\n",
            "Requirement already satisfied: pycrs in /usr/local/lib/python3.7/dist-packages (from geemap) (1.0.2)\n",
            "Requirement already satisfied: ipyevents in /usr/local/lib/python3.7/dist-packages (from geemap) (2.0.1)\n",
            "Requirement already satisfied: pillow in /usr/local/lib/python3.7/dist-packages (from geemap) (7.1.2)\n",
            "Requirement already satisfied: python-box in /usr/local/lib/python3.7/dist-packages (from geemap) (5.4.1)\n",
            "Requirement already satisfied: geeadd>=0.5.1 in /usr/local/lib/python3.7/dist-packages (from geemap) (0.5.5)\n",
            "Requirement already satisfied: click in /usr/local/lib/python3.7/dist-packages (from geemap) (7.1.2)\n",
            "Requirement already satisfied: geojson in /usr/local/lib/python3.7/dist-packages (from geemap) (2.5.0)\n",
            "Requirement already satisfied: voila in /usr/local/lib/python3.7/dist-packages (from geemap) (0.2.16)\n",
            "Requirement already satisfied: ipyfilechooser>=0.6.0 in /usr/local/lib/python3.7/dist-packages (from geemap) (0.6.0)\n",
            "Requirement already satisfied: ipyleaflet>=0.14.0 in /usr/local/lib/python3.7/dist-packages (from geemap) (0.14.0)\n",
            "Requirement already satisfied: ipytree in /usr/local/lib/python3.7/dist-packages (from geemap) (0.2.1)\n",
            "Requirement already satisfied: google-api-python-client<2,>=1.12.1 in /usr/local/lib/python3.7/dist-packages (from earthengine-api>=0.1.230->geemap) (1.12.8)\n",
            "Requirement already satisfied: httplib2shim in /usr/local/lib/python3.7/dist-packages (from earthengine-api>=0.1.230->geemap) (0.0.3)\n",
            "Requirement already satisfied: google-auth-httplib2>=0.0.3 in /usr/local/lib/python3.7/dist-packages (from earthengine-api>=0.1.230->geemap) (0.0.4)\n",
            "Requirement already satisfied: httplib2<1dev,>=0.9.2 in /usr/local/lib/python3.7/dist-packages (from earthengine-api>=0.1.230->geemap) (0.17.4)\n",
            "Requirement already satisfied: six in /usr/local/lib/python3.7/dist-packages (from earthengine-api>=0.1.230->geemap) (1.15.0)\n",
            "Requirement already satisfied: google-cloud-storage in /usr/local/lib/python3.7/dist-packages (from earthengine-api>=0.1.230->geemap) (1.18.1)\n",
            "Requirement already satisfied: future in /usr/local/lib/python3.7/dist-packages (from earthengine-api>=0.1.230->geemap) (0.16.0)\n",
            "Requirement already satisfied: google-auth>=1.4.1 in /usr/local/lib/python3.7/dist-packages (from earthengine-api>=0.1.230->geemap) (1.35.0)\n",
            "Requirement already satisfied: jinja2>=2.9 in /usr/local/lib/python3.7/dist-packages (from folium>=0.11.0->geemap) (2.11.3)\n",
            "Requirement already satisfied: branca>=0.3.0 in /usr/local/lib/python3.7/dist-packages (from folium>=0.11.0->geemap) (0.4.2)\n",
            "Requirement already satisfied: requests in /usr/local/lib/python3.7/dist-packages (from folium>=0.11.0->geemap) (2.23.0)\n",
            "Requirement already satisfied: logzero>=1.5.0 in /usr/local/lib/python3.7/dist-packages (from geeadd>=0.5.1->geemap) (1.7.0)\n",
            "Requirement already satisfied: beautifulsoup4>=4.9.0 in /usr/local/lib/python3.7/dist-packages (from geeadd>=0.5.1->geemap) (4.10.0)\n",
            "Requirement already satisfied: soupsieve>1.2 in /usr/local/lib/python3.7/dist-packages (from beautifulsoup4>=4.9.0->geeadd>=0.5.1->geemap) (2.2.1)\n",
            "Requirement already satisfied: uritemplate<4dev,>=3.0.0 in /usr/local/lib/python3.7/dist-packages (from google-api-python-client<2,>=1.12.1->earthengine-api>=0.1.230->geemap) (3.0.1)\n",
            "Requirement already satisfied: google-api-core<2dev,>=1.21.0 in /usr/local/lib/python3.7/dist-packages (from google-api-python-client<2,>=1.12.1->earthengine-api>=0.1.230->geemap) (1.26.3)\n",
            "Requirement already satisfied: protobuf>=3.12.0 in /usr/local/lib/python3.7/dist-packages (from google-api-core<2dev,>=1.21.0->google-api-python-client<2,>=1.12.1->earthengine-api>=0.1.230->geemap) (3.17.3)\n",
            "Requirement already satisfied: packaging>=14.3 in /usr/local/lib/python3.7/dist-packages (from google-api-core<2dev,>=1.21.0->google-api-python-client<2,>=1.12.1->earthengine-api>=0.1.230->geemap) (21.0)\n",
            "Requirement already satisfied: setuptools>=40.3.0 in /usr/local/lib/python3.7/dist-packages (from google-api-core<2dev,>=1.21.0->google-api-python-client<2,>=1.12.1->earthengine-api>=0.1.230->geemap) (57.4.0)\n",
            "Requirement already satisfied: pytz in /usr/local/lib/python3.7/dist-packages (from google-api-core<2dev,>=1.21.0->google-api-python-client<2,>=1.12.1->earthengine-api>=0.1.230->geemap) (2018.9)\n",
            "Requirement already satisfied: googleapis-common-protos<2.0dev,>=1.6.0 in /usr/local/lib/python3.7/dist-packages (from google-api-core<2dev,>=1.21.0->google-api-python-client<2,>=1.12.1->earthengine-api>=0.1.230->geemap) (1.53.0)\n",
            "Requirement already satisfied: pyasn1-modules>=0.2.1 in /usr/local/lib/python3.7/dist-packages (from google-auth>=1.4.1->earthengine-api>=0.1.230->geemap) (0.2.8)\n",
            "Requirement already satisfied: cachetools<5.0,>=2.0.0 in /usr/local/lib/python3.7/dist-packages (from google-auth>=1.4.1->earthengine-api>=0.1.230->geemap) (4.2.4)\n",
            "Requirement already satisfied: rsa<5,>=3.1.4 in /usr/local/lib/python3.7/dist-packages (from google-auth>=1.4.1->earthengine-api>=0.1.230->geemap) (4.7.2)\n",
            "Requirement already satisfied: ipywidgets in /usr/local/lib/python3.7/dist-packages (from ipyfilechooser>=0.6.0->geemap) (7.6.5)\n",
            "Requirement already satisfied: traittypes<3,>=0.2.1 in /usr/local/lib/python3.7/dist-packages (from ipyleaflet>=0.14.0->geemap) (0.2.1)\n",
            "Requirement already satisfied: nbformat>=4.2.0 in /usr/local/lib/python3.7/dist-packages (from ipywidgets->ipyfilechooser>=0.6.0->geemap) (5.1.3)\n",
            "Requirement already satisfied: jupyterlab-widgets>=1.0.0 in /usr/local/lib/python3.7/dist-packages (from ipywidgets->ipyfilechooser>=0.6.0->geemap) (1.0.2)\n",
            "Requirement already satisfied: traitlets>=4.3.1 in /usr/local/lib/python3.7/dist-packages (from ipywidgets->ipyfilechooser>=0.6.0->geemap) (5.1.0)\n",
            "Requirement already satisfied: ipython>=4.0.0 in /usr/local/lib/python3.7/dist-packages (from ipywidgets->ipyfilechooser>=0.6.0->geemap) (5.5.0)\n",
            "Requirement already satisfied: ipykernel>=4.5.1 in /usr/local/lib/python3.7/dist-packages (from ipywidgets->ipyfilechooser>=0.6.0->geemap) (4.10.1)\n",
            "Requirement already satisfied: widgetsnbextension~=3.5.0 in /usr/local/lib/python3.7/dist-packages (from ipywidgets->ipyfilechooser>=0.6.0->geemap) (3.5.1)\n",
            "Requirement already satisfied: ipython-genutils~=0.2.0 in /usr/local/lib/python3.7/dist-packages (from ipywidgets->ipyfilechooser>=0.6.0->geemap) (0.2.0)\n",
            "Requirement already satisfied: jupyter-client in /usr/local/lib/python3.7/dist-packages (from ipykernel>=4.5.1->ipywidgets->ipyfilechooser>=0.6.0->geemap) (6.1.12)\n",
            "Requirement already satisfied: tornado>=4.0 in /usr/local/lib/python3.7/dist-packages (from ipykernel>=4.5.1->ipywidgets->ipyfilechooser>=0.6.0->geemap) (6.1)\n",
            "Requirement already satisfied: pygments in /usr/local/lib/python3.7/dist-packages (from ipython>=4.0.0->ipywidgets->ipyfilechooser>=0.6.0->geemap) (2.6.1)\n",
            "Requirement already satisfied: simplegeneric>0.8 in /usr/local/lib/python3.7/dist-packages (from ipython>=4.0.0->ipywidgets->ipyfilechooser>=0.6.0->geemap) (0.8.1)\n",
            "Requirement already satisfied: prompt-toolkit<2.0.0,>=1.0.4 in /usr/local/lib/python3.7/dist-packages (from ipython>=4.0.0->ipywidgets->ipyfilechooser>=0.6.0->geemap) (1.0.18)\n",
            "Requirement already satisfied: pexpect in /usr/local/lib/python3.7/dist-packages (from ipython>=4.0.0->ipywidgets->ipyfilechooser>=0.6.0->geemap) (4.8.0)\n",
            "Requirement already satisfied: pickleshare in /usr/local/lib/python3.7/dist-packages (from ipython>=4.0.0->ipywidgets->ipyfilechooser>=0.6.0->geemap) (0.7.5)\n",
            "Requirement already satisfied: decorator in /usr/local/lib/python3.7/dist-packages (from ipython>=4.0.0->ipywidgets->ipyfilechooser>=0.6.0->geemap) (4.4.2)\n",
            "Requirement already satisfied: MarkupSafe>=0.23 in /usr/local/lib/python3.7/dist-packages (from jinja2>=2.9->folium>=0.11.0->geemap) (2.0.1)\n",
            "Requirement already satisfied: jsonschema!=2.5.0,>=2.4 in /usr/local/lib/python3.7/dist-packages (from nbformat>=4.2.0->ipywidgets->ipyfilechooser>=0.6.0->geemap) (2.6.0)\n",
            "Requirement already satisfied: jupyter-core in /usr/local/lib/python3.7/dist-packages (from nbformat>=4.2.0->ipywidgets->ipyfilechooser>=0.6.0->geemap) (4.8.1)\n",
            "Requirement already satisfied: pyparsing>=2.0.2 in /usr/local/lib/python3.7/dist-packages (from packaging>=14.3->google-api-core<2dev,>=1.21.0->google-api-python-client<2,>=1.12.1->earthengine-api>=0.1.230->geemap) (2.4.7)\n",
            "Requirement already satisfied: wcwidth in /usr/local/lib/python3.7/dist-packages (from prompt-toolkit<2.0.0,>=1.0.4->ipython>=4.0.0->ipywidgets->ipyfilechooser>=0.6.0->geemap) (0.2.5)\n",
            "Requirement already satisfied: pyasn1<0.5.0,>=0.4.6 in /usr/local/lib/python3.7/dist-packages (from pyasn1-modules>=0.2.1->google-auth>=1.4.1->earthengine-api>=0.1.230->geemap) (0.4.8)\n",
            "Requirement already satisfied: urllib3!=1.25.0,!=1.25.1,<1.26,>=1.21.1 in /usr/local/lib/python3.7/dist-packages (from requests->folium>=0.11.0->geemap) (1.24.3)\n",
            "Requirement already satisfied: certifi>=2017.4.17 in /usr/local/lib/python3.7/dist-packages (from requests->folium>=0.11.0->geemap) (2021.5.30)\n",
            "Requirement already satisfied: idna<3,>=2.5 in /usr/local/lib/python3.7/dist-packages (from requests->folium>=0.11.0->geemap) (2.10)\n",
            "Requirement already satisfied: chardet<4,>=3.0.2 in /usr/local/lib/python3.7/dist-packages (from requests->folium>=0.11.0->geemap) (3.0.4)\n",
            "Requirement already satisfied: whitebox in /usr/local/lib/python3.7/dist-packages (from whiteboxgui>=0.6.0->geemap) (2.0.3)\n",
            "Requirement already satisfied: notebook>=4.4.1 in /usr/local/lib/python3.7/dist-packages (from widgetsnbextension~=3.5.0->ipywidgets->ipyfilechooser>=0.6.0->geemap) (5.3.1)\n",
            "Requirement already satisfied: Send2Trash in /usr/local/lib/python3.7/dist-packages (from notebook>=4.4.1->widgetsnbextension~=3.5.0->ipywidgets->ipyfilechooser>=0.6.0->geemap) (1.8.0)\n",
            "Requirement already satisfied: nbconvert in /usr/local/lib/python3.7/dist-packages (from notebook>=4.4.1->widgetsnbextension~=3.5.0->ipywidgets->ipyfilechooser>=0.6.0->geemap) (6.2.0)\n",
            "Requirement already satisfied: terminado>=0.8.1 in /usr/local/lib/python3.7/dist-packages (from notebook>=4.4.1->widgetsnbextension~=3.5.0->ipywidgets->ipyfilechooser>=0.6.0->geemap) (0.12.1)\n",
            "Requirement already satisfied: pyzmq>=13 in /usr/local/lib/python3.7/dist-packages (from jupyter-client->ipykernel>=4.5.1->ipywidgets->ipyfilechooser>=0.6.0->geemap) (22.3.0)\n",
            "Requirement already satisfied: python-dateutil>=2.1 in /usr/local/lib/python3.7/dist-packages (from jupyter-client->ipykernel>=4.5.1->ipywidgets->ipyfilechooser>=0.6.0->geemap) (2.8.2)\n",
            "Requirement already satisfied: ptyprocess in /usr/local/lib/python3.7/dist-packages (from terminado>=0.8.1->notebook>=4.4.1->widgetsnbextension~=3.5.0->ipywidgets->ipyfilechooser>=0.6.0->geemap) (0.7.0)\n",
            "Requirement already satisfied: ratelim in /usr/local/lib/python3.7/dist-packages (from geocoder->geemap) (0.1.6)\n",
            "Requirement already satisfied: google-resumable-media<0.5.0dev,>=0.3.1 in /usr/local/lib/python3.7/dist-packages (from google-cloud-storage->earthengine-api>=0.1.230->geemap) (0.4.1)\n",
            "Requirement already satisfied: google-cloud-core<2.0dev,>=1.0.0 in /usr/local/lib/python3.7/dist-packages (from google-cloud-storage->earthengine-api>=0.1.230->geemap) (1.0.3)\n",
            "Requirement already satisfied: kiwisolver>=1.0.1 in /usr/local/lib/python3.7/dist-packages (from matplotlib->geemap) (1.3.2)\n",
            "Requirement already satisfied: cycler>=0.10 in /usr/local/lib/python3.7/dist-packages (from matplotlib->geemap) (0.10.0)\n",
            "Requirement already satisfied: pandocfilters>=1.4.1 in /usr/local/lib/python3.7/dist-packages (from nbconvert->notebook>=4.4.1->widgetsnbextension~=3.5.0->ipywidgets->ipyfilechooser>=0.6.0->geemap) (1.5.0)\n",
            "Requirement already satisfied: mistune<2,>=0.8.1 in /usr/local/lib/python3.7/dist-packages (from nbconvert->notebook>=4.4.1->widgetsnbextension~=3.5.0->ipywidgets->ipyfilechooser>=0.6.0->geemap) (0.8.4)\n",
            "Requirement already satisfied: nbclient<0.6.0,>=0.5.0 in /usr/local/lib/python3.7/dist-packages (from nbconvert->notebook>=4.4.1->widgetsnbextension~=3.5.0->ipywidgets->ipyfilechooser>=0.6.0->geemap) (0.5.4)\n",
            "Requirement already satisfied: testpath in /usr/local/lib/python3.7/dist-packages (from nbconvert->notebook>=4.4.1->widgetsnbextension~=3.5.0->ipywidgets->ipyfilechooser>=0.6.0->geemap) (0.5.0)\n",
            "Requirement already satisfied: defusedxml in /usr/local/lib/python3.7/dist-packages (from nbconvert->notebook>=4.4.1->widgetsnbextension~=3.5.0->ipywidgets->ipyfilechooser>=0.6.0->geemap) (0.7.1)\n",
            "Requirement already satisfied: bleach in /usr/local/lib/python3.7/dist-packages (from nbconvert->notebook>=4.4.1->widgetsnbextension~=3.5.0->ipywidgets->ipyfilechooser>=0.6.0->geemap) (4.1.0)\n",
            "Requirement already satisfied: jupyterlab-pygments in /usr/local/lib/python3.7/dist-packages (from nbconvert->notebook>=4.4.1->widgetsnbextension~=3.5.0->ipywidgets->ipyfilechooser>=0.6.0->geemap) (0.1.2)\n",
            "Requirement already satisfied: entrypoints>=0.2.2 in /usr/local/lib/python3.7/dist-packages (from nbconvert->notebook>=4.4.1->widgetsnbextension~=3.5.0->ipywidgets->ipyfilechooser>=0.6.0->geemap) (0.3)\n",
            "Requirement already satisfied: nest-asyncio in /usr/local/lib/python3.7/dist-packages (from nbclient<0.6.0,>=0.5.0->nbconvert->notebook>=4.4.1->widgetsnbextension~=3.5.0->ipywidgets->ipyfilechooser>=0.6.0->geemap) (1.5.1)\n",
            "Requirement already satisfied: webencodings in /usr/local/lib/python3.7/dist-packages (from bleach->nbconvert->notebook>=4.4.1->widgetsnbextension~=3.5.0->ipywidgets->ipyfilechooser>=0.6.0->geemap) (0.5.1)\n",
            "Requirement already satisfied: plotly in /usr/local/lib/python3.7/dist-packages (from sankee->geemap) (4.4.1)\n",
            "Requirement already satisfied: retrying>=1.3.3 in /usr/local/lib/python3.7/dist-packages (from plotly->sankee->geemap) (1.3.3)\n",
            "Requirement already satisfied: jupyter-server<2.0.0,>=0.3.0 in /usr/local/lib/python3.7/dist-packages (from voila->geemap) (1.11.1)\n",
            "Requirement already satisfied: websocket-client in /usr/local/lib/python3.7/dist-packages (from jupyter-server<2.0.0,>=0.3.0->voila->geemap) (1.2.1)\n",
            "Requirement already satisfied: prometheus-client in /usr/local/lib/python3.7/dist-packages (from jupyter-server<2.0.0,>=0.3.0->voila->geemap) (0.11.0)\n",
            "Requirement already satisfied: requests-unixsocket in /usr/local/lib/python3.7/dist-packages (from jupyter-server<2.0.0,>=0.3.0->voila->geemap) (0.2.0)\n",
            "Requirement already satisfied: anyio<4,>=3.1.0 in /usr/local/lib/python3.7/dist-packages (from jupyter-server<2.0.0,>=0.3.0->voila->geemap) (3.3.3)\n",
            "Requirement already satisfied: argon2-cffi in /usr/local/lib/python3.7/dist-packages (from jupyter-server<2.0.0,>=0.3.0->voila->geemap) (21.1.0)\n",
            "Requirement already satisfied: sniffio>=1.1 in /usr/local/lib/python3.7/dist-packages (from anyio<4,>=3.1.0->jupyter-server<2.0.0,>=0.3.0->voila->geemap) (1.2.0)\n",
            "Requirement already satisfied: typing-extensions in /usr/local/lib/python3.7/dist-packages (from anyio<4,>=3.1.0->jupyter-server<2.0.0,>=0.3.0->voila->geemap) (3.7.4.3)\n",
            "Requirement already satisfied: cffi>=1.0.0 in /usr/local/lib/python3.7/dist-packages (from argon2-cffi->jupyter-server<2.0.0,>=0.3.0->voila->geemap) (1.14.6)\n",
            "Requirement already satisfied: pycparser in /usr/local/lib/python3.7/dist-packages (from cffi>=1.0.0->argon2-cffi->jupyter-server<2.0.0,>=0.3.0->voila->geemap) (2.20)\n"
          ]
        }
      ]
    },
    {
      "cell_type": "code",
      "metadata": {
        "id": "_YZHqcte5d7j"
      },
      "source": [],
      "execution_count": null,
      "outputs": []
    },
    {
      "cell_type": "code",
      "metadata": {
        "id": "448arNBSaJnd"
      },
      "source": [],
      "execution_count": null,
      "outputs": []
    },
    {
      "cell_type": "code",
      "metadata": {
        "id": "Ru2Q8_araJrt",
        "colab": {
          "base_uri": "https://localhost:8080/"
        },
        "outputId": "c9e451de-6c45-4cce-c207-4fa1cb05a086"
      },
      "source": [
        "import ee\n",
        "\n",
        "# Trigger the authentication flow.\n",
        "ee.Authenticate()\n",
        "\n",
        "# Initialize the library.\n",
        "ee.Initialize()"
      ],
      "execution_count": null,
      "outputs": [
        {
          "output_type": "stream",
          "name": "stdout",
          "text": [
            "To authorize access needed by Earth Engine, open the following URL in a web browser and follow the instructions. If the web browser does not start automatically, please manually browse the URL below.\n",
            "\n",
            "    https://accounts.google.com/o/oauth2/auth?client_id=517222506229-vsmmajv00ul0bs7p89v5m89qs8eb9359.apps.googleusercontent.com&scope=https%3A%2F%2Fwww.googleapis.com%2Fauth%2Fearthengine+https%3A%2F%2Fwww.googleapis.com%2Fauth%2Fdevstorage.full_control&redirect_uri=urn%3Aietf%3Awg%3Aoauth%3A2.0%3Aoob&response_type=code&code_challenge=72g4AgHwHUgtx4HxRm38QrnBrYMMJBLi6cl4HnC-kMw&code_challenge_method=S256\n",
            "\n",
            "The authorization workflow will generate a code, which you should paste in the box below. \n",
            "Enter verification code: 4/1AX4XfWi40Q6mat_dWsHNH9OAsZUfZJqL7vgWGkzbzzPrrm_hpuZ3xFxMMoI\n",
            "\n",
            "Successfully saved authorization token.\n"
          ]
        }
      ]
    },
    {
      "cell_type": "code",
      "metadata": {
        "id": "RHDzwjPDaJv_"
      },
      "source": [],
      "execution_count": null,
      "outputs": []
    },
    {
      "cell_type": "code",
      "metadata": {
        "id": "ZfFRJp-ToiHf"
      },
      "source": [
        "import ee\n",
        "import geemap\n",
        "\n",
        "try:\n",
        "    ee.Initialize()\n",
        "except Exception as e:\n",
        "    ee.Authenticate()\n",
        "    ee.Initialize()\n"
      ],
      "execution_count": null,
      "outputs": []
    },
    {
      "cell_type": "code",
      "metadata": {
        "id": "CeH_KaeqH501"
      },
      "source": [],
      "execution_count": null,
      "outputs": []
    },
    {
      "cell_type": "code",
      "metadata": {
        "id": "HoAMEGY6H5_z"
      },
      "source": [
        "wdpa_polygon = ee.FeatureCollection('users/minervas_jojo_code/KHM_polygons')\n",
        "##https://code.earthengine.google.com/?asset=users/minervas_jojo_code/KHM_polygons\n",
        "\n",
        "\n",
        "# select the pa in cambodia\n",
        "khm = wdpa_polygon.filter(ee.Filter.eq('ISO3', 'KHM'))"
      ],
      "execution_count": null,
      "outputs": []
    },
    {
      "cell_type": "code",
      "metadata": {
        "colab": {
          "base_uri": "https://localhost:8080/"
        },
        "id": "tGIJkwGuPR5_",
        "outputId": "64a2cd63-693b-4d7f-c4f5-b6bbaafc5840"
      },
      "source": [
        "names = khm.aggregate_array(\"NAME\").getInfo()\n",
        "print(names)"
      ],
      "execution_count": null,
      "outputs": [
        {
          "output_type": "stream",
          "name": "stdout",
          "text": [
            "['Phnom Samkos', 'Samlaut', 'Roniem Daun sam III', 'Roniem Daun Sam II', 'Tonle Sap Biosphere', 'Central Cardamom Mountains', 'Southwest Elephant Corridor', 'Botum Sakor', 'Dong Peng', 'Koh Kapik and Associated Islets', 'Peam Krasop', 'Kbal Chay', 'Ream', 'Kep', 'Preah Monivong (Bokor)', 'Phnom Aural', 'Kirirom', 'Ta Moa', 'Trapeang Lpeou', 'Snoul', 'Seima', 'Phnom Prich', 'Beng Per', 'Boeng Tonle Chhmar', 'Boeng Chhmar and Associated River System and Floodplain', 'Stung Sen', 'Prek Toal Ramsar Site', 'Prek Toal', 'Angkor Wat', 'Phnom Kulen', 'Lour Kola Peach Borant Angkor', 'Kulen Promtep', 'Preah Vihear Temple', 'Preah Vihear', 'Lomphat', 'Middle Stretches of the Mekong River north of Stoeng Treng', 'Virachey', 'Banteay Chhmar', 'Ang Trapeng Thmor', 'Roniem Daun Sam I', 'Mondulkiri', 'Nsok', 'Pnom Namlear', 'Snoul']\n"
          ]
        }
      ]
    },
    {
      "cell_type": "code",
      "metadata": {
        "id": "PLqdC6D7PSCN"
      },
      "source": [
        "aoi = wdpa_polygon.filter(ee.Filter.eq('NAME', 'Phnom Kulen'))"
      ],
      "execution_count": null,
      "outputs": []
    },
    {
      "cell_type": "code",
      "metadata": {
        "id": "3bS465BMQtRe"
      },
      "source": [],
      "execution_count": null,
      "outputs": []
    },
    {
      "cell_type": "code",
      "metadata": {
        "colab": {
          "base_uri": "https://localhost:8080/",
          "height": 621,
          "referenced_widgets": [
            "c71dd167040a4937aaac3d5e2b5d018e",
            "9bbc259afe9146b4a6580d6a6f71857c",
            "8bb33ea1bef04d6f8bc5001be5567910",
            "652674c5937d4530b600dfcb4c9d7d8a",
            "f23a9d75f17f40daa5babd52a468d234",
            "f57b42ec72f44e3298565a4cb52cdfc6",
            "a5f5c52e03464b3684b2bca7424e535c",
            "6a07d3ec1dfa43f2bef18b156e66e4fc",
            "1b17d3dc1e794d8abe5fb5c1e2bc9a0b",
            "8ebf6dae07a644cd8b7be01317b71a2c",
            "02f0c10997e64a73a8fe3a01e8c48b1f",
            "03e7072fb8244f9f92598bbf0e520ff1",
            "495ea0b4d2cb430392184401caad06fa",
            "22a56f0db1f84ac393fbd0bc94980825",
            "b2f27bb5dd7542d798e0452fb1d5a209",
            "c2cf99281f5545c296b13ad6b405a7b8",
            "5f140f1920464b59b5a203860c5bdb99",
            "a5c1d0d5c3cf4ca1a9ffb2c95766be23",
            "e19fc4c3fe3f4324a600e1a8f400c1cc",
            "b330d129ac254236bc00d2240018ed61",
            "c1543c76726946ca9fd4a928b47b67d7",
            "f7c196ca93a34369b8c02dc5464d293c",
            "37f0198472994fc092690fb1993b545e",
            "f05dc708e9b44b459db9d1007b66d96b",
            "776d57771f7742f1814d9f6f19329b4c",
            "0637dea2819c41f6a64037cf991c698a",
            "80fa32a2c0da4b8394be8aba904309bc"
          ]
        },
        "id": "gRUipivzoiPd",
        "outputId": "8c5c18e9-96bd-4c0d-f73e-940a9028c74e"
      },
      "source": [
        "\n",
        "bands = ['B2', 'B3', 'B4', 'B5', 'B6', 'B7', 'B10', 'B11']\n",
        "#image=ee.ImageCollection('LANDSAT/LC08/C01/T1_SR').filterBounds(aoi).filterDate('2020-01-01', '2020-12-31').sort('CLOUD_COVER').first().select('B[1-7]')\n",
        "image=ee.Image(ee.ImageCollection('LANDSAT/LC08/C01/T1_SR').filterDate('2016-01-01', '2016-12-31').median().select(bands))\n",
        "landsat=image.clip(aoi)\n",
        "\n",
        "vis_params = {\n",
        "    'min': 0,\n",
        "    'max': 3000,\n",
        "    'bands': ['B5', 'B4', 'B3']\n",
        "}\n",
        "\n",
        "map4 = geemap.Map(center=[12.5657, 105],zoom=5)\n",
        "map4.add_basemap('SATELLITE')\n",
        "map4.addLayer(landsat, vis_params, 'Landsat-8')\n",
        "\n",
        "map4.addLayerControl()\n",
        "map4\n",
        "\n"
      ],
      "execution_count": null,
      "outputs": [
        {
          "output_type": "display_data",
          "data": {
            "application/vnd.jupyter.widget-view+json": {
              "model_id": "c71dd167040a4937aaac3d5e2b5d018e",
              "version_minor": 0,
              "version_major": 2
            },
            "text/plain": [
              "Map(center=[12.5657, 105], controls=(WidgetControl(options=['position', 'transparent_bg'], widget=HBox(childre…"
            ]
          },
          "metadata": {
            "application/vnd.jupyter.widget-view+json": {
              "colab": {
                "custom_widget_manager": {
                  "url": "https://ssl.gstatic.com/colaboratory-static/widgets/colab-cdn-widget-manager/e680a8b83b2ea152/manager.min.js"
                }
              }
            }
          }
        }
      ]
    },
    {
      "cell_type": "code",
      "metadata": {
        "id": "VaZwtiDdLm3M"
      },
      "source": [],
      "execution_count": null,
      "outputs": []
    },
    {
      "cell_type": "code",
      "metadata": {
        "id": "dK65T6okoiT1"
      },
      "source": [],
      "execution_count": null,
      "outputs": []
    },
    {
      "cell_type": "code",
      "metadata": {
        "id": "D-KRe7LII650"
      },
      "source": [
        "# Load training points. The numeric property 'class' stores known labels.\n",
        "#train = ee.FeatureCollection('users/minervas_jojo_code/train1').remap([1, 2,3,4,5,6,7], [0,1,2,3,4,5,6], 'class')\n",
        "#test = ee.FeatureCollection('users/minervas_jojo_code/test1').remap([1, 2,3,4,5,6,7], [0,1,2,3,4,5,6], 'class');"
      ],
      "execution_count": null,
      "outputs": []
    },
    {
      "cell_type": "code",
      "metadata": {
        "id": "1BKFwhBzI7Fy"
      },
      "source": [
        "train=ee.FeatureCollection('users/minervas_jojo_code/train1').remap([1,2,3,4,5,6,7],[0,1,2,3,4,5,6],'class')\n",
        "test=ee.FeatureCollection('users/minervas_jojo_code/test1').remap([1,2,3,4,5,6,7],[0,1,2,3,4,5,6],'class')"
      ],
      "execution_count": null,
      "outputs": []
    },
    {
      "cell_type": "code",
      "metadata": {
        "id": "b059lW8i0JGc"
      },
      "source": [],
      "execution_count": null,
      "outputs": []
    },
    {
      "cell_type": "code",
      "metadata": {
        "id": "p-PEPvy6I7Kn"
      },
      "source": [
        "# Overlay the points on the imagery to get training.\n",
        "training = image.sampleRegions(\n",
        "  collection=train,\n",
        "  properties=['class'],\n",
        "  scale=30)\n"
      ],
      "execution_count": null,
      "outputs": []
    },
    {
      "cell_type": "code",
      "metadata": {
        "id": "QOrIeL-nI7PG"
      },
      "source": [],
      "execution_count": null,
      "outputs": []
    },
    {
      "cell_type": "markdown",
      "metadata": {
        "id": "yPZd9N1_kZSr"
      },
      "source": [
        "random forest- training"
      ]
    },
    {
      "cell_type": "code",
      "metadata": {
        "id": "206P-OheK_Tk"
      },
      "source": [
        "# Make a Random Forest classifier and train it.\n",
        "\n",
        "#classifier=ee.Classifier.smileRandomForest(10).train(training,'class',bands)\n",
        "classifier=ee.Classifier.smileRandomForest(10).train(training,'class',bands)"
      ],
      "execution_count": null,
      "outputs": []
    },
    {
      "cell_type": "code",
      "metadata": {
        "id": "cDRnLInHK_YQ",
        "colab": {
          "base_uri": "https://localhost:8080/"
        },
        "outputId": "3be4915d-5635-41dd-a6d6-6b53ef7e7f72"
      },
      "source": [
        "#trainAccuracy=classifier.confusionMatrix()\n",
        "trainAccuracy=classifier.confusionMatrix()\n",
        "#print('Resubstitution error matrix: ', trainAccuracy.getInfo())\n",
        "print('Resubstitution error matrix: ',trainAccuracy.getInfo())\n",
        "#print('Training overall accuracy: ', trainAccuracy.accuracy().getInfo())\n",
        "print('Training overall accuracy: ',trainAccuracy.accuracy().getInfo())"
      ],
      "execution_count": null,
      "outputs": [
        {
          "output_type": "stream",
          "name": "stdout",
          "text": [
            "Resubstitution error matrix:  [[45, 0, 1, 0, 0, 0, 0], [0, 19, 0, 0, 0, 0, 1], [0, 0, 44, 0, 0, 2, 0], [0, 1, 1, 43, 0, 0, 0], [0, 0, 3, 1, 26, 0, 0], [0, 0, 0, 1, 0, 52, 0], [0, 0, 0, 1, 3, 2, 33]]\n",
            "Training overall accuracy:  0.9390681003584229\n"
          ]
        }
      ]
    },
    {
      "cell_type": "code",
      "metadata": {
        "id": "Q9kE1YyKK_ea"
      },
      "source": [],
      "execution_count": null,
      "outputs": []
    },
    {
      "cell_type": "markdown",
      "metadata": {
        "id": "vNFfwgUEk8Yd"
      },
      "source": [
        "validation"
      ]
    },
    {
      "cell_type": "code",
      "metadata": {
        "id": "Sa5QWT1Pk5Gj"
      },
      "source": [
        "# Overlay the points on the imagery to get training.\n",
        "testing = image.sampleRegions(\n",
        "  collection=test,\n",
        "  properties=['class'],\n",
        "  scale=30)\n"
      ],
      "execution_count": null,
      "outputs": []
    },
    {
      "cell_type": "code",
      "metadata": {
        "id": "Gyr-MGbak5MM"
      },
      "source": [
        "validated = testing.classify(classifier)"
      ],
      "execution_count": null,
      "outputs": []
    },
    {
      "cell_type": "code",
      "metadata": {
        "id": "6JM2AUodI7UF",
        "colab": {
          "base_uri": "https://localhost:8080/"
        },
        "outputId": "cefdef55-d8a0-483e-cda5-74b575cd4646"
      },
      "source": [
        "validated.first().getInfo()"
      ],
      "execution_count": null,
      "outputs": [
        {
          "output_type": "execute_result",
          "data": {
            "text/plain": [
              "{'geometry': None,\n",
              " 'id': '00002287a0e75a1979d1_0',\n",
              " 'properties': {'B10': 2893,\n",
              "  'B11': 2859,\n",
              "  'B2': 337,\n",
              "  'B3': 702,\n",
              "  'B4': 634,\n",
              "  'B5': 3442,\n",
              "  'B6': 2319,\n",
              "  'B7': 1253,\n",
              "  'class': 3,\n",
              "  'classification': 3},\n",
              " 'type': 'Feature'}"
            ]
          },
          "metadata": {},
          "execution_count": 17
        }
      ]
    },
    {
      "cell_type": "code",
      "metadata": {
        "colab": {
          "base_uri": "https://localhost:8080/"
        },
        "id": "E5wtMtdQmqry",
        "outputId": "78f1fef9-d658-456b-c2a6-ff1b1496b6ca"
      },
      "source": [
        "test_accuracy = validated.errorMatrix('class', 'classification') #actual lulc, classified lulc\n",
        "test_accuracy.getInfo()"
      ],
      "execution_count": null,
      "outputs": [
        {
          "output_type": "execute_result",
          "data": {
            "text/plain": [
              "[[13, 0, 0, 0, 0, 0, 0],\n",
              " [0, 6, 0, 0, 0, 0, 0],\n",
              " [1, 0, 7, 0, 0, 0, 0],\n",
              " [0, 0, 0, 18, 0, 0, 0],\n",
              " [0, 0, 0, 0, 8, 0, 0],\n",
              " [0, 0, 0, 0, 0, 8, 0],\n",
              " [0, 0, 0, 0, 0, 0, 8]]"
            ]
          },
          "metadata": {},
          "execution_count": 19
        }
      ]
    },
    {
      "cell_type": "code",
      "metadata": {
        "colab": {
          "base_uri": "https://localhost:8080/"
        },
        "id": "uyGljlM2mqxc",
        "outputId": "d90a8fe6-2212-4f9c-b463-1f77894671f4"
      },
      "source": [
        "test_accuracy.accuracy().getInfo()"
      ],
      "execution_count": null,
      "outputs": [
        {
          "output_type": "execute_result",
          "data": {
            "text/plain": [
              "0.9855072463768116"
            ]
          },
          "metadata": {},
          "execution_count": 20
        }
      ]
    },
    {
      "cell_type": "code",
      "metadata": {
        "colab": {
          "base_uri": "https://localhost:8080/"
        },
        "id": "4UD-xi46mq4Z",
        "outputId": "7094a9a9-e34d-4a8b-b44e-e451e89233db"
      },
      "source": [
        "test_accuracy.kappa().getInfo()\n",
        "test_accuracy.producersAccuracy().getInfo()\n",
        "test_accuracy.consumersAccuracy().getInfo()"
      ],
      "execution_count": null,
      "outputs": [
        {
          "output_type": "execute_result",
          "data": {
            "text/plain": [
              "[[0.9285714285714286, 1, 1, 1, 1, 1, 1]]"
            ]
          },
          "metadata": {},
          "execution_count": 21
        }
      ]
    }
  ]
}