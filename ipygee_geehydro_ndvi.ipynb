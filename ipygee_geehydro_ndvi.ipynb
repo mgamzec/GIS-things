{
  "nbformat": 4,
  "nbformat_minor": 0,
  "metadata": {
    "colab": {
      "provenance": [],
      "include_colab_link": true
    },
    "kernelspec": {
      "name": "python3",
      "display_name": "Python 3"
    },
    "language_info": {
      "name": "python"
    },
    "widgets": {
      "application/vnd.jupyter.widget-state+json": {
        "21173cd7132a4e2d986c92bd2673e0e7": {
          "model_module": "jupyter-leaflet",
          "model_name": "LeafletMapModel",
          "model_module_version": "^0.14.0",
          "state": {
            "_view_name": "LeafletMapView",
            "keyboard_pan_offset": 80,
            "right": 7318,
            "tap": true,
            "_view_module": "jupyter-leaflet",
            "max_zoom": 18,
            "_model_module_version": "^0.14.0",
            "_view_count": null,
            "zoom_snap": 1,
            "min_zoom": 1,
            "bounce_at_zoom_limits": true,
            "keyboard": true,
            "north": 25.005972656239187,
            "scroll_wheel_zoom": true,
            "dragging": true,
            "_model_module": "jupyter-leaflet",
            "zoom_delta": 1,
            "close_popup_on_click": true,
            "fullscreen": false,
            "style": "IPY_MODEL_a294c560068d4ee1b376b246430a6e69",
            "layout": "IPY_MODEL_ab8977ddb7f1434d8c647ff114350880",
            "bottom": 4108,
            "inertia_max_speed": 1500,
            "top": 3508,
            "box_zoom": true,
            "controls": [
              "IPY_MODEL_264d0c4accf547b4a413f7d95c005f4e",
              "IPY_MODEL_cc22a8361e38408c84c51acb3c2b2636",
              "IPY_MODEL_6df03fa60fd84c0c877c553bf3da9fe4",
              "IPY_MODEL_0367395f892d4e3f849b44523f2a24f6",
              "IPY_MODEL_4e65680e6c46494587b014bf68e3f7ba",
              "IPY_MODEL_a7210220e7584468988f7078a8a6ee60",
              "IPY_MODEL_def167bea1344def9f8c6131d36ff564",
              "IPY_MODEL_e3faba75af9a4fbd9150d10196576d7f"
            ],
            "default_style": "IPY_MODEL_61f5d768ef434411b424f37e7d945091",
            "east": 141.59179687500003,
            "double_click_zoom": true,
            "interpolation": "bilinear",
            "layers": [
              "IPY_MODEL_a0a4ecd2fd234a88ba094aace7e3cc38",
              "IPY_MODEL_e19c3b5f936744e18d929133d75a06af",
              "IPY_MODEL_072f69c46d3248b7bca77020933dc709",
              "IPY_MODEL_6349c00dda3d410290ed7033ba18f739",
              "IPY_MODEL_e31cbfe0cec4449b90e3eb7d45f8b796"
            ],
            "dragging_style": "IPY_MODEL_0fb27935fd0040598526ca0aa4a6167f",
            "_dom_classes": [],
            "zoom_animation_threshold": 4,
            "_model_name": "LeafletMapModel",
            "zoom_start": 12,
            "modisdate": "yesterday",
            "keyboard_zoom_offset": 1,
            "inertia_deceleration": 3000,
            "inertia": true,
            "crs": {
              "name": "EPSG3857",
              "custom": false
            },
            "center": [
              12.5657,
              105
            ],
            "zoom": 5,
            "world_copy_jump": false,
            "_view_module_version": "^0.14.0",
            "window_url": "https://ihvxstyz8dg-496ff2e9c6d22116-0-colab.googleusercontent.com/outputframe.html?vrz=colab-20210930-060057-RC01_399953224",
            "tap_tolerance": 15,
            "west": 68.37890625000001,
            "touch_zoom": true,
            "options": [
              "bounce_at_zoom_limits",
              "box_zoom",
              "center",
              "close_popup_on_click",
              "double_click_zoom",
              "dragging",
              "fullscreen",
              "inertia",
              "inertia_deceleration",
              "inertia_max_speed",
              "interpolation",
              "keyboard",
              "keyboard_pan_offset",
              "keyboard_zoom_offset",
              "max_zoom",
              "min_zoom",
              "scroll_wheel_zoom",
              "tap",
              "tap_tolerance",
              "touch_zoom",
              "world_copy_jump",
              "zoom",
              "zoom_animation_threshold",
              "zoom_delta",
              "zoom_snap",
              "zoom_start"
            ],
            "south": -0.5273363048115043,
            "left": 5652
          }
        },
        "a294c560068d4ee1b376b246430a6e69": {
          "model_module": "jupyter-leaflet",
          "model_name": "LeafletMapStyleModel",
          "model_module_version": "^0.14.0",
          "state": {
            "_view_name": "StyleView",
            "_model_name": "LeafletMapStyleModel",
            "_view_module": "@jupyter-widgets/base",
            "_model_module_version": "^0.14.0",
            "_view_count": null,
            "cursor": "grab",
            "_view_module_version": "1.2.0",
            "_model_module": "jupyter-leaflet"
          }
        },
        "ab8977ddb7f1434d8c647ff114350880": {
          "model_module": "@jupyter-widgets/base",
          "model_name": "LayoutModel",
          "model_module_version": "1.2.0",
          "state": {
            "_view_name": "LayoutView",
            "grid_template_rows": null,
            "right": null,
            "justify_content": null,
            "_view_module": "@jupyter-widgets/base",
            "overflow": null,
            "_model_module_version": "1.2.0",
            "_view_count": null,
            "flex_flow": null,
            "width": null,
            "min_width": null,
            "border": null,
            "align_items": null,
            "bottom": null,
            "_model_module": "@jupyter-widgets/base",
            "top": null,
            "grid_column": null,
            "overflow_y": null,
            "overflow_x": null,
            "grid_auto_flow": null,
            "grid_area": null,
            "grid_template_columns": null,
            "flex": null,
            "_model_name": "LayoutModel",
            "justify_items": null,
            "grid_row": null,
            "max_height": null,
            "align_content": null,
            "visibility": null,
            "align_self": null,
            "height": "600px",
            "min_height": null,
            "padding": null,
            "grid_auto_rows": null,
            "grid_gap": null,
            "max_width": null,
            "order": null,
            "_view_module_version": "1.2.0",
            "grid_template_areas": null,
            "object_position": null,
            "object_fit": null,
            "grid_auto_columns": null,
            "margin": null,
            "display": null,
            "left": null
          }
        },
        "264d0c4accf547b4a413f7d95c005f4e": {
          "model_module": "jupyter-leaflet",
          "model_name": "LeafletWidgetControlModel",
          "model_module_version": "^0.14.0",
          "state": {
            "_view_name": "LeafletWidgetControlView",
            "widget": "IPY_MODEL_121301fd71cc44e8ae450c456e660c1a",
            "_model_name": "LeafletWidgetControlModel",
            "_view_module": "jupyter-leaflet",
            "_model_module_version": "^0.14.0",
            "max_height": null,
            "_view_count": null,
            "min_height": null,
            "_view_module_version": "^0.14.0",
            "max_width": null,
            "transparent_bg": false,
            "min_width": null,
            "position": "topleft",
            "_model_module": "jupyter-leaflet",
            "options": [
              "position",
              "transparent_bg"
            ]
          }
        },
        "cc22a8361e38408c84c51acb3c2b2636": {
          "model_module": "jupyter-leaflet",
          "model_name": "LeafletZoomControlModel",
          "model_module_version": "^0.14.0",
          "state": {
            "_view_name": "LeafletZoomControlView",
            "zoom_in_title": "Zoom in",
            "_model_name": "LeafletZoomControlModel",
            "_view_module": "jupyter-leaflet",
            "_model_module_version": "^0.14.0",
            "_view_count": null,
            "_view_module_version": "^0.14.0",
            "zoom_out_title": "Zoom out",
            "position": "topleft",
            "zoom_in_text": "+",
            "_model_module": "jupyter-leaflet",
            "options": [
              "position",
              "zoom_in_text",
              "zoom_in_title",
              "zoom_out_text",
              "zoom_out_title"
            ],
            "zoom_out_text": "-"
          }
        },
        "6df03fa60fd84c0c877c553bf3da9fe4": {
          "model_module": "jupyter-leaflet",
          "model_name": "LeafletScaleControlModel",
          "model_module_version": "^0.14.0",
          "state": {
            "_view_name": "LeafletScaleControlView",
            "_model_name": "LeafletScaleControlModel",
            "metric": true,
            "_view_module": "jupyter-leaflet",
            "_model_module_version": "^0.14.0",
            "max_width": 100,
            "_view_count": null,
            "_view_module_version": "^0.14.0",
            "update_when_idle": false,
            "position": "bottomleft",
            "imperial": true,
            "_model_module": "jupyter-leaflet",
            "options": [
              "imperial",
              "max_width",
              "metric",
              "position",
              "update_when_idle"
            ]
          }
        },
        "0367395f892d4e3f849b44523f2a24f6": {
          "model_module": "jupyter-leaflet",
          "model_name": "LeafletFullScreenControlModel",
          "model_module_version": "^0.14.0",
          "state": {
            "_view_name": "LeafletFullScreenControlView",
            "_model_name": "LeafletFullScreenControlModel",
            "_view_module": "jupyter-leaflet",
            "_model_module_version": "^0.14.0",
            "_view_count": null,
            "_view_module_version": "^0.14.0",
            "position": "topleft",
            "_model_module": "jupyter-leaflet",
            "options": [
              "position"
            ]
          }
        },
        "4e65680e6c46494587b014bf68e3f7ba": {
          "model_module": "jupyter-leaflet",
          "model_name": "LeafletMeasureControlModel",
          "model_module_version": "^0.14.0",
          "state": {
            "_view_name": "LeafletMeasureControlView",
            "primary_area_unit": "acres",
            "capture_z_index": 10000,
            "secondary_area_unit": null,
            "primary_length_unit": "kilometers",
            "active_color": "orange",
            "_model_name": "LeafletMeasureControlModel",
            "popup_options": {
              "className": "leaflet-measure-resultpopup",
              "autoPanPadding": [
                10,
                10
              ]
            },
            "_view_module": "jupyter-leaflet",
            "_model_module_version": "^0.14.0",
            "_view_count": null,
            "_view_module_version": "^0.14.0",
            "secondary_length_unit": null,
            "completed_color": "#C8F2BE",
            "position": "bottomleft",
            "_model_module": "jupyter-leaflet",
            "options": [
              "active_color",
              "capture_z_index",
              "completed_color",
              "popup_options",
              "position",
              "primary_area_unit",
              "primary_length_unit",
              "secondary_area_unit",
              "secondary_length_unit"
            ],
            "_custom_units": {}
          }
        },
        "a7210220e7584468988f7078a8a6ee60": {
          "model_module": "jupyter-leaflet",
          "model_name": "LeafletAttributionControlModel",
          "model_module_version": "^0.14.0",
          "state": {
            "_view_name": "LeafletAttributionControlView",
            "prefix": "ipyleaflet",
            "_model_name": "LeafletAttributionControlModel",
            "_view_module": "jupyter-leaflet",
            "_model_module_version": "^0.14.0",
            "_view_count": null,
            "_view_module_version": "^0.14.0",
            "position": "bottomright",
            "_model_module": "jupyter-leaflet",
            "options": [
              "position",
              "prefix"
            ]
          }
        },
        "def167bea1344def9f8c6131d36ff564": {
          "model_module": "jupyter-leaflet",
          "model_name": "LeafletDrawControlModel",
          "model_module_version": "^0.14.0",
          "state": {
            "_view_name": "LeafletDrawControlView",
            "polygon": {
              "shapeOptions": {}
            },
            "circlemarker": {},
            "_model_name": "LeafletDrawControlModel",
            "edit": true,
            "data": [],
            "_view_module": "jupyter-leaflet",
            "_model_module_version": "^0.14.0",
            "remove": true,
            "_view_count": null,
            "_view_module_version": "^0.14.0",
            "polyline": {
              "shapeOptions": {}
            },
            "marker": {
              "shapeOptions": {
                "color": "#3388ff"
              }
            },
            "position": "topleft",
            "circle": {
              "shapeOptions": {
                "color": "#3388ff"
              }
            },
            "_model_module": "jupyter-leaflet",
            "options": [
              "position"
            ],
            "rectangle": {
              "shapeOptions": {
                "color": "#3388ff"
              }
            }
          }
        },
        "e3faba75af9a4fbd9150d10196576d7f": {
          "model_module": "jupyter-leaflet",
          "model_name": "LeafletWidgetControlModel",
          "model_module_version": "^0.14.0",
          "state": {
            "_view_name": "LeafletWidgetControlView",
            "widget": "IPY_MODEL_78f87d3d36a6413c90d00138f486ac94",
            "_model_name": "LeafletWidgetControlModel",
            "_view_module": "jupyter-leaflet",
            "_model_module_version": "^0.14.0",
            "max_height": null,
            "_view_count": null,
            "min_height": null,
            "_view_module_version": "^0.14.0",
            "max_width": null,
            "transparent_bg": false,
            "min_width": null,
            "position": "topright",
            "_model_module": "jupyter-leaflet",
            "options": [
              "position",
              "transparent_bg"
            ]
          }
        },
        "61f5d768ef434411b424f37e7d945091": {
          "model_module": "jupyter-leaflet",
          "model_name": "LeafletMapStyleModel",
          "model_module_version": "^0.14.0",
          "state": {
            "_view_name": "StyleView",
            "_model_name": "LeafletMapStyleModel",
            "_view_module": "@jupyter-widgets/base",
            "_model_module_version": "^0.14.0",
            "_view_count": null,
            "cursor": "grab",
            "_view_module_version": "1.2.0",
            "_model_module": "jupyter-leaflet"
          }
        },
        "a0a4ecd2fd234a88ba094aace7e3cc38": {
          "model_module": "jupyter-leaflet",
          "model_name": "LeafletTileLayerModel",
          "model_module_version": "^0.14.0",
          "state": {
            "_view_name": "LeafletTileLayerView",
            "_view_module": "jupyter-leaflet",
            "max_zoom": 19,
            "_model_module_version": "^0.14.0",
            "_view_count": null,
            "visible": true,
            "min_zoom": 1,
            "tms": false,
            "_model_module": "jupyter-leaflet",
            "loading": false,
            "bottom": true,
            "no_wrap": false,
            "tile_size": 256,
            "popup_min_width": 50,
            "opacity": 1,
            "popup": null,
            "attribution": "Map data (c) <a href=\"https://openstreetmap.org\">OpenStreetMap</a> contributors",
            "_model_name": "LeafletTileLayerModel",
            "max_native_zoom": 18,
            "base": true,
            "min_native_zoom": 0,
            "show_loading": false,
            "name": "",
            "url": "https://{s}.tile.openstreetmap.org/{z}/{x}/{y}.png",
            "popup_max_height": null,
            "popup_max_width": 300,
            "detect_retina": false,
            "_view_module_version": "^0.14.0",
            "options": [
              "attribution",
              "detect_retina",
              "max_native_zoom",
              "max_zoom",
              "min_native_zoom",
              "min_zoom",
              "no_wrap",
              "tile_size",
              "tms"
            ]
          }
        },
        "e19c3b5f936744e18d929133d75a06af": {
          "model_module": "jupyter-leaflet",
          "model_name": "LeafletTileLayerModel",
          "model_module_version": "^0.14.0",
          "state": {
            "_view_name": "LeafletTileLayerView",
            "_view_module": "jupyter-leaflet",
            "max_zoom": 18,
            "_model_module_version": "^0.14.0",
            "_view_count": null,
            "visible": true,
            "min_zoom": 0,
            "tms": false,
            "_model_module": "jupyter-leaflet",
            "loading": false,
            "bottom": true,
            "no_wrap": false,
            "tile_size": 256,
            "popup_min_width": 50,
            "opacity": 1,
            "popup": null,
            "attribution": "Google",
            "_model_name": "LeafletTileLayerModel",
            "max_native_zoom": 18,
            "base": false,
            "min_native_zoom": 0,
            "show_loading": false,
            "name": "Google Maps",
            "url": "https://mt1.google.com/vt/lyrs=m&x={x}&y={y}&z={z}",
            "popup_max_height": null,
            "popup_max_width": 300,
            "detect_retina": false,
            "_view_module_version": "^0.14.0",
            "options": [
              "attribution",
              "detect_retina",
              "max_native_zoom",
              "max_zoom",
              "min_native_zoom",
              "min_zoom",
              "no_wrap",
              "tile_size",
              "tms"
            ]
          }
        },
        "072f69c46d3248b7bca77020933dc709": {
          "model_module": "jupyter-leaflet",
          "model_name": "LeafletTileLayerModel",
          "model_module_version": "^0.14.0",
          "state": {
            "_view_name": "LeafletTileLayerView",
            "_view_module": "jupyter-leaflet",
            "max_zoom": 18,
            "_model_module_version": "^0.14.0",
            "_view_count": null,
            "visible": true,
            "min_zoom": 0,
            "tms": false,
            "_model_module": "jupyter-leaflet",
            "loading": false,
            "bottom": true,
            "no_wrap": false,
            "tile_size": 256,
            "popup_min_width": 50,
            "opacity": 1,
            "popup": null,
            "attribution": "Google",
            "_model_name": "LeafletTileLayerModel",
            "max_native_zoom": 18,
            "base": false,
            "min_native_zoom": 0,
            "show_loading": false,
            "name": "Google Satellite",
            "url": "https://mt1.google.com/vt/lyrs=s&x={x}&y={y}&z={z}",
            "popup_max_height": null,
            "popup_max_width": 300,
            "detect_retina": false,
            "_view_module_version": "^0.14.0",
            "options": [
              "attribution",
              "detect_retina",
              "max_native_zoom",
              "max_zoom",
              "min_native_zoom",
              "min_zoom",
              "no_wrap",
              "tile_size",
              "tms"
            ]
          }
        },
        "6349c00dda3d410290ed7033ba18f739": {
          "model_module": "jupyter-leaflet",
          "model_name": "LeafletTileLayerModel",
          "model_module_version": "^0.14.0",
          "state": {
            "_view_name": "LeafletTileLayerView",
            "_view_module": "jupyter-leaflet",
            "max_zoom": 18,
            "_model_module_version": "^0.14.0",
            "_view_count": null,
            "visible": true,
            "min_zoom": 0,
            "tms": false,
            "_model_module": "jupyter-leaflet",
            "loading": false,
            "bottom": true,
            "no_wrap": false,
            "tile_size": 256,
            "popup_min_width": 50,
            "opacity": 1,
            "popup": null,
            "attribution": "Google Earth Engine",
            "_model_name": "LeafletTileLayerModel",
            "max_native_zoom": 18,
            "base": false,
            "min_native_zoom": 0,
            "show_loading": false,
            "name": "NDVI",
            "url": "https://earthengine.googleapis.com/v1alpha/projects/earthengine-legacy/maps/32f948d8c1751c8341ba225c26500409-04994f6e3fd549f609fcb4ad0fea7bbc/tiles/{z}/{x}/{y}",
            "popup_max_height": null,
            "popup_max_width": 300,
            "detect_retina": false,
            "_view_module_version": "^0.14.0",
            "options": [
              "attribution",
              "detect_retina",
              "max_native_zoom",
              "max_zoom",
              "min_native_zoom",
              "min_zoom",
              "no_wrap",
              "tile_size",
              "tms"
            ]
          }
        },
        "e31cbfe0cec4449b90e3eb7d45f8b796": {
          "model_module": "jupyter-leaflet",
          "model_name": "LeafletTileLayerModel",
          "model_module_version": "^0.14.0",
          "state": {
            "_view_name": "LeafletTileLayerView",
            "_view_module": "jupyter-leaflet",
            "max_zoom": 18,
            "_model_module_version": "^0.14.0",
            "_view_count": null,
            "visible": true,
            "min_zoom": 0,
            "tms": false,
            "_model_module": "jupyter-leaflet",
            "loading": false,
            "bottom": true,
            "no_wrap": false,
            "tile_size": 256,
            "popup_min_width": 50,
            "opacity": 1,
            "popup": null,
            "attribution": "Google Earth Engine",
            "_model_name": "LeafletTileLayerModel",
            "max_native_zoom": 18,
            "base": false,
            "min_native_zoom": 0,
            "show_loading": false,
            "name": "PA",
            "url": "https://earthengine.googleapis.com/v1alpha/projects/earthengine-legacy/maps/66a7fbf28eed74bc10099d306d6ccc69-33af78996a39d94e592da41808b37b01/tiles/{z}/{x}/{y}",
            "popup_max_height": null,
            "popup_max_width": 300,
            "detect_retina": false,
            "_view_module_version": "^0.14.0",
            "options": [
              "attribution",
              "detect_retina",
              "max_native_zoom",
              "max_zoom",
              "min_native_zoom",
              "min_zoom",
              "no_wrap",
              "tile_size",
              "tms"
            ]
          }
        },
        "0fb27935fd0040598526ca0aa4a6167f": {
          "model_module": "jupyter-leaflet",
          "model_name": "LeafletMapStyleModel",
          "model_module_version": "^0.14.0",
          "state": {
            "_view_name": "StyleView",
            "_model_name": "LeafletMapStyleModel",
            "_view_module": "@jupyter-widgets/base",
            "_model_module_version": "^0.14.0",
            "_view_count": null,
            "cursor": "move",
            "_view_module_version": "1.2.0",
            "_model_module": "jupyter-leaflet"
          }
        },
        "121301fd71cc44e8ae450c456e660c1a": {
          "model_module": "@jupyter-widgets/controls",
          "model_name": "HBoxModel",
          "model_module_version": "1.5.0",
          "state": {
            "_view_name": "HBoxView",
            "_dom_classes": [],
            "_model_name": "HBoxModel",
            "_view_module": "@jupyter-widgets/controls",
            "_model_module_version": "1.5.0",
            "_view_count": null,
            "_view_module_version": "1.5.0",
            "box_style": "",
            "layout": "IPY_MODEL_6ba7cd3c0b4446bfb2d73c3d2d6f1908",
            "_model_module": "@jupyter-widgets/controls",
            "children": [
              "IPY_MODEL_0d4676a08b5045538b46af0478b2f524"
            ]
          }
        },
        "78f87d3d36a6413c90d00138f486ac94": {
          "model_module": "@jupyter-widgets/controls",
          "model_name": "VBoxModel",
          "model_module_version": "1.5.0",
          "state": {
            "_view_name": "VBoxView",
            "_dom_classes": [],
            "_model_name": "VBoxModel",
            "_view_module": "@jupyter-widgets/controls",
            "_model_module_version": "1.5.0",
            "_view_count": null,
            "_view_module_version": "1.5.0",
            "box_style": "",
            "layout": "IPY_MODEL_9c2af5a5d8e949f88c30a0a11c4bbae2",
            "_model_module": "@jupyter-widgets/controls",
            "children": [
              "IPY_MODEL_c9a5d74fcc9a4131ae669853a3f855f0"
            ]
          }
        },
        "6ba7cd3c0b4446bfb2d73c3d2d6f1908": {
          "model_module": "@jupyter-widgets/base",
          "model_name": "LayoutModel",
          "model_module_version": "1.2.0",
          "state": {
            "_view_name": "LayoutView",
            "grid_template_rows": null,
            "right": null,
            "justify_content": null,
            "_view_module": "@jupyter-widgets/base",
            "overflow": null,
            "_model_module_version": "1.2.0",
            "_view_count": null,
            "flex_flow": null,
            "width": null,
            "min_width": null,
            "border": null,
            "align_items": null,
            "bottom": null,
            "_model_module": "@jupyter-widgets/base",
            "top": null,
            "grid_column": null,
            "overflow_y": null,
            "overflow_x": null,
            "grid_auto_flow": null,
            "grid_area": null,
            "grid_template_columns": null,
            "flex": null,
            "_model_name": "LayoutModel",
            "justify_items": null,
            "grid_row": null,
            "max_height": null,
            "align_content": null,
            "visibility": null,
            "align_self": null,
            "height": null,
            "min_height": null,
            "padding": null,
            "grid_auto_rows": null,
            "grid_gap": null,
            "max_width": null,
            "order": null,
            "_view_module_version": "1.2.0",
            "grid_template_areas": null,
            "object_position": null,
            "object_fit": null,
            "grid_auto_columns": null,
            "margin": null,
            "display": null,
            "left": null
          }
        },
        "0d4676a08b5045538b46af0478b2f524": {
          "model_module": "@jupyter-widgets/controls",
          "model_name": "ToggleButtonModel",
          "model_module_version": "1.5.0",
          "state": {
            "_view_name": "ToggleButtonView",
            "style": "IPY_MODEL_786f5cdafb7d491bafc902291ed62883",
            "_dom_classes": [],
            "description": "",
            "_model_name": "ToggleButtonModel",
            "button_style": "",
            "_view_module": "@jupyter-widgets/controls",
            "_model_module_version": "1.5.0",
            "tooltip": "Search location/data",
            "_view_count": null,
            "disabled": false,
            "_view_module_version": "1.5.0",
            "value": false,
            "description_tooltip": null,
            "_model_module": "@jupyter-widgets/controls",
            "layout": "IPY_MODEL_196d2f58b61c4ca2ae3c141852cdae36",
            "icon": "globe"
          }
        },
        "9c2af5a5d8e949f88c30a0a11c4bbae2": {
          "model_module": "@jupyter-widgets/base",
          "model_name": "LayoutModel",
          "model_module_version": "1.2.0",
          "state": {
            "_view_name": "LayoutView",
            "grid_template_rows": null,
            "right": null,
            "justify_content": null,
            "_view_module": "@jupyter-widgets/base",
            "overflow": null,
            "_model_module_version": "1.2.0",
            "_view_count": null,
            "flex_flow": null,
            "width": null,
            "min_width": null,
            "border": null,
            "align_items": null,
            "bottom": null,
            "_model_module": "@jupyter-widgets/base",
            "top": null,
            "grid_column": null,
            "overflow_y": null,
            "overflow_x": null,
            "grid_auto_flow": null,
            "grid_area": null,
            "grid_template_columns": null,
            "flex": null,
            "_model_name": "LayoutModel",
            "justify_items": null,
            "grid_row": null,
            "max_height": null,
            "align_content": null,
            "visibility": null,
            "align_self": null,
            "height": null,
            "min_height": null,
            "padding": null,
            "grid_auto_rows": null,
            "grid_gap": null,
            "max_width": null,
            "order": null,
            "_view_module_version": "1.2.0",
            "grid_template_areas": null,
            "object_position": null,
            "object_fit": null,
            "grid_auto_columns": null,
            "margin": null,
            "display": null,
            "left": null
          }
        },
        "c9a5d74fcc9a4131ae669853a3f855f0": {
          "model_module": "@jupyter-widgets/controls",
          "model_name": "ToggleButtonModel",
          "model_module_version": "1.5.0",
          "state": {
            "_view_name": "ToggleButtonView",
            "style": "IPY_MODEL_03d62954fc2347aab5bcbaa9cd2f9ff7",
            "_dom_classes": [],
            "description": "",
            "_model_name": "ToggleButtonModel",
            "button_style": "",
            "_view_module": "@jupyter-widgets/controls",
            "_model_module_version": "1.5.0",
            "tooltip": "Toolbar",
            "_view_count": null,
            "disabled": false,
            "_view_module_version": "1.5.0",
            "value": false,
            "description_tooltip": null,
            "_model_module": "@jupyter-widgets/controls",
            "layout": "IPY_MODEL_4e171219d8174a468b534413b55b44c2",
            "icon": "wrench"
          }
        },
        "786f5cdafb7d491bafc902291ed62883": {
          "model_module": "@jupyter-widgets/controls",
          "model_name": "DescriptionStyleModel",
          "model_module_version": "1.5.0",
          "state": {
            "_view_name": "StyleView",
            "_model_name": "DescriptionStyleModel",
            "description_width": "",
            "_view_module": "@jupyter-widgets/base",
            "_model_module_version": "1.5.0",
            "_view_count": null,
            "_view_module_version": "1.2.0",
            "_model_module": "@jupyter-widgets/controls"
          }
        },
        "196d2f58b61c4ca2ae3c141852cdae36": {
          "model_module": "@jupyter-widgets/base",
          "model_name": "LayoutModel",
          "model_module_version": "1.2.0",
          "state": {
            "_view_name": "LayoutView",
            "grid_template_rows": null,
            "right": null,
            "justify_content": null,
            "_view_module": "@jupyter-widgets/base",
            "overflow": null,
            "_model_module_version": "1.2.0",
            "_view_count": null,
            "flex_flow": null,
            "width": "28px",
            "min_width": null,
            "border": null,
            "align_items": null,
            "bottom": null,
            "_model_module": "@jupyter-widgets/base",
            "top": null,
            "grid_column": null,
            "overflow_y": null,
            "overflow_x": null,
            "grid_auto_flow": null,
            "grid_area": null,
            "grid_template_columns": null,
            "flex": null,
            "_model_name": "LayoutModel",
            "justify_items": null,
            "grid_row": null,
            "max_height": null,
            "align_content": null,
            "visibility": null,
            "align_self": null,
            "height": "28px",
            "min_height": null,
            "padding": "0px 0px 0px 4px",
            "grid_auto_rows": null,
            "grid_gap": null,
            "max_width": null,
            "order": null,
            "_view_module_version": "1.2.0",
            "grid_template_areas": null,
            "object_position": null,
            "object_fit": null,
            "grid_auto_columns": null,
            "margin": null,
            "display": null,
            "left": null
          }
        },
        "03d62954fc2347aab5bcbaa9cd2f9ff7": {
          "model_module": "@jupyter-widgets/controls",
          "model_name": "DescriptionStyleModel",
          "model_module_version": "1.5.0",
          "state": {
            "_view_name": "StyleView",
            "_model_name": "DescriptionStyleModel",
            "description_width": "",
            "_view_module": "@jupyter-widgets/base",
            "_model_module_version": "1.5.0",
            "_view_count": null,
            "_view_module_version": "1.2.0",
            "_model_module": "@jupyter-widgets/controls"
          }
        },
        "4e171219d8174a468b534413b55b44c2": {
          "model_module": "@jupyter-widgets/base",
          "model_name": "LayoutModel",
          "model_module_version": "1.2.0",
          "state": {
            "_view_name": "LayoutView",
            "grid_template_rows": null,
            "right": null,
            "justify_content": null,
            "_view_module": "@jupyter-widgets/base",
            "overflow": null,
            "_model_module_version": "1.2.0",
            "_view_count": null,
            "flex_flow": null,
            "width": "28px",
            "min_width": null,
            "border": null,
            "align_items": null,
            "bottom": null,
            "_model_module": "@jupyter-widgets/base",
            "top": null,
            "grid_column": null,
            "overflow_y": null,
            "overflow_x": null,
            "grid_auto_flow": null,
            "grid_area": null,
            "grid_template_columns": null,
            "flex": null,
            "_model_name": "LayoutModel",
            "justify_items": null,
            "grid_row": null,
            "max_height": null,
            "align_content": null,
            "visibility": null,
            "align_self": null,
            "height": "28px",
            "min_height": null,
            "padding": "0px 0px 0px 4px",
            "grid_auto_rows": null,
            "grid_gap": null,
            "max_width": null,
            "order": null,
            "_view_module_version": "1.2.0",
            "grid_template_areas": null,
            "object_position": null,
            "object_fit": null,
            "grid_auto_columns": null,
            "margin": null,
            "display": null,
            "left": null
          }
        },
        "370eb284e5324f1893b7b0e15a14ba92": {
          "model_module": "@jupyter-widgets/controls",
          "model_name": "HTMLModel",
          "model_module_version": "1.5.0",
          "state": {
            "_view_name": "HTMLView",
            "style": "IPY_MODEL_eb80954f25cd44c1b21fc7f13f8ebe0f",
            "_dom_classes": [],
            "description": "",
            "_model_name": "HTMLModel",
            "placeholder": "​",
            "_view_module": "@jupyter-widgets/controls",
            "_model_module_version": "1.5.0",
            "value": "<embed src=data:image/svg+xml;charset=utf-8;base64,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 width=50%></embed>",
            "_view_count": null,
            "_view_module_version": "1.5.0",
            "description_tooltip": null,
            "_model_module": "@jupyter-widgets/controls",
            "layout": "IPY_MODEL_6129725536f54f4cae903c7b030c4d7d"
          }
        },
        "eb80954f25cd44c1b21fc7f13f8ebe0f": {
          "model_module": "@jupyter-widgets/controls",
          "model_name": "DescriptionStyleModel",
          "model_module_version": "1.5.0",
          "state": {
            "_view_name": "StyleView",
            "_model_name": "DescriptionStyleModel",
            "description_width": "",
            "_view_module": "@jupyter-widgets/base",
            "_model_module_version": "1.5.0",
            "_view_count": null,
            "_view_module_version": "1.2.0",
            "_model_module": "@jupyter-widgets/controls"
          }
        },
        "6129725536f54f4cae903c7b030c4d7d": {
          "model_module": "@jupyter-widgets/base",
          "model_name": "LayoutModel",
          "model_module_version": "1.2.0",
          "state": {
            "_view_name": "LayoutView",
            "grid_template_rows": null,
            "right": null,
            "justify_content": null,
            "_view_module": "@jupyter-widgets/base",
            "overflow": null,
            "_model_module_version": "1.2.0",
            "_view_count": null,
            "flex_flow": null,
            "width": null,
            "min_width": null,
            "border": null,
            "align_items": null,
            "bottom": null,
            "_model_module": "@jupyter-widgets/base",
            "top": null,
            "grid_column": null,
            "overflow_y": null,
            "overflow_x": null,
            "grid_auto_flow": null,
            "grid_area": null,
            "grid_template_columns": null,
            "flex": null,
            "_model_name": "LayoutModel",
            "justify_items": null,
            "grid_row": null,
            "max_height": null,
            "align_content": null,
            "visibility": null,
            "align_self": null,
            "height": null,
            "min_height": null,
            "padding": null,
            "grid_auto_rows": null,
            "grid_gap": null,
            "max_width": null,
            "order": null,
            "_view_module_version": "1.2.0",
            "grid_template_areas": null,
            "object_position": null,
            "object_fit": null,
            "grid_auto_columns": null,
            "margin": null,
            "display": null,
            "left": null
          }
        }
      }
    }
  },
  "cells": [
    {
      "cell_type": "markdown",
      "metadata": {
        "id": "view-in-github",
        "colab_type": "text"
      },
      "source": [
        "<a href=\"https://colab.research.google.com/github/mgamzec/GeoPython/blob/main/ipygee_geehydro_ndvi.ipynb\" target=\"_parent\"><img src=\"https://colab.research.google.com/assets/colab-badge.svg\" alt=\"Open In Colab\"/></a>"
      ]
    },
    {
      "cell_type": "code",
      "metadata": {
        "id": "jz3DZCq00xQt"
      },
      "source": [],
      "execution_count": null,
      "outputs": []
    },
    {
      "cell_type": "code",
      "metadata": {
        "id": "u0vjgcgU0zl6"
      },
      "source": [],
      "execution_count": null,
      "outputs": []
    },
    {
      "cell_type": "code",
      "metadata": {
        "colab": {
          "base_uri": "https://localhost:8080/"
        },
        "id": "NtzqZGzD0zpc",
        "outputId": "b6410b1e-dd2b-4e8c-d477-3732ef7e41c8"
      },
      "source": [
        "!pip install geemap"
      ],
      "execution_count": null,
      "outputs": [
        {
          "output_type": "stream",
          "name": "stdout",
          "text": [
            "Requirement already satisfied: geemap in /usr/local/lib/python3.7/dist-packages (0.9.2)\n",
            "Requirement already satisfied: colour in /usr/local/lib/python3.7/dist-packages (from geemap) (0.1.5)\n",
            "Requirement already satisfied: geojson in /usr/local/lib/python3.7/dist-packages (from geemap) (2.5.0)\n",
            "Requirement already satisfied: numpy in /usr/local/lib/python3.7/dist-packages (from geemap) (1.19.5)\n",
            "Requirement already satisfied: python-box in /usr/local/lib/python3.7/dist-packages (from geemap) (5.4.1)\n",
            "Requirement already satisfied: sankee in /usr/local/lib/python3.7/dist-packages (from geemap) (0.0.5)\n",
            "Requirement already satisfied: whiteboxgui>=0.6.0 in /usr/local/lib/python3.7/dist-packages (from geemap) (0.6.0)\n",
            "Requirement already satisfied: folium>=0.11.0 in /usr/local/lib/python3.7/dist-packages (from geemap) (0.12.1)\n",
            "Requirement already satisfied: ffmpeg-python in /usr/local/lib/python3.7/dist-packages (from geemap) (0.2.0)\n",
            "Requirement already satisfied: voila in /usr/local/lib/python3.7/dist-packages (from geemap) (0.2.15)\n",
            "Requirement already satisfied: earthengine-api>=0.1.230 in /usr/local/lib/python3.7/dist-packages (from geemap) (0.1.283)\n",
            "Requirement already satisfied: ipytree in /usr/local/lib/python3.7/dist-packages (from geemap) (0.2.1)\n",
            "Requirement already satisfied: bqplot in /usr/local/lib/python3.7/dist-packages (from geemap) (0.12.31)\n",
            "Requirement already satisfied: pycrs in /usr/local/lib/python3.7/dist-packages (from geemap) (1.0.2)\n",
            "Requirement already satisfied: pyshp>=2.1.3 in /usr/local/lib/python3.7/dist-packages (from geemap) (2.1.3)\n",
            "Requirement already satisfied: click in /usr/local/lib/python3.7/dist-packages (from geemap) (7.1.2)\n",
            "Requirement already satisfied: ipyevents in /usr/local/lib/python3.7/dist-packages (from geemap) (2.0.1)\n",
            "Requirement already satisfied: geeadd>=0.5.1 in /usr/local/lib/python3.7/dist-packages (from geemap) (0.5.5)\n",
            "Requirement already satisfied: geocoder in /usr/local/lib/python3.7/dist-packages (from geemap) (1.38.1)\n",
            "Requirement already satisfied: ipynb-py-convert in /usr/local/lib/python3.7/dist-packages (from geemap) (0.4.6)\n",
            "Requirement already satisfied: ipyleaflet>=0.14.0 in /usr/local/lib/python3.7/dist-packages (from geemap) (0.14.0)\n",
            "Requirement already satisfied: pillow in /usr/local/lib/python3.7/dist-packages (from geemap) (7.1.2)\n",
            "Requirement already satisfied: ipyfilechooser>=0.6.0 in /usr/local/lib/python3.7/dist-packages (from geemap) (0.6.0)\n",
            "Requirement already satisfied: matplotlib in /usr/local/lib/python3.7/dist-packages (from geemap) (3.2.2)\n",
            "Requirement already satisfied: pandas in /usr/local/lib/python3.7/dist-packages (from geemap) (1.1.5)\n",
            "Requirement already satisfied: mss in /usr/local/lib/python3.7/dist-packages (from geemap) (6.1.0)\n",
            "Requirement already satisfied: googledrivedownloader in /usr/local/lib/python3.7/dist-packages (from geemap) (0.4)\n",
            "Requirement already satisfied: google-auth>=1.4.1 in /usr/local/lib/python3.7/dist-packages (from earthengine-api>=0.1.230->geemap) (1.35.0)\n",
            "Requirement already satisfied: httplib2<1dev,>=0.9.2 in /usr/local/lib/python3.7/dist-packages (from earthengine-api>=0.1.230->geemap) (0.17.4)\n",
            "Requirement already satisfied: six in /usr/local/lib/python3.7/dist-packages (from earthengine-api>=0.1.230->geemap) (1.15.0)\n",
            "Requirement already satisfied: httplib2shim in /usr/local/lib/python3.7/dist-packages (from earthengine-api>=0.1.230->geemap) (0.0.3)\n",
            "Requirement already satisfied: google-auth-httplib2>=0.0.3 in /usr/local/lib/python3.7/dist-packages (from earthengine-api>=0.1.230->geemap) (0.0.4)\n",
            "Requirement already satisfied: google-cloud-storage in /usr/local/lib/python3.7/dist-packages (from earthengine-api>=0.1.230->geemap) (1.18.1)\n",
            "Requirement already satisfied: future in /usr/local/lib/python3.7/dist-packages (from earthengine-api>=0.1.230->geemap) (0.16.0)\n",
            "Requirement already satisfied: google-api-python-client<2,>=1.12.1 in /usr/local/lib/python3.7/dist-packages (from earthengine-api>=0.1.230->geemap) (1.12.8)\n",
            "Requirement already satisfied: branca>=0.3.0 in /usr/local/lib/python3.7/dist-packages (from folium>=0.11.0->geemap) (0.4.2)\n",
            "Requirement already satisfied: requests in /usr/local/lib/python3.7/dist-packages (from folium>=0.11.0->geemap) (2.23.0)\n",
            "Requirement already satisfied: jinja2>=2.9 in /usr/local/lib/python3.7/dist-packages (from folium>=0.11.0->geemap) (2.11.3)\n",
            "Requirement already satisfied: logzero>=1.5.0 in /usr/local/lib/python3.7/dist-packages (from geeadd>=0.5.1->geemap) (1.7.0)\n",
            "Requirement already satisfied: beautifulsoup4>=4.9.0 in /usr/local/lib/python3.7/dist-packages (from geeadd>=0.5.1->geemap) (4.10.0)\n",
            "Requirement already satisfied: soupsieve>1.2 in /usr/local/lib/python3.7/dist-packages (from beautifulsoup4>=4.9.0->geeadd>=0.5.1->geemap) (2.2.1)\n",
            "Requirement already satisfied: google-api-core<2dev,>=1.21.0 in /usr/local/lib/python3.7/dist-packages (from google-api-python-client<2,>=1.12.1->earthengine-api>=0.1.230->geemap) (1.26.3)\n",
            "Requirement already satisfied: uritemplate<4dev,>=3.0.0 in /usr/local/lib/python3.7/dist-packages (from google-api-python-client<2,>=1.12.1->earthengine-api>=0.1.230->geemap) (3.0.1)\n",
            "Requirement already satisfied: setuptools>=40.3.0 in /usr/local/lib/python3.7/dist-packages (from google-api-core<2dev,>=1.21.0->google-api-python-client<2,>=1.12.1->earthengine-api>=0.1.230->geemap) (57.4.0)\n",
            "Requirement already satisfied: pytz in /usr/local/lib/python3.7/dist-packages (from google-api-core<2dev,>=1.21.0->google-api-python-client<2,>=1.12.1->earthengine-api>=0.1.230->geemap) (2018.9)\n",
            "Requirement already satisfied: googleapis-common-protos<2.0dev,>=1.6.0 in /usr/local/lib/python3.7/dist-packages (from google-api-core<2dev,>=1.21.0->google-api-python-client<2,>=1.12.1->earthengine-api>=0.1.230->geemap) (1.53.0)\n",
            "Requirement already satisfied: protobuf>=3.12.0 in /usr/local/lib/python3.7/dist-packages (from google-api-core<2dev,>=1.21.0->google-api-python-client<2,>=1.12.1->earthengine-api>=0.1.230->geemap) (3.17.3)\n",
            "Requirement already satisfied: packaging>=14.3 in /usr/local/lib/python3.7/dist-packages (from google-api-core<2dev,>=1.21.0->google-api-python-client<2,>=1.12.1->earthengine-api>=0.1.230->geemap) (21.0)\n",
            "Requirement already satisfied: pyasn1-modules>=0.2.1 in /usr/local/lib/python3.7/dist-packages (from google-auth>=1.4.1->earthengine-api>=0.1.230->geemap) (0.2.8)\n",
            "Requirement already satisfied: cachetools<5.0,>=2.0.0 in /usr/local/lib/python3.7/dist-packages (from google-auth>=1.4.1->earthengine-api>=0.1.230->geemap) (4.2.2)\n",
            "Requirement already satisfied: rsa<5,>=3.1.4 in /usr/local/lib/python3.7/dist-packages (from google-auth>=1.4.1->earthengine-api>=0.1.230->geemap) (4.7.2)\n",
            "Requirement already satisfied: ipywidgets in /usr/local/lib/python3.7/dist-packages (from ipyfilechooser>=0.6.0->geemap) (7.6.5)\n",
            "Requirement already satisfied: traittypes<3,>=0.2.1 in /usr/local/lib/python3.7/dist-packages (from ipyleaflet>=0.14.0->geemap) (0.2.1)\n",
            "Requirement already satisfied: traitlets>=4.3.1 in /usr/local/lib/python3.7/dist-packages (from ipywidgets->ipyfilechooser>=0.6.0->geemap) (5.1.0)\n",
            "Requirement already satisfied: ipykernel>=4.5.1 in /usr/local/lib/python3.7/dist-packages (from ipywidgets->ipyfilechooser>=0.6.0->geemap) (4.10.1)\n",
            "Requirement already satisfied: ipython-genutils~=0.2.0 in /usr/local/lib/python3.7/dist-packages (from ipywidgets->ipyfilechooser>=0.6.0->geemap) (0.2.0)\n",
            "Requirement already satisfied: nbformat>=4.2.0 in /usr/local/lib/python3.7/dist-packages (from ipywidgets->ipyfilechooser>=0.6.0->geemap) (5.1.3)\n",
            "Requirement already satisfied: ipython>=4.0.0 in /usr/local/lib/python3.7/dist-packages (from ipywidgets->ipyfilechooser>=0.6.0->geemap) (5.5.0)\n",
            "Requirement already satisfied: widgetsnbextension~=3.5.0 in /usr/local/lib/python3.7/dist-packages (from ipywidgets->ipyfilechooser>=0.6.0->geemap) (3.5.1)\n",
            "Requirement already satisfied: jupyterlab-widgets>=1.0.0 in /usr/local/lib/python3.7/dist-packages (from ipywidgets->ipyfilechooser>=0.6.0->geemap) (1.0.2)\n",
            "Requirement already satisfied: tornado>=4.0 in /usr/local/lib/python3.7/dist-packages (from ipykernel>=4.5.1->ipywidgets->ipyfilechooser>=0.6.0->geemap) (6.1)\n",
            "Requirement already satisfied: jupyter-client in /usr/local/lib/python3.7/dist-packages (from ipykernel>=4.5.1->ipywidgets->ipyfilechooser>=0.6.0->geemap) (6.1.12)\n",
            "Requirement already satisfied: pickleshare in /usr/local/lib/python3.7/dist-packages (from ipython>=4.0.0->ipywidgets->ipyfilechooser>=0.6.0->geemap) (0.7.5)\n",
            "Requirement already satisfied: pexpect in /usr/local/lib/python3.7/dist-packages (from ipython>=4.0.0->ipywidgets->ipyfilechooser>=0.6.0->geemap) (4.8.0)\n",
            "Requirement already satisfied: prompt-toolkit<2.0.0,>=1.0.4 in /usr/local/lib/python3.7/dist-packages (from ipython>=4.0.0->ipywidgets->ipyfilechooser>=0.6.0->geemap) (1.0.18)\n",
            "Requirement already satisfied: decorator in /usr/local/lib/python3.7/dist-packages (from ipython>=4.0.0->ipywidgets->ipyfilechooser>=0.6.0->geemap) (4.4.2)\n",
            "Requirement already satisfied: pygments in /usr/local/lib/python3.7/dist-packages (from ipython>=4.0.0->ipywidgets->ipyfilechooser>=0.6.0->geemap) (2.6.1)\n",
            "Requirement already satisfied: simplegeneric>0.8 in /usr/local/lib/python3.7/dist-packages (from ipython>=4.0.0->ipywidgets->ipyfilechooser>=0.6.0->geemap) (0.8.1)\n",
            "Requirement already satisfied: MarkupSafe>=0.23 in /usr/local/lib/python3.7/dist-packages (from jinja2>=2.9->folium>=0.11.0->geemap) (2.0.1)\n",
            "Requirement already satisfied: jsonschema!=2.5.0,>=2.4 in /usr/local/lib/python3.7/dist-packages (from nbformat>=4.2.0->ipywidgets->ipyfilechooser>=0.6.0->geemap) (2.6.0)\n",
            "Requirement already satisfied: jupyter-core in /usr/local/lib/python3.7/dist-packages (from nbformat>=4.2.0->ipywidgets->ipyfilechooser>=0.6.0->geemap) (4.8.1)\n",
            "Requirement already satisfied: pyparsing>=2.0.2 in /usr/local/lib/python3.7/dist-packages (from packaging>=14.3->google-api-core<2dev,>=1.21.0->google-api-python-client<2,>=1.12.1->earthengine-api>=0.1.230->geemap) (2.4.7)\n",
            "Requirement already satisfied: wcwidth in /usr/local/lib/python3.7/dist-packages (from prompt-toolkit<2.0.0,>=1.0.4->ipython>=4.0.0->ipywidgets->ipyfilechooser>=0.6.0->geemap) (0.2.5)\n",
            "Requirement already satisfied: pyasn1<0.5.0,>=0.4.6 in /usr/local/lib/python3.7/dist-packages (from pyasn1-modules>=0.2.1->google-auth>=1.4.1->earthengine-api>=0.1.230->geemap) (0.4.8)\n",
            "Requirement already satisfied: certifi>=2017.4.17 in /usr/local/lib/python3.7/dist-packages (from requests->folium>=0.11.0->geemap) (2021.5.30)\n",
            "Requirement already satisfied: chardet<4,>=3.0.2 in /usr/local/lib/python3.7/dist-packages (from requests->folium>=0.11.0->geemap) (3.0.4)\n",
            "Requirement already satisfied: idna<3,>=2.5 in /usr/local/lib/python3.7/dist-packages (from requests->folium>=0.11.0->geemap) (2.10)\n",
            "Requirement already satisfied: urllib3!=1.25.0,!=1.25.1,<1.26,>=1.21.1 in /usr/local/lib/python3.7/dist-packages (from requests->folium>=0.11.0->geemap) (1.24.3)\n",
            "Requirement already satisfied: whitebox in /usr/local/lib/python3.7/dist-packages (from whiteboxgui>=0.6.0->geemap) (2.0.3)\n",
            "Requirement already satisfied: notebook>=4.4.1 in /usr/local/lib/python3.7/dist-packages (from widgetsnbextension~=3.5.0->ipywidgets->ipyfilechooser>=0.6.0->geemap) (5.3.1)\n",
            "Requirement already satisfied: nbconvert in /usr/local/lib/python3.7/dist-packages (from notebook>=4.4.1->widgetsnbextension~=3.5.0->ipywidgets->ipyfilechooser>=0.6.0->geemap) (6.2.0)\n",
            "Requirement already satisfied: terminado>=0.8.1 in /usr/local/lib/python3.7/dist-packages (from notebook>=4.4.1->widgetsnbextension~=3.5.0->ipywidgets->ipyfilechooser>=0.6.0->geemap) (0.12.1)\n",
            "Requirement already satisfied: Send2Trash in /usr/local/lib/python3.7/dist-packages (from notebook>=4.4.1->widgetsnbextension~=3.5.0->ipywidgets->ipyfilechooser>=0.6.0->geemap) (1.8.0)\n",
            "Requirement already satisfied: pyzmq>=13 in /usr/local/lib/python3.7/dist-packages (from jupyter-client->ipykernel>=4.5.1->ipywidgets->ipyfilechooser>=0.6.0->geemap) (22.3.0)\n",
            "Requirement already satisfied: python-dateutil>=2.1 in /usr/local/lib/python3.7/dist-packages (from jupyter-client->ipykernel>=4.5.1->ipywidgets->ipyfilechooser>=0.6.0->geemap) (2.8.2)\n",
            "Requirement already satisfied: ptyprocess in /usr/local/lib/python3.7/dist-packages (from terminado>=0.8.1->notebook>=4.4.1->widgetsnbextension~=3.5.0->ipywidgets->ipyfilechooser>=0.6.0->geemap) (0.7.0)\n",
            "Requirement already satisfied: ratelim in /usr/local/lib/python3.7/dist-packages (from geocoder->geemap) (0.1.6)\n",
            "Requirement already satisfied: google-cloud-core<2.0dev,>=1.0.0 in /usr/local/lib/python3.7/dist-packages (from google-cloud-storage->earthengine-api>=0.1.230->geemap) (1.0.3)\n",
            "Requirement already satisfied: google-resumable-media<0.5.0dev,>=0.3.1 in /usr/local/lib/python3.7/dist-packages (from google-cloud-storage->earthengine-api>=0.1.230->geemap) (0.4.1)\n",
            "Requirement already satisfied: cycler>=0.10 in /usr/local/lib/python3.7/dist-packages (from matplotlib->geemap) (0.10.0)\n",
            "Requirement already satisfied: kiwisolver>=1.0.1 in /usr/local/lib/python3.7/dist-packages (from matplotlib->geemap) (1.3.2)\n",
            "Requirement already satisfied: nbclient<0.6.0,>=0.5.0 in /usr/local/lib/python3.7/dist-packages (from nbconvert->notebook>=4.4.1->widgetsnbextension~=3.5.0->ipywidgets->ipyfilechooser>=0.6.0->geemap) (0.5.4)\n",
            "Requirement already satisfied: testpath in /usr/local/lib/python3.7/dist-packages (from nbconvert->notebook>=4.4.1->widgetsnbextension~=3.5.0->ipywidgets->ipyfilechooser>=0.6.0->geemap) (0.5.0)\n",
            "Requirement already satisfied: jupyterlab-pygments in /usr/local/lib/python3.7/dist-packages (from nbconvert->notebook>=4.4.1->widgetsnbextension~=3.5.0->ipywidgets->ipyfilechooser>=0.6.0->geemap) (0.1.2)\n",
            "Requirement already satisfied: pandocfilters>=1.4.1 in /usr/local/lib/python3.7/dist-packages (from nbconvert->notebook>=4.4.1->widgetsnbextension~=3.5.0->ipywidgets->ipyfilechooser>=0.6.0->geemap) (1.5.0)\n",
            "Requirement already satisfied: entrypoints>=0.2.2 in /usr/local/lib/python3.7/dist-packages (from nbconvert->notebook>=4.4.1->widgetsnbextension~=3.5.0->ipywidgets->ipyfilechooser>=0.6.0->geemap) (0.3)\n",
            "Requirement already satisfied: bleach in /usr/local/lib/python3.7/dist-packages (from nbconvert->notebook>=4.4.1->widgetsnbextension~=3.5.0->ipywidgets->ipyfilechooser>=0.6.0->geemap) (4.1.0)\n",
            "Requirement already satisfied: defusedxml in /usr/local/lib/python3.7/dist-packages (from nbconvert->notebook>=4.4.1->widgetsnbextension~=3.5.0->ipywidgets->ipyfilechooser>=0.6.0->geemap) (0.7.1)\n",
            "Requirement already satisfied: mistune<2,>=0.8.1 in /usr/local/lib/python3.7/dist-packages (from nbconvert->notebook>=4.4.1->widgetsnbextension~=3.5.0->ipywidgets->ipyfilechooser>=0.6.0->geemap) (0.8.4)\n",
            "Requirement already satisfied: nest-asyncio in /usr/local/lib/python3.7/dist-packages (from nbclient<0.6.0,>=0.5.0->nbconvert->notebook>=4.4.1->widgetsnbextension~=3.5.0->ipywidgets->ipyfilechooser>=0.6.0->geemap) (1.5.1)\n",
            "Requirement already satisfied: webencodings in /usr/local/lib/python3.7/dist-packages (from bleach->nbconvert->notebook>=4.4.1->widgetsnbextension~=3.5.0->ipywidgets->ipyfilechooser>=0.6.0->geemap) (0.5.1)\n",
            "Requirement already satisfied: plotly in /usr/local/lib/python3.7/dist-packages (from sankee->geemap) (4.4.1)\n",
            "Requirement already satisfied: retrying>=1.3.3 in /usr/local/lib/python3.7/dist-packages (from plotly->sankee->geemap) (1.3.3)\n",
            "Requirement already satisfied: jupyter-server<2.0.0,>=0.3.0 in /usr/local/lib/python3.7/dist-packages (from voila->geemap) (1.11.0)\n",
            "Requirement already satisfied: websocket-client in /usr/local/lib/python3.7/dist-packages (from jupyter-server<2.0.0,>=0.3.0->voila->geemap) (1.2.1)\n",
            "Requirement already satisfied: argon2-cffi in /usr/local/lib/python3.7/dist-packages (from jupyter-server<2.0.0,>=0.3.0->voila->geemap) (21.1.0)\n",
            "Requirement already satisfied: prometheus-client in /usr/local/lib/python3.7/dist-packages (from jupyter-server<2.0.0,>=0.3.0->voila->geemap) (0.11.0)\n",
            "Requirement already satisfied: anyio<4,>=3.1.0 in /usr/local/lib/python3.7/dist-packages (from jupyter-server<2.0.0,>=0.3.0->voila->geemap) (3.3.2)\n",
            "Requirement already satisfied: requests-unixsocket in /usr/local/lib/python3.7/dist-packages (from jupyter-server<2.0.0,>=0.3.0->voila->geemap) (0.2.0)\n",
            "Requirement already satisfied: typing-extensions in /usr/local/lib/python3.7/dist-packages (from anyio<4,>=3.1.0->jupyter-server<2.0.0,>=0.3.0->voila->geemap) (3.7.4.3)\n",
            "Requirement already satisfied: sniffio>=1.1 in /usr/local/lib/python3.7/dist-packages (from anyio<4,>=3.1.0->jupyter-server<2.0.0,>=0.3.0->voila->geemap) (1.2.0)\n",
            "Requirement already satisfied: cffi>=1.0.0 in /usr/local/lib/python3.7/dist-packages (from argon2-cffi->jupyter-server<2.0.0,>=0.3.0->voila->geemap) (1.14.6)\n",
            "Requirement already satisfied: pycparser in /usr/local/lib/python3.7/dist-packages (from cffi>=1.0.0->argon2-cffi->jupyter-server<2.0.0,>=0.3.0->voila->geemap) (2.20)\n"
          ]
        }
      ]
    },
    {
      "cell_type": "code",
      "metadata": {
        "id": "iChfvwQd0zsr"
      },
      "source": [],
      "execution_count": null,
      "outputs": []
    },
    {
      "cell_type": "code",
      "metadata": {
        "colab": {
          "base_uri": "https://localhost:8080/"
        },
        "id": "ZIAoAMq71CYa",
        "outputId": "6dcb1192-ef07-499d-cf23-7002958f7442"
      },
      "source": [
        "import ee\n",
        "\n",
        "# Trigger the authentication flow.\n",
        "ee.Authenticate()\n",
        "\n",
        "# Initialize the library.\n",
        "ee.Initialize()"
      ],
      "execution_count": null,
      "outputs": [
        {
          "output_type": "stream",
          "name": "stdout",
          "text": [
            "To authorize access needed by Earth Engine, open the following URL in a web browser and follow the instructions. If the web browser does not start automatically, please manually browse the URL below.\n",
            "\n",
            "    https://accounts.google.com/o/oauth2/auth?client_id=517222506229-vsmmajv00ul0bs7p89v5m89qs8eb9359.apps.googleusercontent.com&scope=https%3A%2F%2Fwww.googleapis.com%2Fauth%2Fearthengine+https%3A%2F%2Fwww.googleapis.com%2Fauth%2Fdevstorage.full_control&redirect_uri=urn%3Aietf%3Awg%3Aoauth%3A2.0%3Aoob&response_type=code&code_challenge=3Bpruu3mLPZagJTZjP178L46zofTHHhziWRCpkWB_gY&code_challenge_method=S256\n",
            "\n",
            "The authorization workflow will generate a code, which you should paste in the box below. \n",
            "Enter verification code: 4/1AX4XfWijcVLGlXXsp185h8ItjW15kVTtnZ2U3zq_ymauEbeXYQl7cjCvA9s\n",
            "\n",
            "Successfully saved authorization token.\n"
          ]
        }
      ]
    },
    {
      "cell_type": "code",
      "metadata": {
        "id": "Mj-hh2Ir1Cby"
      },
      "source": [
        "# Installs geemap package\n",
        "import google.colab\n",
        "import geemap.eefolium as geemap"
      ],
      "execution_count": null,
      "outputs": []
    },
    {
      "cell_type": "code",
      "metadata": {
        "id": "QjKkayv81Cf5"
      },
      "source": [
        "import ee\n",
        "import geemap\n",
        "\n",
        "try:\n",
        "    ee.Initialize()\n",
        "except Exception as e:\n",
        "    ee.Authenticate()\n",
        "    ee.Initialize()\n"
      ],
      "execution_count": null,
      "outputs": []
    },
    {
      "cell_type": "code",
      "metadata": {
        "id": "1E2o5SCp1CjS"
      },
      "source": [],
      "execution_count": null,
      "outputs": []
    },
    {
      "cell_type": "code",
      "metadata": {
        "id": "MSwKb2bp0zwS"
      },
      "source": [
        "wdpa_polygon = ee.FeatureCollection('WCMC/WDPA/current/polygons')\n",
        "# select the pa in cambodia\n",
        "als = wdpa_polygon.filter(ee.Filter.eq('NAME', 'Ang Trapeng Thmor'))\n",
        "\n"
      ],
      "execution_count": null,
      "outputs": []
    },
    {
      "cell_type": "code",
      "metadata": {
        "id": "LVQkUE7I1XqD"
      },
      "source": [],
      "execution_count": null,
      "outputs": []
    },
    {
      "cell_type": "code",
      "metadata": {
        "id": "V6e_kXWX38lf"
      },
      "source": [
        "#d=ee.ImageCollection(\"NASA/MEASURES/GFCC/TC/v3\").filter(ee.Filter.date('2015-01-01', '2015-07-31'))\n",
        "\n",
        "modis = ee.ImageCollection('MODIS/006/MOD13Q1')\n",
        "modis = modis.filterDate(ee.DateRange('2017-01-01','2019-12-01'))\n",
        "ndvi = modis.select('NDVI') ##select band"
      ],
      "execution_count": null,
      "outputs": []
    },
    {
      "cell_type": "markdown",
      "metadata": {
        "id": "DviHsy2RMaNO"
      },
      "source": [
        "Apply scale factor"
      ]
    },
    {
      "cell_type": "code",
      "metadata": {
        "id": "MePNoGNYMcZX"
      },
      "source": [
        "def scale_factor(image):\n",
        "# scale factor for the MODIS MOD13Q1 product\n",
        "  return image.multiply(0.0001).copyProperties(image,\n",
        "                                             ['system:time_start'])\n",
        "# mapping function to multiply by the scale factor\n",
        "\n",
        "scaled_ndvi = ndvi.map(scale_factor)"
      ],
      "execution_count": null,
      "outputs": []
    },
    {
      "cell_type": "code",
      "metadata": {
        "id": "h3qLzoz6Mcc0"
      },
      "source": [
        "ndviCoverVis = {\n",
        "  'min': 0,\n",
        "  'max': 1,\n",
        "  'palette': ['red', 'yellow','green'],\n",
        "}"
      ],
      "execution_count": null,
      "outputs": []
    },
    {
      "cell_type": "code",
      "metadata": {
        "id": "9KZcS1VNMchA"
      },
      "source": [],
      "execution_count": null,
      "outputs": []
    },
    {
      "cell_type": "code",
      "metadata": {
        "colab": {
          "base_uri": "https://localhost:8080/",
          "height": 621,
          "referenced_widgets": [
            "21173cd7132a4e2d986c92bd2673e0e7",
            "a294c560068d4ee1b376b246430a6e69",
            "ab8977ddb7f1434d8c647ff114350880",
            "264d0c4accf547b4a413f7d95c005f4e",
            "cc22a8361e38408c84c51acb3c2b2636",
            "6df03fa60fd84c0c877c553bf3da9fe4",
            "0367395f892d4e3f849b44523f2a24f6",
            "4e65680e6c46494587b014bf68e3f7ba",
            "a7210220e7584468988f7078a8a6ee60",
            "def167bea1344def9f8c6131d36ff564",
            "e3faba75af9a4fbd9150d10196576d7f",
            "61f5d768ef434411b424f37e7d945091",
            "a0a4ecd2fd234a88ba094aace7e3cc38",
            "e19c3b5f936744e18d929133d75a06af",
            "072f69c46d3248b7bca77020933dc709",
            "6349c00dda3d410290ed7033ba18f739",
            "e31cbfe0cec4449b90e3eb7d45f8b796",
            "0fb27935fd0040598526ca0aa4a6167f",
            "121301fd71cc44e8ae450c456e660c1a",
            "78f87d3d36a6413c90d00138f486ac94",
            "6ba7cd3c0b4446bfb2d73c3d2d6f1908",
            "0d4676a08b5045538b46af0478b2f524",
            "9c2af5a5d8e949f88c30a0a11c4bbae2",
            "c9a5d74fcc9a4131ae669853a3f855f0",
            "786f5cdafb7d491bafc902291ed62883",
            "196d2f58b61c4ca2ae3c141852cdae36",
            "03d62954fc2347aab5bcbaa9cd2f9ff7",
            "4e171219d8174a468b534413b55b44c2"
          ]
        },
        "id": "To92V-gx9Jv6",
        "outputId": "200decbd-3d55-4055-efa5-0b97a578ce5d"
      },
      "source": [
        "map4 = geemap.Map(center=[12.5657, 105],zoom=5)\n",
        "map4.add_basemap('SATELLITE')\n",
        "map4.addLayer(scaled_ndvi.mean().clip(als), ndviCoverVis, 'NDVI')\n",
        "map4.addLayer(als,{},'PA')\n",
        "map4.addLayerControl()\n",
        "map4"
      ],
      "execution_count": null,
      "outputs": [
        {
          "output_type": "display_data",
          "data": {
            "application/vnd.jupyter.widget-view+json": {
              "model_id": "21173cd7132a4e2d986c92bd2673e0e7",
              "version_minor": 0,
              "version_major": 2
            },
            "text/plain": [
              "Map(center=[12.5657, 105], controls=(WidgetControl(options=['position', 'transparent_bg'], widget=HBox(childre…"
            ]
          },
          "metadata": {
            "application/vnd.jupyter.widget-view+json": {
              "colab": {
                "custom_widget_manager": {
                  "url": "https://ssl.gstatic.com/colaboratory-static/widgets/colab-cdn-widget-manager/3922baeab3631134/manager.min.js"
                }
              }
            }
          }
        }
      ]
    },
    {
      "cell_type": "code",
      "metadata": {
        "id": "3gEBcLdsDd4v"
      },
      "source": [],
      "execution_count": null,
      "outputs": []
    },
    {
      "cell_type": "code",
      "metadata": {
        "colab": {
          "base_uri": "https://localhost:8080/"
        },
        "id": "WnHVrbusDeD-",
        "outputId": "c398ad11-a5bb-4c4b-8538-3e66c864cccb"
      },
      "source": [
        "!pip install ipygee"
      ],
      "execution_count": null,
      "outputs": [
        {
          "output_type": "stream",
          "name": "stdout",
          "text": [
            "Collecting ipygee\n",
            "  Downloading ipygee-0.0.17.tar.gz (36 kB)\n",
            "Requirement already satisfied: ipyleaflet>=0.10.2 in /usr/local/lib/python3.7/dist-packages (from ipygee) (0.14.0)\n",
            "Collecting pygal\n",
            "  Downloading pygal-2.4.0-py2.py3-none-any.whl (127 kB)\n",
            "\u001b[K     |████████████████████████████████| 127 kB 18.5 MB/s \n",
            "\u001b[?25hRequirement already satisfied: pandas in /usr/local/lib/python3.7/dist-packages (from ipygee) (1.1.5)\n",
            "Collecting geetools\n",
            "  Downloading geetools-0.6.14.tar.gz (74 kB)\n",
            "\u001b[K     |████████████████████████████████| 74 kB 3.3 MB/s \n",
            "\u001b[?25hRequirement already satisfied: ipywidgets<8,>=7.6.0 in /usr/local/lib/python3.7/dist-packages (from ipyleaflet>=0.10.2->ipygee) (7.6.5)\n",
            "Requirement already satisfied: traittypes<3,>=0.2.1 in /usr/local/lib/python3.7/dist-packages (from ipyleaflet>=0.10.2->ipygee) (0.2.1)\n",
            "Requirement already satisfied: widgetsnbextension~=3.5.0 in /usr/local/lib/python3.7/dist-packages (from ipywidgets<8,>=7.6.0->ipyleaflet>=0.10.2->ipygee) (3.5.1)\n",
            "Requirement already satisfied: jupyterlab-widgets>=1.0.0 in /usr/local/lib/python3.7/dist-packages (from ipywidgets<8,>=7.6.0->ipyleaflet>=0.10.2->ipygee) (1.0.2)\n",
            "Requirement already satisfied: traitlets>=4.3.1 in /usr/local/lib/python3.7/dist-packages (from ipywidgets<8,>=7.6.0->ipyleaflet>=0.10.2->ipygee) (5.1.0)\n",
            "Requirement already satisfied: ipykernel>=4.5.1 in /usr/local/lib/python3.7/dist-packages (from ipywidgets<8,>=7.6.0->ipyleaflet>=0.10.2->ipygee) (4.10.1)\n",
            "Requirement already satisfied: nbformat>=4.2.0 in /usr/local/lib/python3.7/dist-packages (from ipywidgets<8,>=7.6.0->ipyleaflet>=0.10.2->ipygee) (5.1.3)\n",
            "Requirement already satisfied: ipython-genutils~=0.2.0 in /usr/local/lib/python3.7/dist-packages (from ipywidgets<8,>=7.6.0->ipyleaflet>=0.10.2->ipygee) (0.2.0)\n",
            "Requirement already satisfied: ipython>=4.0.0 in /usr/local/lib/python3.7/dist-packages (from ipywidgets<8,>=7.6.0->ipyleaflet>=0.10.2->ipygee) (5.5.0)\n",
            "Requirement already satisfied: tornado>=4.0 in /usr/local/lib/python3.7/dist-packages (from ipykernel>=4.5.1->ipywidgets<8,>=7.6.0->ipyleaflet>=0.10.2->ipygee) (6.1)\n",
            "Requirement already satisfied: jupyter-client in /usr/local/lib/python3.7/dist-packages (from ipykernel>=4.5.1->ipywidgets<8,>=7.6.0->ipyleaflet>=0.10.2->ipygee) (6.1.12)\n",
            "Requirement already satisfied: pexpect in /usr/local/lib/python3.7/dist-packages (from ipython>=4.0.0->ipywidgets<8,>=7.6.0->ipyleaflet>=0.10.2->ipygee) (4.8.0)\n",
            "Requirement already satisfied: simplegeneric>0.8 in /usr/local/lib/python3.7/dist-packages (from ipython>=4.0.0->ipywidgets<8,>=7.6.0->ipyleaflet>=0.10.2->ipygee) (0.8.1)\n",
            "Requirement already satisfied: pygments in /usr/local/lib/python3.7/dist-packages (from ipython>=4.0.0->ipywidgets<8,>=7.6.0->ipyleaflet>=0.10.2->ipygee) (2.6.1)\n",
            "Requirement already satisfied: setuptools>=18.5 in /usr/local/lib/python3.7/dist-packages (from ipython>=4.0.0->ipywidgets<8,>=7.6.0->ipyleaflet>=0.10.2->ipygee) (57.4.0)\n",
            "Requirement already satisfied: pickleshare in /usr/local/lib/python3.7/dist-packages (from ipython>=4.0.0->ipywidgets<8,>=7.6.0->ipyleaflet>=0.10.2->ipygee) (0.7.5)\n",
            "Requirement already satisfied: prompt-toolkit<2.0.0,>=1.0.4 in /usr/local/lib/python3.7/dist-packages (from ipython>=4.0.0->ipywidgets<8,>=7.6.0->ipyleaflet>=0.10.2->ipygee) (1.0.18)\n",
            "Requirement already satisfied: decorator in /usr/local/lib/python3.7/dist-packages (from ipython>=4.0.0->ipywidgets<8,>=7.6.0->ipyleaflet>=0.10.2->ipygee) (4.4.2)\n",
            "Requirement already satisfied: jupyter-core in /usr/local/lib/python3.7/dist-packages (from nbformat>=4.2.0->ipywidgets<8,>=7.6.0->ipyleaflet>=0.10.2->ipygee) (4.8.1)\n",
            "Requirement already satisfied: jsonschema!=2.5.0,>=2.4 in /usr/local/lib/python3.7/dist-packages (from nbformat>=4.2.0->ipywidgets<8,>=7.6.0->ipyleaflet>=0.10.2->ipygee) (2.6.0)\n",
            "Requirement already satisfied: wcwidth in /usr/local/lib/python3.7/dist-packages (from prompt-toolkit<2.0.0,>=1.0.4->ipython>=4.0.0->ipywidgets<8,>=7.6.0->ipyleaflet>=0.10.2->ipygee) (0.2.5)\n",
            "Requirement already satisfied: six>=1.9.0 in /usr/local/lib/python3.7/dist-packages (from prompt-toolkit<2.0.0,>=1.0.4->ipython>=4.0.0->ipywidgets<8,>=7.6.0->ipyleaflet>=0.10.2->ipygee) (1.15.0)\n",
            "Requirement already satisfied: notebook>=4.4.1 in /usr/local/lib/python3.7/dist-packages (from widgetsnbextension~=3.5.0->ipywidgets<8,>=7.6.0->ipyleaflet>=0.10.2->ipygee) (5.3.1)\n",
            "Requirement already satisfied: Send2Trash in /usr/local/lib/python3.7/dist-packages (from notebook>=4.4.1->widgetsnbextension~=3.5.0->ipywidgets<8,>=7.6.0->ipyleaflet>=0.10.2->ipygee) (1.8.0)\n",
            "Requirement already satisfied: terminado>=0.8.1 in /usr/local/lib/python3.7/dist-packages (from notebook>=4.4.1->widgetsnbextension~=3.5.0->ipywidgets<8,>=7.6.0->ipyleaflet>=0.10.2->ipygee) (0.12.1)\n",
            "Requirement already satisfied: jinja2 in /usr/local/lib/python3.7/dist-packages (from notebook>=4.4.1->widgetsnbextension~=3.5.0->ipywidgets<8,>=7.6.0->ipyleaflet>=0.10.2->ipygee) (2.11.3)\n",
            "Requirement already satisfied: nbconvert in /usr/local/lib/python3.7/dist-packages (from notebook>=4.4.1->widgetsnbextension~=3.5.0->ipywidgets<8,>=7.6.0->ipyleaflet>=0.10.2->ipygee) (6.2.0)\n",
            "Requirement already satisfied: python-dateutil>=2.1 in /usr/local/lib/python3.7/dist-packages (from jupyter-client->ipykernel>=4.5.1->ipywidgets<8,>=7.6.0->ipyleaflet>=0.10.2->ipygee) (2.8.2)\n",
            "Requirement already satisfied: pyzmq>=13 in /usr/local/lib/python3.7/dist-packages (from jupyter-client->ipykernel>=4.5.1->ipywidgets<8,>=7.6.0->ipyleaflet>=0.10.2->ipygee) (22.3.0)\n",
            "Requirement already satisfied: ptyprocess in /usr/local/lib/python3.7/dist-packages (from terminado>=0.8.1->notebook>=4.4.1->widgetsnbextension~=3.5.0->ipywidgets<8,>=7.6.0->ipyleaflet>=0.10.2->ipygee) (0.7.0)\n",
            "Requirement already satisfied: requests in /usr/local/lib/python3.7/dist-packages (from geetools->ipygee) (2.23.0)\n",
            "Requirement already satisfied: pyshp in /usr/local/lib/python3.7/dist-packages (from geetools->ipygee) (2.1.3)\n",
            "Requirement already satisfied: MarkupSafe>=0.23 in /usr/local/lib/python3.7/dist-packages (from jinja2->notebook>=4.4.1->widgetsnbextension~=3.5.0->ipywidgets<8,>=7.6.0->ipyleaflet>=0.10.2->ipygee) (2.0.1)\n",
            "Requirement already satisfied: entrypoints>=0.2.2 in /usr/local/lib/python3.7/dist-packages (from nbconvert->notebook>=4.4.1->widgetsnbextension~=3.5.0->ipywidgets<8,>=7.6.0->ipyleaflet>=0.10.2->ipygee) (0.3)\n",
            "Requirement already satisfied: bleach in /usr/local/lib/python3.7/dist-packages (from nbconvert->notebook>=4.4.1->widgetsnbextension~=3.5.0->ipywidgets<8,>=7.6.0->ipyleaflet>=0.10.2->ipygee) (4.1.0)\n",
            "Requirement already satisfied: testpath in /usr/local/lib/python3.7/dist-packages (from nbconvert->notebook>=4.4.1->widgetsnbextension~=3.5.0->ipywidgets<8,>=7.6.0->ipyleaflet>=0.10.2->ipygee) (0.5.0)\n",
            "Requirement already satisfied: mistune<2,>=0.8.1 in /usr/local/lib/python3.7/dist-packages (from nbconvert->notebook>=4.4.1->widgetsnbextension~=3.5.0->ipywidgets<8,>=7.6.0->ipyleaflet>=0.10.2->ipygee) (0.8.4)\n",
            "Requirement already satisfied: pandocfilters>=1.4.1 in /usr/local/lib/python3.7/dist-packages (from nbconvert->notebook>=4.4.1->widgetsnbextension~=3.5.0->ipywidgets<8,>=7.6.0->ipyleaflet>=0.10.2->ipygee) (1.5.0)\n",
            "Requirement already satisfied: nbclient<0.6.0,>=0.5.0 in /usr/local/lib/python3.7/dist-packages (from nbconvert->notebook>=4.4.1->widgetsnbextension~=3.5.0->ipywidgets<8,>=7.6.0->ipyleaflet>=0.10.2->ipygee) (0.5.4)\n",
            "Requirement already satisfied: defusedxml in /usr/local/lib/python3.7/dist-packages (from nbconvert->notebook>=4.4.1->widgetsnbextension~=3.5.0->ipywidgets<8,>=7.6.0->ipyleaflet>=0.10.2->ipygee) (0.7.1)\n",
            "Requirement already satisfied: jupyterlab-pygments in /usr/local/lib/python3.7/dist-packages (from nbconvert->notebook>=4.4.1->widgetsnbextension~=3.5.0->ipywidgets<8,>=7.6.0->ipyleaflet>=0.10.2->ipygee) (0.1.2)\n",
            "Requirement already satisfied: nest-asyncio in /usr/local/lib/python3.7/dist-packages (from nbclient<0.6.0,>=0.5.0->nbconvert->notebook>=4.4.1->widgetsnbextension~=3.5.0->ipywidgets<8,>=7.6.0->ipyleaflet>=0.10.2->ipygee) (1.5.1)\n",
            "Requirement already satisfied: packaging in /usr/local/lib/python3.7/dist-packages (from bleach->nbconvert->notebook>=4.4.1->widgetsnbextension~=3.5.0->ipywidgets<8,>=7.6.0->ipyleaflet>=0.10.2->ipygee) (21.0)\n",
            "Requirement already satisfied: webencodings in /usr/local/lib/python3.7/dist-packages (from bleach->nbconvert->notebook>=4.4.1->widgetsnbextension~=3.5.0->ipywidgets<8,>=7.6.0->ipyleaflet>=0.10.2->ipygee) (0.5.1)\n",
            "Requirement already satisfied: pyparsing>=2.0.2 in /usr/local/lib/python3.7/dist-packages (from packaging->bleach->nbconvert->notebook>=4.4.1->widgetsnbextension~=3.5.0->ipywidgets<8,>=7.6.0->ipyleaflet>=0.10.2->ipygee) (2.4.7)\n",
            "Requirement already satisfied: pytz>=2017.2 in /usr/local/lib/python3.7/dist-packages (from pandas->ipygee) (2018.9)\n",
            "Requirement already satisfied: numpy>=1.15.4 in /usr/local/lib/python3.7/dist-packages (from pandas->ipygee) (1.19.5)\n",
            "Requirement already satisfied: chardet<4,>=3.0.2 in /usr/local/lib/python3.7/dist-packages (from requests->geetools->ipygee) (3.0.4)\n",
            "Requirement already satisfied: idna<3,>=2.5 in /usr/local/lib/python3.7/dist-packages (from requests->geetools->ipygee) (2.10)\n",
            "Requirement already satisfied: urllib3!=1.25.0,!=1.25.1,<1.26,>=1.21.1 in /usr/local/lib/python3.7/dist-packages (from requests->geetools->ipygee) (1.24.3)\n",
            "Requirement already satisfied: certifi>=2017.4.17 in /usr/local/lib/python3.7/dist-packages (from requests->geetools->ipygee) (2021.5.30)\n",
            "Building wheels for collected packages: ipygee, geetools\n",
            "  Building wheel for ipygee (setup.py) ... \u001b[?25l\u001b[?25hdone\n",
            "  Created wheel for ipygee: filename=ipygee-0.0.17-py3-none-any.whl size=40380 sha256=040457424125c2e30ab6141738be07f364f61335ee2eb95e6ed4184d9a3f467a\n",
            "  Stored in directory: /root/.cache/pip/wheels/73/af/7e/a9d3fac7d32e649c63fdbdb9b320181b20eb4bfdc80af13974\n",
            "  Building wheel for geetools (setup.py) ... \u001b[?25l\u001b[?25hdone\n",
            "  Created wheel for geetools: filename=geetools-0.6.14-py3-none-any.whl size=92105 sha256=9c58c0eb0c158d9c7dd2dc64c203d7341f7a3e2d9940be65d59f8aec73c7e439\n",
            "  Stored in directory: /root/.cache/pip/wheels/5c/55/29/0a09dcf6b39bba8c890e40171cac3e3607a5c4b354b7e9447c\n",
            "Successfully built ipygee geetools\n",
            "Installing collected packages: pygal, geetools, ipygee\n",
            "Successfully installed geetools-0.6.14 ipygee-0.0.17 pygal-2.4.0\n"
          ]
        }
      ]
    },
    {
      "cell_type": "code",
      "metadata": {
        "colab": {
          "base_uri": "https://localhost:8080/"
        },
        "id": "55hV_uGCD1Ih",
        "outputId": "c1a30c49-fc80-4d37-9d57-fd350896df9c"
      },
      "source": [
        "!pip install -U proplot"
      ],
      "execution_count": null,
      "outputs": [
        {
          "output_type": "stream",
          "name": "stdout",
          "text": [
            "Collecting proplot\n",
            "  Downloading proplot-0.9.2-py3-none-any.whl (8.0 MB)\n",
            "\u001b[K     |████████████████████████████████| 8.0 MB 10.1 MB/s \n",
            "\u001b[?25hRequirement already satisfied: matplotlib in /usr/local/lib/python3.7/dist-packages (from proplot) (3.2.2)\n",
            "Requirement already satisfied: pyparsing!=2.0.4,!=2.1.2,!=2.1.6,>=2.0.1 in /usr/local/lib/python3.7/dist-packages (from matplotlib->proplot) (2.4.7)\n",
            "Requirement already satisfied: cycler>=0.10 in /usr/local/lib/python3.7/dist-packages (from matplotlib->proplot) (0.10.0)\n",
            "Requirement already satisfied: kiwisolver>=1.0.1 in /usr/local/lib/python3.7/dist-packages (from matplotlib->proplot) (1.3.2)\n",
            "Requirement already satisfied: python-dateutil>=2.1 in /usr/local/lib/python3.7/dist-packages (from matplotlib->proplot) (2.8.2)\n",
            "Requirement already satisfied: numpy>=1.11 in /usr/local/lib/python3.7/dist-packages (from matplotlib->proplot) (1.19.5)\n",
            "Requirement already satisfied: six in /usr/local/lib/python3.7/dist-packages (from cycler>=0.10->matplotlib->proplot) (1.15.0)\n",
            "Installing collected packages: proplot\n",
            "Successfully installed proplot-0.9.2\n"
          ]
        }
      ]
    },
    {
      "cell_type": "code",
      "metadata": {
        "colab": {
          "base_uri": "https://localhost:8080/"
        },
        "id": "MIH63WpVD1oH",
        "outputId": "b466c596-c0f8-478d-b241-f7748e2dc61b"
      },
      "source": [
        "!pip install geehydro"
      ],
      "execution_count": null,
      "outputs": [
        {
          "output_type": "stream",
          "name": "stdout",
          "text": [
            "Collecting geehydro\n",
            "  Downloading geehydro-0.2.0.tar.gz (15 kB)\n",
            "Requirement already satisfied: earthengine-api in /usr/local/lib/python3.7/dist-packages (from geehydro) (0.1.283)\n",
            "Requirement already satisfied: folium in /usr/local/lib/python3.7/dist-packages (from geehydro) (0.12.1)\n",
            "Requirement already satisfied: click in /usr/local/lib/python3.7/dist-packages (from geehydro) (7.1.2)\n",
            "Requirement already satisfied: google-auth>=1.4.1 in /usr/local/lib/python3.7/dist-packages (from earthengine-api->geehydro) (1.35.0)\n",
            "Requirement already satisfied: httplib2<1dev,>=0.9.2 in /usr/local/lib/python3.7/dist-packages (from earthengine-api->geehydro) (0.17.4)\n",
            "Requirement already satisfied: google-auth-httplib2>=0.0.3 in /usr/local/lib/python3.7/dist-packages (from earthengine-api->geehydro) (0.0.4)\n",
            "Requirement already satisfied: google-cloud-storage in /usr/local/lib/python3.7/dist-packages (from earthengine-api->geehydro) (1.18.1)\n",
            "Requirement already satisfied: httplib2shim in /usr/local/lib/python3.7/dist-packages (from earthengine-api->geehydro) (0.0.3)\n",
            "Requirement already satisfied: google-api-python-client<2,>=1.12.1 in /usr/local/lib/python3.7/dist-packages (from earthengine-api->geehydro) (1.12.8)\n",
            "Requirement already satisfied: six in /usr/local/lib/python3.7/dist-packages (from earthengine-api->geehydro) (1.15.0)\n",
            "Requirement already satisfied: future in /usr/local/lib/python3.7/dist-packages (from earthengine-api->geehydro) (0.16.0)\n",
            "Requirement already satisfied: google-api-core<2dev,>=1.21.0 in /usr/local/lib/python3.7/dist-packages (from google-api-python-client<2,>=1.12.1->earthengine-api->geehydro) (1.26.3)\n",
            "Requirement already satisfied: uritemplate<4dev,>=3.0.0 in /usr/local/lib/python3.7/dist-packages (from google-api-python-client<2,>=1.12.1->earthengine-api->geehydro) (3.0.1)\n",
            "Requirement already satisfied: requests<3.0.0dev,>=2.18.0 in /usr/local/lib/python3.7/dist-packages (from google-api-core<2dev,>=1.21.0->google-api-python-client<2,>=1.12.1->earthengine-api->geehydro) (2.23.0)\n",
            "Requirement already satisfied: protobuf>=3.12.0 in /usr/local/lib/python3.7/dist-packages (from google-api-core<2dev,>=1.21.0->google-api-python-client<2,>=1.12.1->earthengine-api->geehydro) (3.17.3)\n",
            "Requirement already satisfied: setuptools>=40.3.0 in /usr/local/lib/python3.7/dist-packages (from google-api-core<2dev,>=1.21.0->google-api-python-client<2,>=1.12.1->earthengine-api->geehydro) (57.4.0)\n",
            "Requirement already satisfied: googleapis-common-protos<2.0dev,>=1.6.0 in /usr/local/lib/python3.7/dist-packages (from google-api-core<2dev,>=1.21.0->google-api-python-client<2,>=1.12.1->earthengine-api->geehydro) (1.53.0)\n",
            "Requirement already satisfied: packaging>=14.3 in /usr/local/lib/python3.7/dist-packages (from google-api-core<2dev,>=1.21.0->google-api-python-client<2,>=1.12.1->earthengine-api->geehydro) (21.0)\n",
            "Requirement already satisfied: pytz in /usr/local/lib/python3.7/dist-packages (from google-api-core<2dev,>=1.21.0->google-api-python-client<2,>=1.12.1->earthengine-api->geehydro) (2018.9)\n",
            "Requirement already satisfied: pyasn1-modules>=0.2.1 in /usr/local/lib/python3.7/dist-packages (from google-auth>=1.4.1->earthengine-api->geehydro) (0.2.8)\n",
            "Requirement already satisfied: rsa<5,>=3.1.4 in /usr/local/lib/python3.7/dist-packages (from google-auth>=1.4.1->earthengine-api->geehydro) (4.7.2)\n",
            "Requirement already satisfied: cachetools<5.0,>=2.0.0 in /usr/local/lib/python3.7/dist-packages (from google-auth>=1.4.1->earthengine-api->geehydro) (4.2.2)\n",
            "Requirement already satisfied: pyparsing>=2.0.2 in /usr/local/lib/python3.7/dist-packages (from packaging>=14.3->google-api-core<2dev,>=1.21.0->google-api-python-client<2,>=1.12.1->earthengine-api->geehydro) (2.4.7)\n",
            "Requirement already satisfied: pyasn1<0.5.0,>=0.4.6 in /usr/local/lib/python3.7/dist-packages (from pyasn1-modules>=0.2.1->google-auth>=1.4.1->earthengine-api->geehydro) (0.4.8)\n",
            "Requirement already satisfied: urllib3!=1.25.0,!=1.25.1,<1.26,>=1.21.1 in /usr/local/lib/python3.7/dist-packages (from requests<3.0.0dev,>=2.18.0->google-api-core<2dev,>=1.21.0->google-api-python-client<2,>=1.12.1->earthengine-api->geehydro) (1.24.3)\n",
            "Requirement already satisfied: chardet<4,>=3.0.2 in /usr/local/lib/python3.7/dist-packages (from requests<3.0.0dev,>=2.18.0->google-api-core<2dev,>=1.21.0->google-api-python-client<2,>=1.12.1->earthengine-api->geehydro) (3.0.4)\n",
            "Requirement already satisfied: certifi>=2017.4.17 in /usr/local/lib/python3.7/dist-packages (from requests<3.0.0dev,>=2.18.0->google-api-core<2dev,>=1.21.0->google-api-python-client<2,>=1.12.1->earthengine-api->geehydro) (2021.5.30)\n",
            "Requirement already satisfied: idna<3,>=2.5 in /usr/local/lib/python3.7/dist-packages (from requests<3.0.0dev,>=2.18.0->google-api-core<2dev,>=1.21.0->google-api-python-client<2,>=1.12.1->earthengine-api->geehydro) (2.10)\n",
            "Requirement already satisfied: numpy in /usr/local/lib/python3.7/dist-packages (from folium->geehydro) (1.19.5)\n",
            "Requirement already satisfied: branca>=0.3.0 in /usr/local/lib/python3.7/dist-packages (from folium->geehydro) (0.4.2)\n",
            "Requirement already satisfied: jinja2>=2.9 in /usr/local/lib/python3.7/dist-packages (from folium->geehydro) (2.11.3)\n",
            "Requirement already satisfied: MarkupSafe>=0.23 in /usr/local/lib/python3.7/dist-packages (from jinja2>=2.9->folium->geehydro) (2.0.1)\n",
            "Requirement already satisfied: google-resumable-media<0.5.0dev,>=0.3.1 in /usr/local/lib/python3.7/dist-packages (from google-cloud-storage->earthengine-api->geehydro) (0.4.1)\n",
            "Requirement already satisfied: google-cloud-core<2.0dev,>=1.0.0 in /usr/local/lib/python3.7/dist-packages (from google-cloud-storage->earthengine-api->geehydro) (1.0.3)\n",
            "Building wheels for collected packages: geehydro\n",
            "  Building wheel for geehydro (setup.py) ... \u001b[?25l\u001b[?25hdone\n",
            "  Created wheel for geehydro: filename=geehydro-0.2.0-py2.py3-none-any.whl size=10141 sha256=39dcc0592aad44a8ed65be2d3c2c88109e716d94d6ed85a977d58e56819a769f\n",
            "  Stored in directory: /root/.cache/pip/wheels/49/6c/92/019aeb37663078e6666afa9dd336e2d8df72d5683d7d357697\n",
            "Successfully built geehydro\n",
            "Installing collected packages: geehydro\n",
            "Successfully installed geehydro-0.2.0\n"
          ]
        }
      ]
    },
    {
      "cell_type": "code",
      "metadata": {
        "id": "6_YJX-T1Dmp1",
        "colab": {
          "base_uri": "https://localhost:8080/"
        },
        "outputId": "978f98f2-ea2d-4843-9fe4-303240d75c10"
      },
      "source": [
        "import ee\n",
        "import folium\n",
        "import geehydro\n",
        "import numpy as np # yes, numpy!\n",
        "import pandas as pd # yes, pandas!\n",
        "import proplot as plot\n",
        "import matplotlib.pyplot as plt\n",
        "from ipygee import*\n",
        "from pandas.plotting import register_matplotlib_converters"
      ],
      "execution_count": null,
      "outputs": [
        {
          "output_type": "stream",
          "name": "stderr",
          "text": [
            "/usr/local/lib/python3.7/dist-packages/proplot/__init__.py:71: ProPlotWarning: Rebuilding font cache. This usually happens after installing or updating proplot.\n",
            "  register_fonts(default=True)\n"
          ]
        }
      ]
    },
    {
      "cell_type": "code",
      "metadata": {
        "id": "Af8ihjczDmwA"
      },
      "source": [],
      "execution_count": null,
      "outputs": []
    },
    {
      "cell_type": "code",
      "metadata": {
        "colab": {
          "base_uri": "https://localhost:8080/",
          "height": 656,
          "referenced_widgets": [
            "370eb284e5324f1893b7b0e15a14ba92",
            "eb80954f25cd44c1b21fc7f13f8ebe0f",
            "6129725536f54f4cae903c7b030c4d7d"
          ]
        },
        "id": "GUC9a_QF9J2y",
        "outputId": "ee55c33f-c344-4f30-dc7f-5bda37ba09b6"
      },
      "source": [
        "als_ndvi = chart.Image.series(**{'imageCollection': scaled_ndvi,\n",
        "                                   'region': als,\n",
        "                                   'reducer': ee.Reducer.mean(),\n",
        "                                   'scale': 1000,\n",
        "                                   'xProperty': 'system:time_start'})\n",
        "als_ndvi.renderWidget(width='50%')"
      ],
      "execution_count": null,
      "outputs": [
        {
          "output_type": "display_data",
          "data": {
            "application/vnd.jupyter.widget-view+json": {
              "model_id": "370eb284e5324f1893b7b0e15a14ba92",
              "version_minor": 0,
              "version_major": 2
            },
            "text/plain": [
              "HTML(value='<embed src=data:image/svg+xml;charset=utf-8;base64,PD94bWwgdmVyc2lvbj0nMS4wJyBlbmNvZGluZz0ndXRmLTg…"
            ]
          },
          "metadata": {
            "application/vnd.jupyter.widget-view+json": {
              "colab": {
                "custom_widget_manager": {
                  "url": "https://ssl.gstatic.com/colaboratory-static/widgets/colab-cdn-widget-manager/3922baeab3631134/manager.min.js"
                }
              }
            }
          }
        }
      ]
    },
    {
      "cell_type": "code",
      "metadata": {
        "id": "o3SptL8J38o8"
      },
      "source": [
        "import pandas as pd\n"
      ],
      "execution_count": null,
      "outputs": []
    },
    {
      "cell_type": "code",
      "metadata": {
        "id": "l3ADvoW238tD"
      },
      "source": [
        "df =als_ndvi.dataframe\n"
      ],
      "execution_count": null,
      "outputs": []
    },
    {
      "cell_type": "code",
      "metadata": {
        "colab": {
          "base_uri": "https://localhost:8080/",
          "height": 434
        },
        "id": "rHZTUVfLRJ-n",
        "outputId": "178bd1e2-4ff2-4ba6-a584-45c269b06414"
      },
      "source": [
        "import matplotlib\n",
        "%matplotlib inline\n",
        "\n",
        "#plot the data in desired chart\n",
        "df.plot.line()\n"
      ],
      "execution_count": null,
      "outputs": [
        {
          "output_type": "execute_result",
          "data": {
            "text/plain": [
              "<matplotlib.axes._subplots.AxesSubplot at 0x7f17a49a9e10>"
            ]
          },
          "metadata": {},
          "execution_count": 18
        },
        {
          "output_type": "display_data",
          "data": {
            "image/png": "[encoded data removed]",
            "text/plain": [
              "<Figure size 400x400 with 1 Axes>"
            ]
          },
          "metadata": {
            "image/png": {
              "width": 400,
              "height": 400
            }
          }
        }
      ]
    },
    {
      "cell_type": "code",
      "metadata": {
        "id": "BqIylRG4RKBe"
      },
      "source": [],
      "execution_count": null,
      "outputs": []
    },
    {
      "cell_type": "code",
      "metadata": {
        "id": "7qEDSs8kRKE6"
      },
      "source": [],
      "execution_count": null,
      "outputs": []
    },
    {
      "cell_type": "code",
      "metadata": {
        "id": "ENRjTEP8RKM2"
      },
      "source": [],
      "execution_count": null,
      "outputs": []
    }
  ]
}