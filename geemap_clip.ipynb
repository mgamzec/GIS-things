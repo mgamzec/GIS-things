{
  "nbformat": 4,
  "nbformat_minor": 0,
  "metadata": {
    "colab": {
      "provenance": [],
      "include_colab_link": true
    },
    "kernelspec": {
      "name": "python3",
      "display_name": "Python 3"
    },
    "language_info": {
      "name": "python"
    },
    "widgets": {
      "application/vnd.jupyter.widget-state+json": {
        "5f14db1f44a94e348dcc6d666b3aa40d": {
          "model_module": "jupyter-leaflet",
          "model_name": "LeafletMapModel",
          "model_module_version": "^0.14.0",
          "state": {
            "_view_name": "LeafletMapView",
            "keyboard_pan_offset": 80,
            "right": 3569,
            "tap": true,
            "_view_module": "jupyter-leaflet",
            "max_zoom": 18,
            "_model_module_version": "^0.14.0",
            "_view_count": null,
            "zoom_snap": 1,
            "min_zoom": 1,
            "bounce_at_zoom_limits": true,
            "keyboard": true,
            "north": -5.747174076651375,
            "scroll_wheel_zoom": true,
            "dragging": true,
            "_model_module": "jupyter-leaflet",
            "zoom_delta": 1,
            "close_popup_on_click": true,
            "fullscreen": false,
            "style": "IPY_MODEL_7cca8c21f0fd4b06b54de2b6e7981786",
            "layout": "IPY_MODEL_45461ead93c94700a8df40bffd4f0a59",
            "bottom": 4827,
            "inertia_max_speed": 1500,
            "top": 4227,
            "box_zoom": true,
            "controls": [
              "IPY_MODEL_022e01fb20a34342b574b819cd98c554",
              "IPY_MODEL_4fe6501a90b9401bbeee256c10a713b1",
              "IPY_MODEL_fade9696e13440a7882d758b2d1fdc35",
              "IPY_MODEL_ecdd8ee6080f4201a59598e5c45434b7",
              "IPY_MODEL_0281b9bd09c0404eb0775d6b62835480",
              "IPY_MODEL_1502f1cd811145e6a398a399718294f4",
              "IPY_MODEL_56e3ec89675e45308810e1057c58fefc",
              "IPY_MODEL_f4d51acef8a1475787e0d9798c6fbc29"
            ],
            "default_style": "IPY_MODEL_7cca8c21f0fd4b06b54de2b6e7981786",
            "east": -23.159179687500004,
            "double_click_zoom": true,
            "interpolation": "bilinear",
            "layers": [
              "IPY_MODEL_ce9acf0f702b4e8fa4baaf856695c51f",
              "IPY_MODEL_1fbfaa95c9e44ad78fed7a807b2badf8",
              "IPY_MODEL_a4209b6f48484c4f8de0e4ad393f0a62"
            ],
            "dragging_style": "IPY_MODEL_a89aea52a1014ccd80dddaa83f4108af",
            "_dom_classes": [],
            "zoom_animation_threshold": 4,
            "_model_name": "LeafletMapModel",
            "zoom_start": 12,
            "modisdate": "yesterday",
            "keyboard_zoom_offset": 1,
            "inertia_deceleration": 3000,
            "inertia": true,
            "crs": {
              "name": "EPSG3857",
              "custom": false
            },
            "center": [
              -18.60460138845525,
              -59.76562500000001
            ],
            "zoom": 5,
            "world_copy_jump": false,
            "_view_module_version": "^0.14.0",
            "window_url": "https://nvusyx4ikqg-496ff2e9c6d22116-0-colab.googleusercontent.com/outputframe.html?vrz=colab-20210929-060057-RC00_399650869",
            "tap_tolerance": 15,
            "west": -96.37207031250001,
            "touch_zoom": true,
            "options": [
              "bounce_at_zoom_limits",
              "box_zoom",
              "center",
              "close_popup_on_click",
              "double_click_zoom",
              "dragging",
              "fullscreen",
              "inertia",
              "inertia_deceleration",
              "inertia_max_speed",
              "interpolation",
              "keyboard",
              "keyboard_pan_offset",
              "keyboard_zoom_offset",
              "max_zoom",
              "min_zoom",
              "scroll_wheel_zoom",
              "tap",
              "tap_tolerance",
              "touch_zoom",
              "world_copy_jump",
              "zoom",
              "zoom_animation_threshold",
              "zoom_delta",
              "zoom_snap",
              "zoom_start"
            ],
            "south": -30.56226095049943,
            "left": 1903,
            "_dragging": false
          }
        },
        "8962640baf894dfa8ca5dc49e2abfc60": {
          "model_module": "jupyter-leaflet",
          "model_name": "LeafletMapStyleModel",
          "model_module_version": "^0.14.0",
          "state": {
            "_view_name": "StyleView",
            "_model_name": "LeafletMapStyleModel",
            "_view_module": "@jupyter-widgets/base",
            "_model_module_version": "^0.14.0",
            "_view_count": null,
            "cursor": "grab",
            "_view_module_version": "1.2.0",
            "_model_module": "jupyter-leaflet"
          }
        },
        "45461ead93c94700a8df40bffd4f0a59": {
          "model_module": "@jupyter-widgets/base",
          "model_name": "LayoutModel",
          "model_module_version": "1.2.0",
          "state": {
            "_view_name": "LayoutView",
            "grid_template_rows": null,
            "right": null,
            "justify_content": null,
            "_view_module": "@jupyter-widgets/base",
            "overflow": null,
            "_model_module_version": "1.2.0",
            "_view_count": null,
            "flex_flow": null,
            "width": null,
            "min_width": null,
            "border": null,
            "align_items": null,
            "bottom": null,
            "_model_module": "@jupyter-widgets/base",
            "top": null,
            "grid_column": null,
            "overflow_y": null,
            "overflow_x": null,
            "grid_auto_flow": null,
            "grid_area": null,
            "grid_template_columns": null,
            "flex": null,
            "_model_name": "LayoutModel",
            "justify_items": null,
            "grid_row": null,
            "max_height": null,
            "align_content": null,
            "visibility": null,
            "align_self": null,
            "height": "600px",
            "min_height": null,
            "padding": null,
            "grid_auto_rows": null,
            "grid_gap": null,
            "max_width": null,
            "order": null,
            "_view_module_version": "1.2.0",
            "grid_template_areas": null,
            "object_position": null,
            "object_fit": null,
            "grid_auto_columns": null,
            "margin": null,
            "display": null,
            "left": null
          }
        },
        "022e01fb20a34342b574b819cd98c554": {
          "model_module": "jupyter-leaflet",
          "model_name": "LeafletWidgetControlModel",
          "model_module_version": "^0.14.0",
          "state": {
            "_view_name": "LeafletWidgetControlView",
            "widget": "IPY_MODEL_27d0d2525f424e9c8674b22906b2f435",
            "_model_name": "LeafletWidgetControlModel",
            "_view_module": "jupyter-leaflet",
            "_model_module_version": "^0.14.0",
            "max_height": null,
            "_view_count": null,
            "min_height": null,
            "_view_module_version": "^0.14.0",
            "max_width": null,
            "transparent_bg": false,
            "min_width": null,
            "position": "topleft",
            "_model_module": "jupyter-leaflet",
            "options": [
              "position",
              "transparent_bg"
            ]
          }
        },
        "4fe6501a90b9401bbeee256c10a713b1": {
          "model_module": "jupyter-leaflet",
          "model_name": "LeafletZoomControlModel",
          "model_module_version": "^0.14.0",
          "state": {
            "_view_name": "LeafletZoomControlView",
            "zoom_in_title": "Zoom in",
            "_model_name": "LeafletZoomControlModel",
            "_view_module": "jupyter-leaflet",
            "_model_module_version": "^0.14.0",
            "_view_count": null,
            "_view_module_version": "^0.14.0",
            "zoom_out_title": "Zoom out",
            "position": "topleft",
            "zoom_in_text": "+",
            "_model_module": "jupyter-leaflet",
            "options": [
              "position",
              "zoom_in_text",
              "zoom_in_title",
              "zoom_out_text",
              "zoom_out_title"
            ],
            "zoom_out_text": "-"
          }
        },
        "fade9696e13440a7882d758b2d1fdc35": {
          "model_module": "jupyter-leaflet",
          "model_name": "LeafletScaleControlModel",
          "model_module_version": "^0.14.0",
          "state": {
            "_view_name": "LeafletScaleControlView",
            "_model_name": "LeafletScaleControlModel",
            "metric": true,
            "_view_module": "jupyter-leaflet",
            "_model_module_version": "^0.14.0",
            "max_width": 100,
            "_view_count": null,
            "_view_module_version": "^0.14.0",
            "update_when_idle": false,
            "position": "bottomleft",
            "imperial": true,
            "_model_module": "jupyter-leaflet",
            "options": [
              "imperial",
              "max_width",
              "metric",
              "position",
              "update_when_idle"
            ]
          }
        },
        "ecdd8ee6080f4201a59598e5c45434b7": {
          "model_module": "jupyter-leaflet",
          "model_name": "LeafletFullScreenControlModel",
          "model_module_version": "^0.14.0",
          "state": {
            "_view_name": "LeafletFullScreenControlView",
            "_model_name": "LeafletFullScreenControlModel",
            "_view_module": "jupyter-leaflet",
            "_model_module_version": "^0.14.0",
            "_view_count": null,
            "_view_module_version": "^0.14.0",
            "position": "topleft",
            "_model_module": "jupyter-leaflet",
            "options": [
              "position"
            ]
          }
        },
        "0281b9bd09c0404eb0775d6b62835480": {
          "model_module": "jupyter-leaflet",
          "model_name": "LeafletMeasureControlModel",
          "model_module_version": "^0.14.0",
          "state": {
            "_view_name": "LeafletMeasureControlView",
            "primary_area_unit": "acres",
            "capture_z_index": 10000,
            "secondary_area_unit": null,
            "primary_length_unit": "kilometers",
            "active_color": "orange",
            "_model_name": "LeafletMeasureControlModel",
            "popup_options": {
              "className": "leaflet-measure-resultpopup",
              "autoPanPadding": [
                10,
                10
              ]
            },
            "_view_module": "jupyter-leaflet",
            "_model_module_version": "^0.14.0",
            "_view_count": null,
            "_view_module_version": "^0.14.0",
            "secondary_length_unit": null,
            "completed_color": "#C8F2BE",
            "position": "bottomleft",
            "_model_module": "jupyter-leaflet",
            "options": [
              "active_color",
              "capture_z_index",
              "completed_color",
              "popup_options",
              "position",
              "primary_area_unit",
              "primary_length_unit",
              "secondary_area_unit",
              "secondary_length_unit"
            ],
            "_custom_units": {}
          }
        },
        "1502f1cd811145e6a398a399718294f4": {
          "model_module": "jupyter-leaflet",
          "model_name": "LeafletAttributionControlModel",
          "model_module_version": "^0.14.0",
          "state": {
            "_view_name": "LeafletAttributionControlView",
            "prefix": "ipyleaflet",
            "_model_name": "LeafletAttributionControlModel",
            "_view_module": "jupyter-leaflet",
            "_model_module_version": "^0.14.0",
            "_view_count": null,
            "_view_module_version": "^0.14.0",
            "position": "bottomright",
            "_model_module": "jupyter-leaflet",
            "options": [
              "position",
              "prefix"
            ]
          }
        },
        "56e3ec89675e45308810e1057c58fefc": {
          "model_module": "jupyter-leaflet",
          "model_name": "LeafletDrawControlModel",
          "model_module_version": "^0.14.0",
          "state": {
            "_view_name": "LeafletDrawControlView",
            "polygon": {
              "shapeOptions": {}
            },
            "circlemarker": {},
            "_model_name": "LeafletDrawControlModel",
            "edit": true,
            "data": [],
            "_view_module": "jupyter-leaflet",
            "_model_module_version": "^0.14.0",
            "remove": true,
            "_view_count": null,
            "_view_module_version": "^0.14.0",
            "polyline": {
              "shapeOptions": {}
            },
            "marker": {
              "shapeOptions": {
                "color": "#3388ff"
              }
            },
            "position": "topleft",
            "circle": {
              "shapeOptions": {
                "color": "#3388ff"
              }
            },
            "_model_module": "jupyter-leaflet",
            "options": [
              "position"
            ],
            "rectangle": {
              "shapeOptions": {
                "color": "#3388ff"
              }
            }
          }
        },
        "f4d51acef8a1475787e0d9798c6fbc29": {
          "model_module": "jupyter-leaflet",
          "model_name": "LeafletWidgetControlModel",
          "model_module_version": "^0.14.0",
          "state": {
            "_view_name": "LeafletWidgetControlView",
            "widget": "IPY_MODEL_a396e456c1be4691ab34b1424b4c2d65",
            "_model_name": "LeafletWidgetControlModel",
            "_view_module": "jupyter-leaflet",
            "_model_module_version": "^0.14.0",
            "max_height": null,
            "_view_count": null,
            "min_height": null,
            "_view_module_version": "^0.14.0",
            "max_width": null,
            "transparent_bg": false,
            "min_width": null,
            "position": "topright",
            "_model_module": "jupyter-leaflet",
            "options": [
              "position",
              "transparent_bg"
            ]
          }
        },
        "7cca8c21f0fd4b06b54de2b6e7981786": {
          "model_module": "jupyter-leaflet",
          "model_name": "LeafletMapStyleModel",
          "model_module_version": "^0.14.0",
          "state": {
            "_view_name": "StyleView",
            "_model_name": "LeafletMapStyleModel",
            "_view_module": "@jupyter-widgets/base",
            "_model_module_version": "^0.14.0",
            "_view_count": null,
            "cursor": "grab",
            "_view_module_version": "1.2.0",
            "_model_module": "jupyter-leaflet"
          }
        },
        "ce9acf0f702b4e8fa4baaf856695c51f": {
          "model_module": "jupyter-leaflet",
          "model_name": "LeafletTileLayerModel",
          "model_module_version": "^0.14.0",
          "state": {
            "_view_name": "LeafletTileLayerView",
            "_view_module": "jupyter-leaflet",
            "max_zoom": 19,
            "_model_module_version": "^0.14.0",
            "_view_count": null,
            "visible": true,
            "min_zoom": 1,
            "tms": false,
            "_model_module": "jupyter-leaflet",
            "loading": false,
            "bottom": true,
            "no_wrap": false,
            "tile_size": 256,
            "popup_min_width": 50,
            "opacity": 1,
            "popup": null,
            "attribution": "Map data (c) <a href=\"https://openstreetmap.org\">OpenStreetMap</a> contributors",
            "_model_name": "LeafletTileLayerModel",
            "max_native_zoom": 18,
            "base": true,
            "min_native_zoom": 0,
            "show_loading": false,
            "name": "",
            "url": "https://{s}.tile.openstreetmap.org/{z}/{x}/{y}.png",
            "popup_max_height": null,
            "popup_max_width": 300,
            "detect_retina": false,
            "_view_module_version": "^0.14.0",
            "options": [
              "attribution",
              "detect_retina",
              "max_native_zoom",
              "max_zoom",
              "min_native_zoom",
              "min_zoom",
              "no_wrap",
              "tile_size",
              "tms"
            ]
          }
        },
        "1fbfaa95c9e44ad78fed7a807b2badf8": {
          "model_module": "jupyter-leaflet",
          "model_name": "LeafletTileLayerModel",
          "model_module_version": "^0.14.0",
          "state": {
            "_view_name": "LeafletTileLayerView",
            "_view_module": "jupyter-leaflet",
            "max_zoom": 18,
            "_model_module_version": "^0.14.0",
            "_view_count": null,
            "visible": true,
            "min_zoom": 0,
            "tms": false,
            "_model_module": "jupyter-leaflet",
            "loading": false,
            "bottom": true,
            "no_wrap": false,
            "tile_size": 256,
            "popup_min_width": 50,
            "opacity": 1,
            "popup": null,
            "attribution": "Google",
            "_model_name": "LeafletTileLayerModel",
            "max_native_zoom": 18,
            "base": false,
            "min_native_zoom": 0,
            "show_loading": false,
            "name": "Google Maps",
            "url": "https://mt1.google.com/vt/lyrs=m&x={x}&y={y}&z={z}",
            "popup_max_height": null,
            "popup_max_width": 300,
            "detect_retina": false,
            "_view_module_version": "^0.14.0",
            "options": [
              "attribution",
              "detect_retina",
              "max_native_zoom",
              "max_zoom",
              "min_native_zoom",
              "min_zoom",
              "no_wrap",
              "tile_size",
              "tms"
            ]
          }
        },
        "a4209b6f48484c4f8de0e4ad393f0a62": {
          "model_module": "jupyter-leaflet",
          "model_name": "LeafletTileLayerModel",
          "model_module_version": "^0.14.0",
          "state": {
            "_view_name": "LeafletTileLayerView",
            "_view_module": "jupyter-leaflet",
            "max_zoom": 18,
            "_model_module_version": "^0.14.0",
            "_view_count": null,
            "visible": true,
            "min_zoom": 0,
            "tms": false,
            "_model_module": "jupyter-leaflet",
            "loading": false,
            "bottom": true,
            "no_wrap": false,
            "tile_size": 256,
            "popup_min_width": 50,
            "opacity": 1,
            "popup": null,
            "attribution": "Google Earth Engine",
            "_model_name": "LeafletTileLayerModel",
            "max_native_zoom": 18,
            "base": false,
            "min_native_zoom": 0,
            "show_loading": false,
            "name": "Amazonian Bolivia",
            "url": "https://earthengine.googleapis.com/v1alpha/projects/earthengine-legacy/maps/30f29b17d564d95037f608467dee19cf-5861908f2c25c54a5f4eb11f1b38bf7f/tiles/{z}/{x}/{y}",
            "popup_max_height": null,
            "popup_max_width": 300,
            "detect_retina": false,
            "_view_module_version": "^0.14.0",
            "options": [
              "attribution",
              "detect_retina",
              "max_native_zoom",
              "max_zoom",
              "min_native_zoom",
              "min_zoom",
              "no_wrap",
              "tile_size",
              "tms"
            ]
          }
        },
        "a89aea52a1014ccd80dddaa83f4108af": {
          "model_module": "jupyter-leaflet",
          "model_name": "LeafletMapStyleModel",
          "model_module_version": "^0.14.0",
          "state": {
            "_view_name": "StyleView",
            "_model_name": "LeafletMapStyleModel",
            "_view_module": "@jupyter-widgets/base",
            "_model_module_version": "^0.14.0",
            "_view_count": null,
            "cursor": "move",
            "_view_module_version": "1.2.0",
            "_model_module": "jupyter-leaflet"
          }
        },
        "27d0d2525f424e9c8674b22906b2f435": {
          "model_module": "@jupyter-widgets/controls",
          "model_name": "HBoxModel",
          "model_module_version": "1.5.0",
          "state": {
            "_view_name": "HBoxView",
            "_dom_classes": [],
            "_model_name": "HBoxModel",
            "_view_module": "@jupyter-widgets/controls",
            "_model_module_version": "1.5.0",
            "_view_count": null,
            "_view_module_version": "1.5.0",
            "box_style": "",
            "layout": "IPY_MODEL_aa5f148a95c24e4b8544451fc13b82d7",
            "_model_module": "@jupyter-widgets/controls",
            "children": [
              "IPY_MODEL_af95d42f21d2443ba62be44e5a4a7aa4"
            ]
          }
        },
        "a396e456c1be4691ab34b1424b4c2d65": {
          "model_module": "@jupyter-widgets/controls",
          "model_name": "VBoxModel",
          "model_module_version": "1.5.0",
          "state": {
            "_view_name": "VBoxView",
            "_dom_classes": [],
            "_model_name": "VBoxModel",
            "_view_module": "@jupyter-widgets/controls",
            "_model_module_version": "1.5.0",
            "_view_count": null,
            "_view_module_version": "1.5.0",
            "box_style": "",
            "layout": "IPY_MODEL_9312f86a62714e8c9b380749074788be",
            "_model_module": "@jupyter-widgets/controls",
            "children": [
              "IPY_MODEL_ab35422637664d0cbdfa9550129fd361"
            ]
          }
        },
        "aa5f148a95c24e4b8544451fc13b82d7": {
          "model_module": "@jupyter-widgets/base",
          "model_name": "LayoutModel",
          "model_module_version": "1.2.0",
          "state": {
            "_view_name": "LayoutView",
            "grid_template_rows": null,
            "right": null,
            "justify_content": null,
            "_view_module": "@jupyter-widgets/base",
            "overflow": null,
            "_model_module_version": "1.2.0",
            "_view_count": null,
            "flex_flow": null,
            "width": null,
            "min_width": null,
            "border": null,
            "align_items": null,
            "bottom": null,
            "_model_module": "@jupyter-widgets/base",
            "top": null,
            "grid_column": null,
            "overflow_y": null,
            "overflow_x": null,
            "grid_auto_flow": null,
            "grid_area": null,
            "grid_template_columns": null,
            "flex": null,
            "_model_name": "LayoutModel",
            "justify_items": null,
            "grid_row": null,
            "max_height": null,
            "align_content": null,
            "visibility": null,
            "align_self": null,
            "height": null,
            "min_height": null,
            "padding": null,
            "grid_auto_rows": null,
            "grid_gap": null,
            "max_width": null,
            "order": null,
            "_view_module_version": "1.2.0",
            "grid_template_areas": null,
            "object_position": null,
            "object_fit": null,
            "grid_auto_columns": null,
            "margin": null,
            "display": null,
            "left": null
          }
        },
        "af95d42f21d2443ba62be44e5a4a7aa4": {
          "model_module": "@jupyter-widgets/controls",
          "model_name": "ToggleButtonModel",
          "model_module_version": "1.5.0",
          "state": {
            "_view_name": "ToggleButtonView",
            "style": "IPY_MODEL_d423d6a10295483980877ab4cda1143b",
            "_dom_classes": [],
            "description": "",
            "_model_name": "ToggleButtonModel",
            "button_style": "",
            "_view_module": "@jupyter-widgets/controls",
            "_model_module_version": "1.5.0",
            "tooltip": "Search location/data",
            "_view_count": null,
            "disabled": false,
            "_view_module_version": "1.5.0",
            "value": false,
            "description_tooltip": null,
            "_model_module": "@jupyter-widgets/controls",
            "layout": "IPY_MODEL_ff502f829e5d42eab481908e6a707f6f",
            "icon": "globe"
          }
        },
        "9312f86a62714e8c9b380749074788be": {
          "model_module": "@jupyter-widgets/base",
          "model_name": "LayoutModel",
          "model_module_version": "1.2.0",
          "state": {
            "_view_name": "LayoutView",
            "grid_template_rows": null,
            "right": null,
            "justify_content": null,
            "_view_module": "@jupyter-widgets/base",
            "overflow": null,
            "_model_module_version": "1.2.0",
            "_view_count": null,
            "flex_flow": null,
            "width": null,
            "min_width": null,
            "border": null,
            "align_items": null,
            "bottom": null,
            "_model_module": "@jupyter-widgets/base",
            "top": null,
            "grid_column": null,
            "overflow_y": null,
            "overflow_x": null,
            "grid_auto_flow": null,
            "grid_area": null,
            "grid_template_columns": null,
            "flex": null,
            "_model_name": "LayoutModel",
            "justify_items": null,
            "grid_row": null,
            "max_height": null,
            "align_content": null,
            "visibility": null,
            "align_self": null,
            "height": null,
            "min_height": null,
            "padding": null,
            "grid_auto_rows": null,
            "grid_gap": null,
            "max_width": null,
            "order": null,
            "_view_module_version": "1.2.0",
            "grid_template_areas": null,
            "object_position": null,
            "object_fit": null,
            "grid_auto_columns": null,
            "margin": null,
            "display": null,
            "left": null
          }
        },
        "ab35422637664d0cbdfa9550129fd361": {
          "model_module": "@jupyter-widgets/controls",
          "model_name": "ToggleButtonModel",
          "model_module_version": "1.5.0",
          "state": {
            "_view_name": "ToggleButtonView",
            "style": "IPY_MODEL_7201e16d824b459da90388c0d8aba652",
            "_dom_classes": [],
            "description": "",
            "_model_name": "ToggleButtonModel",
            "button_style": "",
            "_view_module": "@jupyter-widgets/controls",
            "_model_module_version": "1.5.0",
            "tooltip": "Toolbar",
            "_view_count": null,
            "disabled": false,
            "_view_module_version": "1.5.0",
            "value": false,
            "description_tooltip": null,
            "_model_module": "@jupyter-widgets/controls",
            "layout": "IPY_MODEL_350c95fbb90744b9845c8eadee1b858d",
            "icon": "wrench"
          }
        },
        "d423d6a10295483980877ab4cda1143b": {
          "model_module": "@jupyter-widgets/controls",
          "model_name": "DescriptionStyleModel",
          "model_module_version": "1.5.0",
          "state": {
            "_view_name": "StyleView",
            "_model_name": "DescriptionStyleModel",
            "description_width": "",
            "_view_module": "@jupyter-widgets/base",
            "_model_module_version": "1.5.0",
            "_view_count": null,
            "_view_module_version": "1.2.0",
            "_model_module": "@jupyter-widgets/controls"
          }
        },
        "ff502f829e5d42eab481908e6a707f6f": {
          "model_module": "@jupyter-widgets/base",
          "model_name": "LayoutModel",
          "model_module_version": "1.2.0",
          "state": {
            "_view_name": "LayoutView",
            "grid_template_rows": null,
            "right": null,
            "justify_content": null,
            "_view_module": "@jupyter-widgets/base",
            "overflow": null,
            "_model_module_version": "1.2.0",
            "_view_count": null,
            "flex_flow": null,
            "width": "28px",
            "min_width": null,
            "border": null,
            "align_items": null,
            "bottom": null,
            "_model_module": "@jupyter-widgets/base",
            "top": null,
            "grid_column": null,
            "overflow_y": null,
            "overflow_x": null,
            "grid_auto_flow": null,
            "grid_area": null,
            "grid_template_columns": null,
            "flex": null,
            "_model_name": "LayoutModel",
            "justify_items": null,
            "grid_row": null,
            "max_height": null,
            "align_content": null,
            "visibility": null,
            "align_self": null,
            "height": "28px",
            "min_height": null,
            "padding": "0px 0px 0px 4px",
            "grid_auto_rows": null,
            "grid_gap": null,
            "max_width": null,
            "order": null,
            "_view_module_version": "1.2.0",
            "grid_template_areas": null,
            "object_position": null,
            "object_fit": null,
            "grid_auto_columns": null,
            "margin": null,
            "display": null,
            "left": null
          }
        },
        "7201e16d824b459da90388c0d8aba652": {
          "model_module": "@jupyter-widgets/controls",
          "model_name": "DescriptionStyleModel",
          "model_module_version": "1.5.0",
          "state": {
            "_view_name": "StyleView",
            "_model_name": "DescriptionStyleModel",
            "description_width": "",
            "_view_module": "@jupyter-widgets/base",
            "_model_module_version": "1.5.0",
            "_view_count": null,
            "_view_module_version": "1.2.0",
            "_model_module": "@jupyter-widgets/controls"
          }
        },
        "350c95fbb90744b9845c8eadee1b858d": {
          "model_module": "@jupyter-widgets/base",
          "model_name": "LayoutModel",
          "model_module_version": "1.2.0",
          "state": {
            "_view_name": "LayoutView",
            "grid_template_rows": null,
            "right": null,
            "justify_content": null,
            "_view_module": "@jupyter-widgets/base",
            "overflow": null,
            "_model_module_version": "1.2.0",
            "_view_count": null,
            "flex_flow": null,
            "width": "28px",
            "min_width": null,
            "border": null,
            "align_items": null,
            "bottom": null,
            "_model_module": "@jupyter-widgets/base",
            "top": null,
            "grid_column": null,
            "overflow_y": null,
            "overflow_x": null,
            "grid_auto_flow": null,
            "grid_area": null,
            "grid_template_columns": null,
            "flex": null,
            "_model_name": "LayoutModel",
            "justify_items": null,
            "grid_row": null,
            "max_height": null,
            "align_content": null,
            "visibility": null,
            "align_self": null,
            "height": "28px",
            "min_height": null,
            "padding": "0px 0px 0px 4px",
            "grid_auto_rows": null,
            "grid_gap": null,
            "max_width": null,
            "order": null,
            "_view_module_version": "1.2.0",
            "grid_template_areas": null,
            "object_position": null,
            "object_fit": null,
            "grid_auto_columns": null,
            "margin": null,
            "display": null,
            "left": null
          }
        },
        "0734f1fe2aad4331898ed03739818777": {
          "model_module": "jupyter-leaflet",
          "model_name": "LeafletMapModel",
          "model_module_version": "^0.14.0",
          "state": {
            "_view_name": "LeafletMapView",
            "keyboard_pan_offset": 80,
            "right": 2232.3046875,
            "tap": true,
            "_view_module": "jupyter-leaflet",
            "max_zoom": 18,
            "_model_module_version": "^0.14.0",
            "_view_count": null,
            "zoom_snap": 1,
            "min_zoom": 1,
            "bounce_at_zoom_limits": true,
            "keyboard": true,
            "north": 15.307035253898675,
            "scroll_wheel_zoom": true,
            "dragging": true,
            "_model_module": "jupyter-leaflet",
            "zoom_delta": 1,
            "close_popup_on_click": true,
            "fullscreen": false,
            "style": "IPY_MODEL_525c27f3ec1d42b78d7447ec355d5c06",
            "layout": "IPY_MODEL_7a26f733af6340ecb6ea9310ccda76c0",
            "bottom": 2471.73046875,
            "inertia_max_speed": 1500,
            "top": 1871.73046875,
            "box_zoom": true,
            "controls": [
              "IPY_MODEL_bf252de94b604991968cebe5c50a54b6",
              "IPY_MODEL_d1d07752124c40eb8b575da87741fc4a",
              "IPY_MODEL_74c1be5ac1fc46faae00c6fb3ef2344e",
              "IPY_MODEL_3aaeaa0b5db44234b991c66929da190b",
              "IPY_MODEL_c4b1e01f75464ae9be6d28f6add00b80",
              "IPY_MODEL_d23d8329335646f7a6efad77929fde8d",
              "IPY_MODEL_9a713809bf414646a3a3c983f5c98df8",
              "IPY_MODEL_1315b010d7a1433e88cf708a91cad7c7"
            ],
            "default_style": "IPY_MODEL_525c27f3ec1d42b78d7447ec355d5c06",
            "east": 16.19865417480469,
            "double_click_zoom": true,
            "interpolation": "bilinear",
            "layers": [
              "IPY_MODEL_b60a476a201b4e1fa1f4b91eb243a547",
              "IPY_MODEL_1fbfaa95c9e44ad78fed7a807b2badf8",
              "IPY_MODEL_64e4e303023d4bb7b559c26a629dd580",
              "IPY_MODEL_2ee1d32a057847669c6174767c46c11c"
            ],
            "dragging_style": "IPY_MODEL_4ad30fe261a144d8a2a0d40e439fbf49",
            "_dom_classes": [],
            "zoom_animation_threshold": 4,
            "_model_name": "LeafletMapModel",
            "zoom_start": 12,
            "modisdate": "yesterday",
            "keyboard_zoom_offset": 1,
            "inertia_deceleration": 3000,
            "inertia": true,
            "crs": {
              "name": "EPSG3857",
              "custom": false
            },
            "center": [
              -10.810037996572609,
              -57.01423645019532
            ],
            "zoom": 4,
            "world_copy_jump": false,
            "_view_module_version": "^0.14.0",
            "window_url": "https://nvusyx4ikqg-496ff2e9c6d22116-0-colab.googleusercontent.com/outputframe.html?vrz=colab-20210929-060057-RC00_399650869",
            "tap_tolerance": 15,
            "west": -130.22712707519534,
            "touch_zoom": true,
            "options": [
              "bounce_at_zoom_limits",
              "box_zoom",
              "center",
              "close_popup_on_click",
              "double_click_zoom",
              "dragging",
              "fullscreen",
              "inertia",
              "inertia_deceleration",
              "inertia_max_speed",
              "interpolation",
              "keyboard",
              "keyboard_pan_offset",
              "keyboard_zoom_offset",
              "max_zoom",
              "min_zoom",
              "scroll_wheel_zoom",
              "tap",
              "tap_tolerance",
              "touch_zoom",
              "world_copy_jump",
              "zoom",
              "zoom_animation_threshold",
              "zoom_delta",
              "zoom_snap",
              "zoom_start"
            ],
            "south": -34.866496516557525,
            "left": 566.3046875,
            "_dragging": false
          }
        },
        "3de5cfe971d249e59b04f0fbfb848ec2": {
          "model_module": "jupyter-leaflet",
          "model_name": "LeafletMapStyleModel",
          "model_module_version": "^0.14.0",
          "state": {
            "_view_name": "StyleView",
            "_model_name": "LeafletMapStyleModel",
            "_view_module": "@jupyter-widgets/base",
            "_model_module_version": "^0.14.0",
            "_view_count": null,
            "cursor": "grab",
            "_view_module_version": "1.2.0",
            "_model_module": "jupyter-leaflet"
          }
        },
        "7a26f733af6340ecb6ea9310ccda76c0": {
          "model_module": "@jupyter-widgets/base",
          "model_name": "LayoutModel",
          "model_module_version": "1.2.0",
          "state": {
            "_view_name": "LayoutView",
            "grid_template_rows": null,
            "right": null,
            "justify_content": null,
            "_view_module": "@jupyter-widgets/base",
            "overflow": null,
            "_model_module_version": "1.2.0",
            "_view_count": null,
            "flex_flow": null,
            "width": null,
            "min_width": null,
            "border": null,
            "align_items": null,
            "bottom": null,
            "_model_module": "@jupyter-widgets/base",
            "top": null,
            "grid_column": null,
            "overflow_y": null,
            "overflow_x": null,
            "grid_auto_flow": null,
            "grid_area": null,
            "grid_template_columns": null,
            "flex": null,
            "_model_name": "LayoutModel",
            "justify_items": null,
            "grid_row": null,
            "max_height": null,
            "align_content": null,
            "visibility": null,
            "align_self": null,
            "height": "600px",
            "min_height": null,
            "padding": null,
            "grid_auto_rows": null,
            "grid_gap": null,
            "max_width": null,
            "order": null,
            "_view_module_version": "1.2.0",
            "grid_template_areas": null,
            "object_position": null,
            "object_fit": null,
            "grid_auto_columns": null,
            "margin": null,
            "display": null,
            "left": null
          }
        },
        "bf252de94b604991968cebe5c50a54b6": {
          "model_module": "jupyter-leaflet",
          "model_name": "LeafletWidgetControlModel",
          "model_module_version": "^0.14.0",
          "state": {
            "_view_name": "LeafletWidgetControlView",
            "widget": "IPY_MODEL_6cfaa57ac77a45e6bd5dd8f74fdc5aab",
            "_model_name": "LeafletWidgetControlModel",
            "_view_module": "jupyter-leaflet",
            "_model_module_version": "^0.14.0",
            "max_height": null,
            "_view_count": null,
            "min_height": null,
            "_view_module_version": "^0.14.0",
            "max_width": null,
            "transparent_bg": false,
            "min_width": null,
            "position": "topleft",
            "_model_module": "jupyter-leaflet",
            "options": [
              "position",
              "transparent_bg"
            ]
          }
        },
        "d1d07752124c40eb8b575da87741fc4a": {
          "model_module": "jupyter-leaflet",
          "model_name": "LeafletZoomControlModel",
          "model_module_version": "^0.14.0",
          "state": {
            "_view_name": "LeafletZoomControlView",
            "zoom_in_title": "Zoom in",
            "_model_name": "LeafletZoomControlModel",
            "_view_module": "jupyter-leaflet",
            "_model_module_version": "^0.14.0",
            "_view_count": null,
            "_view_module_version": "^0.14.0",
            "zoom_out_title": "Zoom out",
            "position": "topleft",
            "zoom_in_text": "+",
            "_model_module": "jupyter-leaflet",
            "options": [
              "position",
              "zoom_in_text",
              "zoom_in_title",
              "zoom_out_text",
              "zoom_out_title"
            ],
            "zoom_out_text": "-"
          }
        },
        "74c1be5ac1fc46faae00c6fb3ef2344e": {
          "model_module": "jupyter-leaflet",
          "model_name": "LeafletScaleControlModel",
          "model_module_version": "^0.14.0",
          "state": {
            "_view_name": "LeafletScaleControlView",
            "_model_name": "LeafletScaleControlModel",
            "metric": true,
            "_view_module": "jupyter-leaflet",
            "_model_module_version": "^0.14.0",
            "max_width": 100,
            "_view_count": null,
            "_view_module_version": "^0.14.0",
            "update_when_idle": false,
            "position": "bottomleft",
            "imperial": true,
            "_model_module": "jupyter-leaflet",
            "options": [
              "imperial",
              "max_width",
              "metric",
              "position",
              "update_when_idle"
            ]
          }
        },
        "3aaeaa0b5db44234b991c66929da190b": {
          "model_module": "jupyter-leaflet",
          "model_name": "LeafletFullScreenControlModel",
          "model_module_version": "^0.14.0",
          "state": {
            "_view_name": "LeafletFullScreenControlView",
            "_model_name": "LeafletFullScreenControlModel",
            "_view_module": "jupyter-leaflet",
            "_model_module_version": "^0.14.0",
            "_view_count": null,
            "_view_module_version": "^0.14.0",
            "position": "topleft",
            "_model_module": "jupyter-leaflet",
            "options": [
              "position"
            ]
          }
        },
        "c4b1e01f75464ae9be6d28f6add00b80": {
          "model_module": "jupyter-leaflet",
          "model_name": "LeafletMeasureControlModel",
          "model_module_version": "^0.14.0",
          "state": {
            "_view_name": "LeafletMeasureControlView",
            "primary_area_unit": "acres",
            "capture_z_index": 10000,
            "secondary_area_unit": null,
            "primary_length_unit": "kilometers",
            "active_color": "orange",
            "_model_name": "LeafletMeasureControlModel",
            "popup_options": {
              "className": "leaflet-measure-resultpopup",
              "autoPanPadding": [
                10,
                10
              ]
            },
            "_view_module": "jupyter-leaflet",
            "_model_module_version": "^0.14.0",
            "_view_count": null,
            "_view_module_version": "^0.14.0",
            "secondary_length_unit": null,
            "completed_color": "#C8F2BE",
            "position": "bottomleft",
            "_model_module": "jupyter-leaflet",
            "options": [
              "active_color",
              "capture_z_index",
              "completed_color",
              "popup_options",
              "position",
              "primary_area_unit",
              "primary_length_unit",
              "secondary_area_unit",
              "secondary_length_unit"
            ],
            "_custom_units": {}
          }
        },
        "d23d8329335646f7a6efad77929fde8d": {
          "model_module": "jupyter-leaflet",
          "model_name": "LeafletAttributionControlModel",
          "model_module_version": "^0.14.0",
          "state": {
            "_view_name": "LeafletAttributionControlView",
            "prefix": "ipyleaflet",
            "_model_name": "LeafletAttributionControlModel",
            "_view_module": "jupyter-leaflet",
            "_model_module_version": "^0.14.0",
            "_view_count": null,
            "_view_module_version": "^0.14.0",
            "position": "bottomright",
            "_model_module": "jupyter-leaflet",
            "options": [
              "position",
              "prefix"
            ]
          }
        },
        "9a713809bf414646a3a3c983f5c98df8": {
          "model_module": "jupyter-leaflet",
          "model_name": "LeafletDrawControlModel",
          "model_module_version": "^0.14.0",
          "state": {
            "_view_name": "LeafletDrawControlView",
            "polygon": {
              "shapeOptions": {}
            },
            "circlemarker": {},
            "_model_name": "LeafletDrawControlModel",
            "edit": true,
            "data": [],
            "_view_module": "jupyter-leaflet",
            "_model_module_version": "^0.14.0",
            "remove": true,
            "_view_count": null,
            "_view_module_version": "^0.14.0",
            "polyline": {
              "shapeOptions": {}
            },
            "marker": {
              "shapeOptions": {
                "color": "#3388ff"
              }
            },
            "position": "topleft",
            "circle": {
              "shapeOptions": {
                "color": "#3388ff"
              }
            },
            "_model_module": "jupyter-leaflet",
            "options": [
              "position"
            ],
            "rectangle": {
              "shapeOptions": {
                "color": "#3388ff"
              }
            }
          }
        },
        "1315b010d7a1433e88cf708a91cad7c7": {
          "model_module": "jupyter-leaflet",
          "model_name": "LeafletWidgetControlModel",
          "model_module_version": "^0.14.0",
          "state": {
            "_view_name": "LeafletWidgetControlView",
            "widget": "IPY_MODEL_704ef5ba2eae4b45925ced807c4046fc",
            "_model_name": "LeafletWidgetControlModel",
            "_view_module": "jupyter-leaflet",
            "_model_module_version": "^0.14.0",
            "max_height": null,
            "_view_count": null,
            "min_height": null,
            "_view_module_version": "^0.14.0",
            "max_width": null,
            "transparent_bg": false,
            "min_width": null,
            "position": "topright",
            "_model_module": "jupyter-leaflet",
            "options": [
              "position",
              "transparent_bg"
            ]
          }
        },
        "525c27f3ec1d42b78d7447ec355d5c06": {
          "model_module": "jupyter-leaflet",
          "model_name": "LeafletMapStyleModel",
          "model_module_version": "^0.14.0",
          "state": {
            "_view_name": "StyleView",
            "_model_name": "LeafletMapStyleModel",
            "_view_module": "@jupyter-widgets/base",
            "_model_module_version": "^0.14.0",
            "_view_count": null,
            "cursor": "grab",
            "_view_module_version": "1.2.0",
            "_model_module": "jupyter-leaflet"
          }
        },
        "b60a476a201b4e1fa1f4b91eb243a547": {
          "model_module": "jupyter-leaflet",
          "model_name": "LeafletTileLayerModel",
          "model_module_version": "^0.14.0",
          "state": {
            "_view_name": "LeafletTileLayerView",
            "_view_module": "jupyter-leaflet",
            "max_zoom": 19,
            "_model_module_version": "^0.14.0",
            "_view_count": null,
            "visible": true,
            "min_zoom": 1,
            "tms": false,
            "_model_module": "jupyter-leaflet",
            "loading": false,
            "bottom": true,
            "no_wrap": false,
            "tile_size": 256,
            "popup_min_width": 50,
            "opacity": 1,
            "popup": null,
            "attribution": "Map data (c) <a href=\"https://openstreetmap.org\">OpenStreetMap</a> contributors",
            "_model_name": "LeafletTileLayerModel",
            "max_native_zoom": 18,
            "base": true,
            "min_native_zoom": 0,
            "show_loading": false,
            "name": "",
            "url": "https://{s}.tile.openstreetmap.org/{z}/{x}/{y}.png",
            "popup_max_height": null,
            "popup_max_width": 300,
            "detect_retina": false,
            "_view_module_version": "^0.14.0",
            "options": [
              "attribution",
              "detect_retina",
              "max_native_zoom",
              "max_zoom",
              "min_native_zoom",
              "min_zoom",
              "no_wrap",
              "tile_size",
              "tms"
            ]
          }
        },
        "64e4e303023d4bb7b559c26a629dd580": {
          "model_module": "jupyter-leaflet",
          "model_name": "LeafletTileLayerModel",
          "model_module_version": "^0.14.0",
          "state": {
            "_view_name": "LeafletTileLayerView",
            "_view_module": "jupyter-leaflet",
            "max_zoom": 18,
            "_model_module_version": "^0.14.0",
            "_view_count": null,
            "visible": true,
            "min_zoom": 0,
            "tms": false,
            "_model_module": "jupyter-leaflet",
            "loading": false,
            "bottom": true,
            "no_wrap": false,
            "tile_size": 256,
            "popup_min_width": 50,
            "opacity": 1,
            "popup": null,
            "attribution": "Google",
            "_model_name": "LeafletTileLayerModel",
            "max_native_zoom": 18,
            "base": false,
            "min_native_zoom": 0,
            "show_loading": false,
            "name": "Google Satellite",
            "url": "https://mt1.google.com/vt/lyrs=s&x={x}&y={y}&z={z}",
            "popup_max_height": null,
            "popup_max_width": 300,
            "detect_retina": false,
            "_view_module_version": "^0.14.0",
            "options": [
              "attribution",
              "detect_retina",
              "max_native_zoom",
              "max_zoom",
              "min_native_zoom",
              "min_zoom",
              "no_wrap",
              "tile_size",
              "tms"
            ]
          }
        },
        "2ee1d32a057847669c6174767c46c11c": {
          "model_module": "jupyter-leaflet",
          "model_name": "LeafletTileLayerModel",
          "model_module_version": "^0.14.0",
          "state": {
            "_view_name": "LeafletTileLayerView",
            "_view_module": "jupyter-leaflet",
            "max_zoom": 18,
            "_model_module_version": "^0.14.0",
            "_view_count": null,
            "visible": true,
            "min_zoom": 0,
            "tms": false,
            "_model_module": "jupyter-leaflet",
            "loading": false,
            "bottom": true,
            "no_wrap": false,
            "tile_size": 256,
            "popup_min_width": 50,
            "opacity": 1,
            "popup": null,
            "attribution": "Google Earth Engine",
            "_model_name": "LeafletTileLayerModel",
            "max_native_zoom": 18,
            "base": false,
            "min_native_zoom": 0,
            "show_loading": false,
            "name": "VIIRS-DNB- Greater LA Dec 2019",
            "url": "https://earthengine.googleapis.com/v1alpha/projects/earthengine-legacy/maps/a6a808dfe832a04db873060e81f3a24b-59fd9ae127f7c19e6bed83c585aa8201/tiles/{z}/{x}/{y}",
            "popup_max_height": null,
            "popup_max_width": 300,
            "detect_retina": false,
            "_view_module_version": "^0.14.0",
            "options": [
              "attribution",
              "detect_retina",
              "max_native_zoom",
              "max_zoom",
              "min_native_zoom",
              "min_zoom",
              "no_wrap",
              "tile_size",
              "tms"
            ]
          }
        },
        "4ad30fe261a144d8a2a0d40e439fbf49": {
          "model_module": "jupyter-leaflet",
          "model_name": "LeafletMapStyleModel",
          "model_module_version": "^0.14.0",
          "state": {
            "_view_name": "StyleView",
            "_model_name": "LeafletMapStyleModel",
            "_view_module": "@jupyter-widgets/base",
            "_model_module_version": "^0.14.0",
            "_view_count": null,
            "cursor": "move",
            "_view_module_version": "1.2.0",
            "_model_module": "jupyter-leaflet"
          }
        },
        "6cfaa57ac77a45e6bd5dd8f74fdc5aab": {
          "model_module": "@jupyter-widgets/controls",
          "model_name": "HBoxModel",
          "model_module_version": "1.5.0",
          "state": {
            "_view_name": "HBoxView",
            "_dom_classes": [],
            "_model_name": "HBoxModel",
            "_view_module": "@jupyter-widgets/controls",
            "_model_module_version": "1.5.0",
            "_view_count": null,
            "_view_module_version": "1.5.0",
            "box_style": "",
            "layout": "IPY_MODEL_93d71a04ffa6454b9179a70a40149f43",
            "_model_module": "@jupyter-widgets/controls",
            "children": [
              "IPY_MODEL_954bbd62bf68475daa32aace0d8b8edf"
            ]
          }
        },
        "704ef5ba2eae4b45925ced807c4046fc": {
          "model_module": "@jupyter-widgets/controls",
          "model_name": "VBoxModel",
          "model_module_version": "1.5.0",
          "state": {
            "_view_name": "VBoxView",
            "_dom_classes": [],
            "_model_name": "VBoxModel",
            "_view_module": "@jupyter-widgets/controls",
            "_model_module_version": "1.5.0",
            "_view_count": null,
            "_view_module_version": "1.5.0",
            "box_style": "",
            "layout": "IPY_MODEL_f96f05fb00604175b775022d74e5a2db",
            "_model_module": "@jupyter-widgets/controls",
            "children": [
              "IPY_MODEL_4c95bc9aca324a25bb9c5ca0bcc7882f"
            ]
          }
        },
        "93d71a04ffa6454b9179a70a40149f43": {
          "model_module": "@jupyter-widgets/base",
          "model_name": "LayoutModel",
          "model_module_version": "1.2.0",
          "state": {
            "_view_name": "LayoutView",
            "grid_template_rows": null,
            "right": null,
            "justify_content": null,
            "_view_module": "@jupyter-widgets/base",
            "overflow": null,
            "_model_module_version": "1.2.0",
            "_view_count": null,
            "flex_flow": null,
            "width": null,
            "min_width": null,
            "border": null,
            "align_items": null,
            "bottom": null,
            "_model_module": "@jupyter-widgets/base",
            "top": null,
            "grid_column": null,
            "overflow_y": null,
            "overflow_x": null,
            "grid_auto_flow": null,
            "grid_area": null,
            "grid_template_columns": null,
            "flex": null,
            "_model_name": "LayoutModel",
            "justify_items": null,
            "grid_row": null,
            "max_height": null,
            "align_content": null,
            "visibility": null,
            "align_self": null,
            "height": null,
            "min_height": null,
            "padding": null,
            "grid_auto_rows": null,
            "grid_gap": null,
            "max_width": null,
            "order": null,
            "_view_module_version": "1.2.0",
            "grid_template_areas": null,
            "object_position": null,
            "object_fit": null,
            "grid_auto_columns": null,
            "margin": null,
            "display": null,
            "left": null
          }
        },
        "954bbd62bf68475daa32aace0d8b8edf": {
          "model_module": "@jupyter-widgets/controls",
          "model_name": "ToggleButtonModel",
          "model_module_version": "1.5.0",
          "state": {
            "_view_name": "ToggleButtonView",
            "style": "IPY_MODEL_6959a83dfbba4717aaceb431a5bd33bd",
            "_dom_classes": [],
            "description": "",
            "_model_name": "ToggleButtonModel",
            "button_style": "",
            "_view_module": "@jupyter-widgets/controls",
            "_model_module_version": "1.5.0",
            "tooltip": "Search location/data",
            "_view_count": null,
            "disabled": false,
            "_view_module_version": "1.5.0",
            "value": false,
            "description_tooltip": null,
            "_model_module": "@jupyter-widgets/controls",
            "layout": "IPY_MODEL_22dd967780b644beb9e13096828972b9",
            "icon": "globe"
          }
        },
        "f96f05fb00604175b775022d74e5a2db": {
          "model_module": "@jupyter-widgets/base",
          "model_name": "LayoutModel",
          "model_module_version": "1.2.0",
          "state": {
            "_view_name": "LayoutView",
            "grid_template_rows": null,
            "right": null,
            "justify_content": null,
            "_view_module": "@jupyter-widgets/base",
            "overflow": null,
            "_model_module_version": "1.2.0",
            "_view_count": null,
            "flex_flow": null,
            "width": null,
            "min_width": null,
            "border": null,
            "align_items": null,
            "bottom": null,
            "_model_module": "@jupyter-widgets/base",
            "top": null,
            "grid_column": null,
            "overflow_y": null,
            "overflow_x": null,
            "grid_auto_flow": null,
            "grid_area": null,
            "grid_template_columns": null,
            "flex": null,
            "_model_name": "LayoutModel",
            "justify_items": null,
            "grid_row": null,
            "max_height": null,
            "align_content": null,
            "visibility": null,
            "align_self": null,
            "height": null,
            "min_height": null,
            "padding": null,
            "grid_auto_rows": null,
            "grid_gap": null,
            "max_width": null,
            "order": null,
            "_view_module_version": "1.2.0",
            "grid_template_areas": null,
            "object_position": null,
            "object_fit": null,
            "grid_auto_columns": null,
            "margin": null,
            "display": null,
            "left": null
          }
        },
        "4c95bc9aca324a25bb9c5ca0bcc7882f": {
          "model_module": "@jupyter-widgets/controls",
          "model_name": "ToggleButtonModel",
          "model_module_version": "1.5.0",
          "state": {
            "_view_name": "ToggleButtonView",
            "style": "IPY_MODEL_1dc5295bb1904db8ab435f2fb2e6fe28",
            "_dom_classes": [],
            "description": "",
            "_model_name": "ToggleButtonModel",
            "button_style": "",
            "_view_module": "@jupyter-widgets/controls",
            "_model_module_version": "1.5.0",
            "tooltip": "Toolbar",
            "_view_count": null,
            "disabled": false,
            "_view_module_version": "1.5.0",
            "value": false,
            "description_tooltip": null,
            "_model_module": "@jupyter-widgets/controls",
            "layout": "IPY_MODEL_919a62159bd442648cae80d5448fe1ba",
            "icon": "wrench"
          }
        },
        "6959a83dfbba4717aaceb431a5bd33bd": {
          "model_module": "@jupyter-widgets/controls",
          "model_name": "DescriptionStyleModel",
          "model_module_version": "1.5.0",
          "state": {
            "_view_name": "StyleView",
            "_model_name": "DescriptionStyleModel",
            "description_width": "",
            "_view_module": "@jupyter-widgets/base",
            "_model_module_version": "1.5.0",
            "_view_count": null,
            "_view_module_version": "1.2.0",
            "_model_module": "@jupyter-widgets/controls"
          }
        },
        "22dd967780b644beb9e13096828972b9": {
          "model_module": "@jupyter-widgets/base",
          "model_name": "LayoutModel",
          "model_module_version": "1.2.0",
          "state": {
            "_view_name": "LayoutView",
            "grid_template_rows": null,
            "right": null,
            "justify_content": null,
            "_view_module": "@jupyter-widgets/base",
            "overflow": null,
            "_model_module_version": "1.2.0",
            "_view_count": null,
            "flex_flow": null,
            "width": "28px",
            "min_width": null,
            "border": null,
            "align_items": null,
            "bottom": null,
            "_model_module": "@jupyter-widgets/base",
            "top": null,
            "grid_column": null,
            "overflow_y": null,
            "overflow_x": null,
            "grid_auto_flow": null,
            "grid_area": null,
            "grid_template_columns": null,
            "flex": null,
            "_model_name": "LayoutModel",
            "justify_items": null,
            "grid_row": null,
            "max_height": null,
            "align_content": null,
            "visibility": null,
            "align_self": null,
            "height": "28px",
            "min_height": null,
            "padding": "0px 0px 0px 4px",
            "grid_auto_rows": null,
            "grid_gap": null,
            "max_width": null,
            "order": null,
            "_view_module_version": "1.2.0",
            "grid_template_areas": null,
            "object_position": null,
            "object_fit": null,
            "grid_auto_columns": null,
            "margin": null,
            "display": null,
            "left": null
          }
        },
        "1dc5295bb1904db8ab435f2fb2e6fe28": {
          "model_module": "@jupyter-widgets/controls",
          "model_name": "DescriptionStyleModel",
          "model_module_version": "1.5.0",
          "state": {
            "_view_name": "StyleView",
            "_model_name": "DescriptionStyleModel",
            "description_width": "",
            "_view_module": "@jupyter-widgets/base",
            "_model_module_version": "1.5.0",
            "_view_count": null,
            "_view_module_version": "1.2.0",
            "_model_module": "@jupyter-widgets/controls"
          }
        },
        "919a62159bd442648cae80d5448fe1ba": {
          "model_module": "@jupyter-widgets/base",
          "model_name": "LayoutModel",
          "model_module_version": "1.2.0",
          "state": {
            "_view_name": "LayoutView",
            "grid_template_rows": null,
            "right": null,
            "justify_content": null,
            "_view_module": "@jupyter-widgets/base",
            "overflow": null,
            "_model_module_version": "1.2.0",
            "_view_count": null,
            "flex_flow": null,
            "width": "28px",
            "min_width": null,
            "border": null,
            "align_items": null,
            "bottom": null,
            "_model_module": "@jupyter-widgets/base",
            "top": null,
            "grid_column": null,
            "overflow_y": null,
            "overflow_x": null,
            "grid_auto_flow": null,
            "grid_area": null,
            "grid_template_columns": null,
            "flex": null,
            "_model_name": "LayoutModel",
            "justify_items": null,
            "grid_row": null,
            "max_height": null,
            "align_content": null,
            "visibility": null,
            "align_self": null,
            "height": "28px",
            "min_height": null,
            "padding": "0px 0px 0px 4px",
            "grid_auto_rows": null,
            "grid_gap": null,
            "max_width": null,
            "order": null,
            "_view_module_version": "1.2.0",
            "grid_template_areas": null,
            "object_position": null,
            "object_fit": null,
            "grid_auto_columns": null,
            "margin": null,
            "display": null,
            "left": null
          }
        }
      }
    }
  },
  "cells": [
    {
      "cell_type": "markdown",
      "metadata": {
        "id": "view-in-github",
        "colab_type": "text"
      },
      "source": [
        "<a href=\"https://colab.research.google.com/github/mgamzec/GeoPython/blob/main/geemap_clip.ipynb\" target=\"_parent\"><img src=\"https://colab.research.google.com/assets/colab-badge.svg\" alt=\"Open In Colab\"/></a>"
      ]
    },
    {
      "cell_type": "code",
      "metadata": {
        "id": "jz3DZCq00xQt"
      },
      "source": [],
      "execution_count": null,
      "outputs": []
    },
    {
      "cell_type": "code",
      "metadata": {
        "id": "u0vjgcgU0zl6"
      },
      "source": [],
      "execution_count": null,
      "outputs": []
    },
    {
      "cell_type": "code",
      "metadata": {
        "colab": {
          "base_uri": "https://localhost:8080/"
        },
        "id": "NtzqZGzD0zpc",
        "outputId": "57bc7c8c-33c4-4cc6-f85c-1acefbef7174"
      },
      "source": [
        "!pip install geemap"
      ],
      "execution_count": null,
      "outputs": [
        {
          "output_type": "stream",
          "name": "stdout",
          "text": [
            "Requirement already satisfied: geemap in /usr/local/lib/python3.7/dist-packages (0.9.1)\n",
            "Requirement already satisfied: mss in /usr/local/lib/python3.7/dist-packages (from geemap) (6.1.0)\n",
            "Requirement already satisfied: colour in /usr/local/lib/python3.7/dist-packages (from geemap) (0.1.5)\n",
            "Requirement already satisfied: bqplot in /usr/local/lib/python3.7/dist-packages (from geemap) (0.12.30)\n",
            "Requirement already satisfied: python-box in /usr/local/lib/python3.7/dist-packages (from geemap) (5.4.1)\n",
            "Requirement already satisfied: ipyevents in /usr/local/lib/python3.7/dist-packages (from geemap) (2.0.1)\n",
            "Requirement already satisfied: googledrivedownloader in /usr/local/lib/python3.7/dist-packages (from geemap) (0.4)\n",
            "Requirement already satisfied: whiteboxgui>=0.6.0 in /usr/local/lib/python3.7/dist-packages (from geemap) (0.6.0)\n",
            "Requirement already satisfied: ipyfilechooser in /usr/local/lib/python3.7/dist-packages (from geemap) (0.6.0)\n",
            "Requirement already satisfied: sankee in /usr/local/lib/python3.7/dist-packages (from geemap) (0.0.5)\n",
            "Requirement already satisfied: ipytree in /usr/local/lib/python3.7/dist-packages (from geemap) (0.2.1)\n",
            "Requirement already satisfied: geojson in /usr/local/lib/python3.7/dist-packages (from geemap) (2.5.0)\n",
            "Requirement already satisfied: geocoder in /usr/local/lib/python3.7/dist-packages (from geemap) (1.38.1)\n",
            "Requirement already satisfied: ipynb-py-convert in /usr/local/lib/python3.7/dist-packages (from geemap) (0.4.6)\n",
            "Requirement already satisfied: pandas in /usr/local/lib/python3.7/dist-packages (from geemap) (1.1.5)\n",
            "Requirement already satisfied: click in /usr/local/lib/python3.7/dist-packages (from geemap) (7.1.2)\n",
            "Requirement already satisfied: ipyleaflet>=0.14.0 in /usr/local/lib/python3.7/dist-packages (from geemap) (0.14.0)\n",
            "Requirement already satisfied: ffmpeg-python in /usr/local/lib/python3.7/dist-packages (from geemap) (0.2.0)\n",
            "Requirement already satisfied: numpy in /usr/local/lib/python3.7/dist-packages (from geemap) (1.19.5)\n",
            "Requirement already satisfied: folium>=0.11.0 in /usr/local/lib/python3.7/dist-packages (from geemap) (0.12.1)\n",
            "Requirement already satisfied: voila in /usr/local/lib/python3.7/dist-packages (from geemap) (0.2.15)\n",
            "Requirement already satisfied: geeadd>=0.5.1 in /usr/local/lib/python3.7/dist-packages (from geemap) (0.5.5)\n",
            "Requirement already satisfied: pycrs in /usr/local/lib/python3.7/dist-packages (from geemap) (1.0.2)\n",
            "Requirement already satisfied: pillow in /usr/local/lib/python3.7/dist-packages (from geemap) (7.1.2)\n",
            "Requirement already satisfied: pyshp>=2.1.3 in /usr/local/lib/python3.7/dist-packages (from geemap) (2.1.3)\n",
            "Requirement already satisfied: earthengine-api>=0.1.230 in /usr/local/lib/python3.7/dist-packages (from geemap) (0.1.283)\n",
            "Requirement already satisfied: matplotlib in /usr/local/lib/python3.7/dist-packages (from geemap) (3.2.2)\n",
            "Requirement already satisfied: six in /usr/local/lib/python3.7/dist-packages (from earthengine-api>=0.1.230->geemap) (1.15.0)\n",
            "Requirement already satisfied: future in /usr/local/lib/python3.7/dist-packages (from earthengine-api>=0.1.230->geemap) (0.16.0)\n",
            "Requirement already satisfied: google-api-python-client<2,>=1.12.1 in /usr/local/lib/python3.7/dist-packages (from earthengine-api>=0.1.230->geemap) (1.12.8)\n",
            "Requirement already satisfied: httplib2<1dev,>=0.9.2 in /usr/local/lib/python3.7/dist-packages (from earthengine-api>=0.1.230->geemap) (0.17.4)\n",
            "Requirement already satisfied: google-auth-httplib2>=0.0.3 in /usr/local/lib/python3.7/dist-packages (from earthengine-api>=0.1.230->geemap) (0.0.4)\n",
            "Requirement already satisfied: httplib2shim in /usr/local/lib/python3.7/dist-packages (from earthengine-api>=0.1.230->geemap) (0.0.3)\n",
            "Requirement already satisfied: google-auth>=1.4.1 in /usr/local/lib/python3.7/dist-packages (from earthengine-api>=0.1.230->geemap) (1.35.0)\n",
            "Requirement already satisfied: google-cloud-storage in /usr/local/lib/python3.7/dist-packages (from earthengine-api>=0.1.230->geemap) (1.18.1)\n",
            "Requirement already satisfied: requests in /usr/local/lib/python3.7/dist-packages (from folium>=0.11.0->geemap) (2.23.0)\n",
            "Requirement already satisfied: jinja2>=2.9 in /usr/local/lib/python3.7/dist-packages (from folium>=0.11.0->geemap) (2.11.3)\n",
            "Requirement already satisfied: branca>=0.3.0 in /usr/local/lib/python3.7/dist-packages (from folium>=0.11.0->geemap) (0.4.2)\n",
            "Requirement already satisfied: logzero>=1.5.0 in /usr/local/lib/python3.7/dist-packages (from geeadd>=0.5.1->geemap) (1.7.0)\n",
            "Requirement already satisfied: beautifulsoup4>=4.9.0 in /usr/local/lib/python3.7/dist-packages (from geeadd>=0.5.1->geemap) (4.10.0)\n",
            "Requirement already satisfied: soupsieve>1.2 in /usr/local/lib/python3.7/dist-packages (from beautifulsoup4>=4.9.0->geeadd>=0.5.1->geemap) (2.2.1)\n",
            "Requirement already satisfied: google-api-core<2dev,>=1.21.0 in /usr/local/lib/python3.7/dist-packages (from google-api-python-client<2,>=1.12.1->earthengine-api>=0.1.230->geemap) (1.26.3)\n",
            "Requirement already satisfied: uritemplate<4dev,>=3.0.0 in /usr/local/lib/python3.7/dist-packages (from google-api-python-client<2,>=1.12.1->earthengine-api>=0.1.230->geemap) (3.0.1)\n",
            "Requirement already satisfied: pytz in /usr/local/lib/python3.7/dist-packages (from google-api-core<2dev,>=1.21.0->google-api-python-client<2,>=1.12.1->earthengine-api>=0.1.230->geemap) (2018.9)\n",
            "Requirement already satisfied: googleapis-common-protos<2.0dev,>=1.6.0 in /usr/local/lib/python3.7/dist-packages (from google-api-core<2dev,>=1.21.0->google-api-python-client<2,>=1.12.1->earthengine-api>=0.1.230->geemap) (1.53.0)\n",
            "Requirement already satisfied: protobuf>=3.12.0 in /usr/local/lib/python3.7/dist-packages (from google-api-core<2dev,>=1.21.0->google-api-python-client<2,>=1.12.1->earthengine-api>=0.1.230->geemap) (3.17.3)\n",
            "Requirement already satisfied: setuptools>=40.3.0 in /usr/local/lib/python3.7/dist-packages (from google-api-core<2dev,>=1.21.0->google-api-python-client<2,>=1.12.1->earthengine-api>=0.1.230->geemap) (57.4.0)\n",
            "Requirement already satisfied: packaging>=14.3 in /usr/local/lib/python3.7/dist-packages (from google-api-core<2dev,>=1.21.0->google-api-python-client<2,>=1.12.1->earthengine-api>=0.1.230->geemap) (21.0)\n",
            "Requirement already satisfied: rsa<5,>=3.1.4 in /usr/local/lib/python3.7/dist-packages (from google-auth>=1.4.1->earthengine-api>=0.1.230->geemap) (4.7.2)\n",
            "Requirement already satisfied: cachetools<5.0,>=2.0.0 in /usr/local/lib/python3.7/dist-packages (from google-auth>=1.4.1->earthengine-api>=0.1.230->geemap) (4.2.2)\n",
            "Requirement already satisfied: pyasn1-modules>=0.2.1 in /usr/local/lib/python3.7/dist-packages (from google-auth>=1.4.1->earthengine-api>=0.1.230->geemap) (0.2.8)\n",
            "Requirement already satisfied: ipywidgets<8,>=7.6.0 in /usr/local/lib/python3.7/dist-packages (from ipyleaflet>=0.14.0->geemap) (7.6.5)\n",
            "Requirement already satisfied: traittypes<3,>=0.2.1 in /usr/local/lib/python3.7/dist-packages (from ipyleaflet>=0.14.0->geemap) (0.2.1)\n",
            "Requirement already satisfied: ipython-genutils~=0.2.0 in /usr/local/lib/python3.7/dist-packages (from ipywidgets<8,>=7.6.0->ipyleaflet>=0.14.0->geemap) (0.2.0)\n",
            "Requirement already satisfied: ipython>=4.0.0 in /usr/local/lib/python3.7/dist-packages (from ipywidgets<8,>=7.6.0->ipyleaflet>=0.14.0->geemap) (5.5.0)\n",
            "Requirement already satisfied: traitlets>=4.3.1 in /usr/local/lib/python3.7/dist-packages (from ipywidgets<8,>=7.6.0->ipyleaflet>=0.14.0->geemap) (5.1.0)\n",
            "Requirement already satisfied: jupyterlab-widgets>=1.0.0 in /usr/local/lib/python3.7/dist-packages (from ipywidgets<8,>=7.6.0->ipyleaflet>=0.14.0->geemap) (1.0.2)\n",
            "Requirement already satisfied: ipykernel>=4.5.1 in /usr/local/lib/python3.7/dist-packages (from ipywidgets<8,>=7.6.0->ipyleaflet>=0.14.0->geemap) (4.10.1)\n",
            "Requirement already satisfied: widgetsnbextension~=3.5.0 in /usr/local/lib/python3.7/dist-packages (from ipywidgets<8,>=7.6.0->ipyleaflet>=0.14.0->geemap) (3.5.1)\n",
            "Requirement already satisfied: nbformat>=4.2.0 in /usr/local/lib/python3.7/dist-packages (from ipywidgets<8,>=7.6.0->ipyleaflet>=0.14.0->geemap) (5.1.3)\n",
            "Requirement already satisfied: jupyter-client in /usr/local/lib/python3.7/dist-packages (from ipykernel>=4.5.1->ipywidgets<8,>=7.6.0->ipyleaflet>=0.14.0->geemap) (6.1.12)\n",
            "Requirement already satisfied: tornado>=4.0 in /usr/local/lib/python3.7/dist-packages (from ipykernel>=4.5.1->ipywidgets<8,>=7.6.0->ipyleaflet>=0.14.0->geemap) (6.1)\n",
            "Requirement already satisfied: decorator in /usr/local/lib/python3.7/dist-packages (from ipython>=4.0.0->ipywidgets<8,>=7.6.0->ipyleaflet>=0.14.0->geemap) (4.4.2)\n",
            "Requirement already satisfied: simplegeneric>0.8 in /usr/local/lib/python3.7/dist-packages (from ipython>=4.0.0->ipywidgets<8,>=7.6.0->ipyleaflet>=0.14.0->geemap) (0.8.1)\n",
            "Requirement already satisfied: pickleshare in /usr/local/lib/python3.7/dist-packages (from ipython>=4.0.0->ipywidgets<8,>=7.6.0->ipyleaflet>=0.14.0->geemap) (0.7.5)\n",
            "Requirement already satisfied: pexpect in /usr/local/lib/python3.7/dist-packages (from ipython>=4.0.0->ipywidgets<8,>=7.6.0->ipyleaflet>=0.14.0->geemap) (4.8.0)\n",
            "Requirement already satisfied: prompt-toolkit<2.0.0,>=1.0.4 in /usr/local/lib/python3.7/dist-packages (from ipython>=4.0.0->ipywidgets<8,>=7.6.0->ipyleaflet>=0.14.0->geemap) (1.0.18)\n",
            "Requirement already satisfied: pygments in /usr/local/lib/python3.7/dist-packages (from ipython>=4.0.0->ipywidgets<8,>=7.6.0->ipyleaflet>=0.14.0->geemap) (2.6.1)\n",
            "Requirement already satisfied: MarkupSafe>=0.23 in /usr/local/lib/python3.7/dist-packages (from jinja2>=2.9->folium>=0.11.0->geemap) (2.0.1)\n",
            "Requirement already satisfied: jupyter-core in /usr/local/lib/python3.7/dist-packages (from nbformat>=4.2.0->ipywidgets<8,>=7.6.0->ipyleaflet>=0.14.0->geemap) (4.8.1)\n",
            "Requirement already satisfied: jsonschema!=2.5.0,>=2.4 in /usr/local/lib/python3.7/dist-packages (from nbformat>=4.2.0->ipywidgets<8,>=7.6.0->ipyleaflet>=0.14.0->geemap) (2.6.0)\n",
            "Requirement already satisfied: pyparsing>=2.0.2 in /usr/local/lib/python3.7/dist-packages (from packaging>=14.3->google-api-core<2dev,>=1.21.0->google-api-python-client<2,>=1.12.1->earthengine-api>=0.1.230->geemap) (2.4.7)\n",
            "Requirement already satisfied: wcwidth in /usr/local/lib/python3.7/dist-packages (from prompt-toolkit<2.0.0,>=1.0.4->ipython>=4.0.0->ipywidgets<8,>=7.6.0->ipyleaflet>=0.14.0->geemap) (0.2.5)\n",
            "Requirement already satisfied: pyasn1<0.5.0,>=0.4.6 in /usr/local/lib/python3.7/dist-packages (from pyasn1-modules>=0.2.1->google-auth>=1.4.1->earthengine-api>=0.1.230->geemap) (0.4.8)\n",
            "Requirement already satisfied: idna<3,>=2.5 in /usr/local/lib/python3.7/dist-packages (from requests->folium>=0.11.0->geemap) (2.10)\n",
            "Requirement already satisfied: chardet<4,>=3.0.2 in /usr/local/lib/python3.7/dist-packages (from requests->folium>=0.11.0->geemap) (3.0.4)\n",
            "Requirement already satisfied: urllib3!=1.25.0,!=1.25.1,<1.26,>=1.21.1 in /usr/local/lib/python3.7/dist-packages (from requests->folium>=0.11.0->geemap) (1.24.3)\n",
            "Requirement already satisfied: certifi>=2017.4.17 in /usr/local/lib/python3.7/dist-packages (from requests->folium>=0.11.0->geemap) (2021.5.30)\n",
            "Requirement already satisfied: whitebox in /usr/local/lib/python3.7/dist-packages (from whiteboxgui>=0.6.0->geemap) (2.0.3)\n",
            "Requirement already satisfied: notebook>=4.4.1 in /usr/local/lib/python3.7/dist-packages (from widgetsnbextension~=3.5.0->ipywidgets<8,>=7.6.0->ipyleaflet>=0.14.0->geemap) (5.3.1)\n",
            "Requirement already satisfied: Send2Trash in /usr/local/lib/python3.7/dist-packages (from notebook>=4.4.1->widgetsnbextension~=3.5.0->ipywidgets<8,>=7.6.0->ipyleaflet>=0.14.0->geemap) (1.8.0)\n",
            "Requirement already satisfied: terminado>=0.8.1 in /usr/local/lib/python3.7/dist-packages (from notebook>=4.4.1->widgetsnbextension~=3.5.0->ipywidgets<8,>=7.6.0->ipyleaflet>=0.14.0->geemap) (0.12.1)\n",
            "Requirement already satisfied: nbconvert in /usr/local/lib/python3.7/dist-packages (from notebook>=4.4.1->widgetsnbextension~=3.5.0->ipywidgets<8,>=7.6.0->ipyleaflet>=0.14.0->geemap) (6.2.0)\n",
            "Requirement already satisfied: python-dateutil>=2.1 in /usr/local/lib/python3.7/dist-packages (from jupyter-client->ipykernel>=4.5.1->ipywidgets<8,>=7.6.0->ipyleaflet>=0.14.0->geemap) (2.8.2)\n",
            "Requirement already satisfied: pyzmq>=13 in /usr/local/lib/python3.7/dist-packages (from jupyter-client->ipykernel>=4.5.1->ipywidgets<8,>=7.6.0->ipyleaflet>=0.14.0->geemap) (22.3.0)\n",
            "Requirement already satisfied: ptyprocess in /usr/local/lib/python3.7/dist-packages (from terminado>=0.8.1->notebook>=4.4.1->widgetsnbextension~=3.5.0->ipywidgets<8,>=7.6.0->ipyleaflet>=0.14.0->geemap) (0.7.0)\n",
            "Requirement already satisfied: ratelim in /usr/local/lib/python3.7/dist-packages (from geocoder->geemap) (0.1.6)\n",
            "Requirement already satisfied: google-cloud-core<2.0dev,>=1.0.0 in /usr/local/lib/python3.7/dist-packages (from google-cloud-storage->earthengine-api>=0.1.230->geemap) (1.0.3)\n",
            "Requirement already satisfied: google-resumable-media<0.5.0dev,>=0.3.1 in /usr/local/lib/python3.7/dist-packages (from google-cloud-storage->earthengine-api>=0.1.230->geemap) (0.4.1)\n",
            "Requirement already satisfied: kiwisolver>=1.0.1 in /usr/local/lib/python3.7/dist-packages (from matplotlib->geemap) (1.3.2)\n",
            "Requirement already satisfied: cycler>=0.10 in /usr/local/lib/python3.7/dist-packages (from matplotlib->geemap) (0.10.0)\n",
            "Requirement already satisfied: entrypoints>=0.2.2 in /usr/local/lib/python3.7/dist-packages (from nbconvert->notebook>=4.4.1->widgetsnbextension~=3.5.0->ipywidgets<8,>=7.6.0->ipyleaflet>=0.14.0->geemap) (0.3)\n",
            "Requirement already satisfied: jupyterlab-pygments in /usr/local/lib/python3.7/dist-packages (from nbconvert->notebook>=4.4.1->widgetsnbextension~=3.5.0->ipywidgets<8,>=7.6.0->ipyleaflet>=0.14.0->geemap) (0.1.2)\n",
            "Requirement already satisfied: pandocfilters>=1.4.1 in /usr/local/lib/python3.7/dist-packages (from nbconvert->notebook>=4.4.1->widgetsnbextension~=3.5.0->ipywidgets<8,>=7.6.0->ipyleaflet>=0.14.0->geemap) (1.5.0)\n",
            "Requirement already satisfied: mistune<2,>=0.8.1 in /usr/local/lib/python3.7/dist-packages (from nbconvert->notebook>=4.4.1->widgetsnbextension~=3.5.0->ipywidgets<8,>=7.6.0->ipyleaflet>=0.14.0->geemap) (0.8.4)\n",
            "Requirement already satisfied: bleach in /usr/local/lib/python3.7/dist-packages (from nbconvert->notebook>=4.4.1->widgetsnbextension~=3.5.0->ipywidgets<8,>=7.6.0->ipyleaflet>=0.14.0->geemap) (4.1.0)\n",
            "Requirement already satisfied: defusedxml in /usr/local/lib/python3.7/dist-packages (from nbconvert->notebook>=4.4.1->widgetsnbextension~=3.5.0->ipywidgets<8,>=7.6.0->ipyleaflet>=0.14.0->geemap) (0.7.1)\n",
            "Requirement already satisfied: nbclient<0.6.0,>=0.5.0 in /usr/local/lib/python3.7/dist-packages (from nbconvert->notebook>=4.4.1->widgetsnbextension~=3.5.0->ipywidgets<8,>=7.6.0->ipyleaflet>=0.14.0->geemap) (0.5.4)\n",
            "Requirement already satisfied: testpath in /usr/local/lib/python3.7/dist-packages (from nbconvert->notebook>=4.4.1->widgetsnbextension~=3.5.0->ipywidgets<8,>=7.6.0->ipyleaflet>=0.14.0->geemap) (0.5.0)\n",
            "Requirement already satisfied: nest-asyncio in /usr/local/lib/python3.7/dist-packages (from nbclient<0.6.0,>=0.5.0->nbconvert->notebook>=4.4.1->widgetsnbextension~=3.5.0->ipywidgets<8,>=7.6.0->ipyleaflet>=0.14.0->geemap) (1.5.1)\n",
            "Requirement already satisfied: webencodings in /usr/local/lib/python3.7/dist-packages (from bleach->nbconvert->notebook>=4.4.1->widgetsnbextension~=3.5.0->ipywidgets<8,>=7.6.0->ipyleaflet>=0.14.0->geemap) (0.5.1)\n",
            "Requirement already satisfied: plotly in /usr/local/lib/python3.7/dist-packages (from sankee->geemap) (4.4.1)\n",
            "Requirement already satisfied: retrying>=1.3.3 in /usr/local/lib/python3.7/dist-packages (from plotly->sankee->geemap) (1.3.3)\n",
            "Requirement already satisfied: jupyter-server<2.0.0,>=0.3.0 in /usr/local/lib/python3.7/dist-packages (from voila->geemap) (1.11.0)\n",
            "Requirement already satisfied: anyio<4,>=3.1.0 in /usr/local/lib/python3.7/dist-packages (from jupyter-server<2.0.0,>=0.3.0->voila->geemap) (3.3.2)\n",
            "Requirement already satisfied: websocket-client in /usr/local/lib/python3.7/dist-packages (from jupyter-server<2.0.0,>=0.3.0->voila->geemap) (1.2.1)\n",
            "Requirement already satisfied: argon2-cffi in /usr/local/lib/python3.7/dist-packages (from jupyter-server<2.0.0,>=0.3.0->voila->geemap) (21.1.0)\n",
            "Requirement already satisfied: requests-unixsocket in /usr/local/lib/python3.7/dist-packages (from jupyter-server<2.0.0,>=0.3.0->voila->geemap) (0.2.0)\n",
            "Requirement already satisfied: prometheus-client in /usr/local/lib/python3.7/dist-packages (from jupyter-server<2.0.0,>=0.3.0->voila->geemap) (0.11.0)\n",
            "Requirement already satisfied: sniffio>=1.1 in /usr/local/lib/python3.7/dist-packages (from anyio<4,>=3.1.0->jupyter-server<2.0.0,>=0.3.0->voila->geemap) (1.2.0)\n",
            "Requirement already satisfied: typing-extensions in /usr/local/lib/python3.7/dist-packages (from anyio<4,>=3.1.0->jupyter-server<2.0.0,>=0.3.0->voila->geemap) (3.7.4.3)\n",
            "Requirement already satisfied: cffi>=1.0.0 in /usr/local/lib/python3.7/dist-packages (from argon2-cffi->jupyter-server<2.0.0,>=0.3.0->voila->geemap) (1.14.6)\n",
            "Requirement already satisfied: pycparser in /usr/local/lib/python3.7/dist-packages (from cffi>=1.0.0->argon2-cffi->jupyter-server<2.0.0,>=0.3.0->voila->geemap) (2.20)\n"
          ]
        }
      ]
    },
    {
      "cell_type": "code",
      "metadata": {
        "id": "iChfvwQd0zsr"
      },
      "source": [],
      "execution_count": null,
      "outputs": []
    },
    {
      "cell_type": "code",
      "metadata": {
        "colab": {
          "base_uri": "https://localhost:8080/"
        },
        "id": "ZIAoAMq71CYa",
        "outputId": "55f24834-e17c-45e1-8c46-1eaac1df35d6"
      },
      "source": [
        "import ee\n",
        "\n",
        "# Trigger the authentication flow.\n",
        "ee.Authenticate()\n",
        "\n",
        "# Initialize the library.\n",
        "ee.Initialize()"
      ],
      "execution_count": null,
      "outputs": [
        {
          "output_type": "stream",
          "name": "stdout",
          "text": [
            "To authorize access needed by Earth Engine, open the following URL in a web browser and follow the instructions. If the web browser does not start automatically, please manually browse the URL below.\n",
            "\n",
            "    https://accounts.google.com/o/oauth2/auth?client_id=517222506229-vsmmajv00ul0bs7p89v5m89qs8eb9359.apps.googleusercontent.com&scope=https%3A%2F%2Fwww.googleapis.com%2Fauth%2Fearthengine+https%3A%2F%2Fwww.googleapis.com%2Fauth%2Fdevstorage.full_control&redirect_uri=urn%3Aietf%3Awg%3Aoauth%3A2.0%3Aoob&response_type=code&code_challenge=wa1895fHlBWYWIB2jeXcnQdDU_hB256BjLAHZFOrboU&code_challenge_method=S256\n",
            "\n",
            "The authorization workflow will generate a code, which you should paste in the box below. \n",
            "Enter verification code: 4/1AX4XfWjBpBB_5afCi0xVxVEKJt-Mt56pg2ooVbrbERgLTgfeS776jpr9Lg4\n",
            "\n",
            "Successfully saved authorization token.\n"
          ]
        }
      ]
    },
    {
      "cell_type": "code",
      "metadata": {
        "id": "Mj-hh2Ir1Cby"
      },
      "source": [
        "# Installs geemap package\n",
        "import google.colab\n",
        "import geemap.eefolium as geemap"
      ],
      "execution_count": null,
      "outputs": []
    },
    {
      "cell_type": "code",
      "metadata": {
        "id": "QjKkayv81Cf5"
      },
      "source": [
        "import ee\n",
        "import geemap\n",
        "\n",
        "try:\n",
        "    ee.Initialize()\n",
        "except Exception as e:\n",
        "    ee.Authenticate()\n",
        "    ee.Initialize()\n"
      ],
      "execution_count": null,
      "outputs": []
    },
    {
      "cell_type": "code",
      "metadata": {
        "id": "1E2o5SCp1CjS"
      },
      "source": [],
      "execution_count": null,
      "outputs": []
    },
    {
      "cell_type": "code",
      "metadata": {
        "colab": {
          "base_uri": "https://localhost:8080/"
        },
        "id": "MSwKb2bp0zwS",
        "outputId": "40e53f27-16d2-4e58-8a63-23404e5a8f12"
      },
      "source": [
        "amz_bol=ee.FeatureCollection('users/minervas_jojo_code/Amazonia_bolivia') #\n",
        "#https://code.earthengine.google.com/?asset=users/minervas_jojo_code/Amazonia_bolivia\n",
        "\n",
        "print(amz_bol)"
      ],
      "execution_count": null,
      "outputs": [
        {
          "output_type": "stream",
          "name": "stdout",
          "text": [
            "ee.FeatureCollection({\n",
            "  \"functionInvocationValue\": {\n",
            "    \"functionName\": \"Collection.loadTable\",\n",
            "    \"arguments\": {\n",
            "      \"tableId\": {\n",
            "        \"constantValue\": \"users/minervas_jojo_code/Amazonia_bolivia\"\n",
            "      }\n",
            "    }\n",
            "  }\n",
            "})\n"
          ]
        }
      ]
    },
    {
      "cell_type": "code",
      "metadata": {
        "colab": {
          "base_uri": "https://localhost:8080/",
          "height": 621,
          "referenced_widgets": [
            "5f14db1f44a94e348dcc6d666b3aa40d",
            "8962640baf894dfa8ca5dc49e2abfc60",
            "45461ead93c94700a8df40bffd4f0a59",
            "022e01fb20a34342b574b819cd98c554",
            "4fe6501a90b9401bbeee256c10a713b1",
            "fade9696e13440a7882d758b2d1fdc35",
            "ecdd8ee6080f4201a59598e5c45434b7",
            "0281b9bd09c0404eb0775d6b62835480",
            "1502f1cd811145e6a398a399718294f4",
            "56e3ec89675e45308810e1057c58fefc",
            "f4d51acef8a1475787e0d9798c6fbc29",
            "7cca8c21f0fd4b06b54de2b6e7981786",
            "ce9acf0f702b4e8fa4baaf856695c51f",
            "1fbfaa95c9e44ad78fed7a807b2badf8",
            "a4209b6f48484c4f8de0e4ad393f0a62",
            "a89aea52a1014ccd80dddaa83f4108af",
            "27d0d2525f424e9c8674b22906b2f435",
            "a396e456c1be4691ab34b1424b4c2d65",
            "aa5f148a95c24e4b8544451fc13b82d7",
            "af95d42f21d2443ba62be44e5a4a7aa4",
            "9312f86a62714e8c9b380749074788be",
            "ab35422637664d0cbdfa9550129fd361",
            "d423d6a10295483980877ab4cda1143b",
            "ff502f829e5d42eab481908e6a707f6f",
            "7201e16d824b459da90388c0d8aba652",
            "350c95fbb90744b9845c8eadee1b858d"
          ]
        },
        "id": "3opCJy751Xmt",
        "outputId": "be0e9b58-f2a3-4e3a-b1d1-7aa443a8167c"
      },
      "source": [
        "Map = geemap.Map(center=[40, -100], zoom=4)\n",
        "#Map.centerObject(peru, 4)\n",
        "Map.centerObject(amz_bol,4)\n",
        "#Map.addLayer(peru, {}, 'Countries')\n",
        "Map.addLayer(amz_bol,{},'Amazonian Bolivia')\n",
        "\n",
        "Map.addLayerControl()  #This line is not needed for ipyleaflet-based Map\n",
        "Map"
      ],
      "execution_count": null,
      "outputs": [
        {
          "output_type": "display_data",
          "data": {
            "application/vnd.jupyter.widget-view+json": {
              "model_id": "5f14db1f44a94e348dcc6d666b3aa40d",
              "version_minor": 0,
              "version_major": 2
            },
            "text/plain": [
              "Map(center=[-13.953310892494303, -65.81587896005159], controls=(WidgetControl(options=['position', 'transparen…"
            ]
          },
          "metadata": {
            "application/vnd.jupyter.widget-view+json": {
              "colab": {
                "custom_widget_manager": {
                  "url": "https://ssl.gstatic.com/colaboratory-static/widgets/colab-cdn-widget-manager/3922baeab3631134/manager.min.js"
                }
              }
            }
          }
        }
      ]
    },
    {
      "cell_type": "code",
      "metadata": {
        "id": "LVQkUE7I1XqD"
      },
      "source": [],
      "execution_count": null,
      "outputs": []
    },
    {
      "cell_type": "code",
      "metadata": {
        "id": "--HXYOv-1Xt6"
      },
      "source": [
        "# import a ground elevation Image\n",
        "ELV = ee.Image('USGS/SRTMGL1_003')"
      ],
      "execution_count": null,
      "outputs": []
    },
    {
      "cell_type": "code",
      "metadata": {
        "id": "AJtTFHY63WM1"
      },
      "source": [
        "#elev_clipped = ELV.clip(amz_bol)\n",
        "elev_clipped=ELV.clip(amz_bol)"
      ],
      "execution_count": null,
      "outputs": []
    },
    {
      "cell_type": "code",
      "metadata": {
        "colab": {
          "base_uri": "https://localhost:8080/",
          "height": 621,
          "referenced_widgets": [
            "0734f1fe2aad4331898ed03739818777",
            "3de5cfe971d249e59b04f0fbfb848ec2",
            "7a26f733af6340ecb6ea9310ccda76c0",
            "bf252de94b604991968cebe5c50a54b6",
            "d1d07752124c40eb8b575da87741fc4a",
            "74c1be5ac1fc46faae00c6fb3ef2344e",
            "3aaeaa0b5db44234b991c66929da190b",
            "c4b1e01f75464ae9be6d28f6add00b80",
            "d23d8329335646f7a6efad77929fde8d",
            "9a713809bf414646a3a3c983f5c98df8",
            "1315b010d7a1433e88cf708a91cad7c7",
            "525c27f3ec1d42b78d7447ec355d5c06",
            "b60a476a201b4e1fa1f4b91eb243a547",
            "1fbfaa95c9e44ad78fed7a807b2badf8",
            "64e4e303023d4bb7b559c26a629dd580",
            "2ee1d32a057847669c6174767c46c11c",
            "4ad30fe261a144d8a2a0d40e439fbf49",
            "6cfaa57ac77a45e6bd5dd8f74fdc5aab",
            "704ef5ba2eae4b45925ced807c4046fc",
            "93d71a04ffa6454b9179a70a40149f43",
            "954bbd62bf68475daa32aace0d8b8edf",
            "f96f05fb00604175b775022d74e5a2db",
            "4c95bc9aca324a25bb9c5ca0bcc7882f",
            "6959a83dfbba4717aaceb431a5bd33bd",
            "22dd967780b644beb9e13096828972b9",
            "1dc5295bb1904db8ab435f2fb2e6fe28",
            "919a62159bd442648cae80d5448fe1ba"
          ]
        },
        "id": "hMtVH4c_3WQD",
        "outputId": "fede8c6a-325d-4873-c8ec-8a8fbcd7097c"
      },
      "source": [
        "map2 = geemap.Map(center=[40, -100],zoom=7)\n",
        "map2.add_basemap('SATELLITE')\n",
        "map2.addLayer(elev_clipped, {}, \"Amazonian Bolivia Elevation\")\n",
        "map2.addLayerControl()\n",
        "map2\n"
      ],
      "execution_count": null,
      "outputs": [
        {
          "output_type": "display_data",
          "data": {
            "application/vnd.jupyter.widget-view+json": {
              "model_id": "0734f1fe2aad4331898ed03739818777",
              "version_minor": 0,
              "version_major": 2
            },
            "text/plain": [
              "Map(center=[40, -100], controls=(WidgetControl(options=['position', 'transparent_bg'], widget=HBox(children=(T…"
            ]
          },
          "metadata": {
            "application/vnd.jupyter.widget-view+json": {
              "colab": {
                "custom_widget_manager": {
                  "url": "https://ssl.gstatic.com/colaboratory-static/widgets/colab-cdn-widget-manager/3922baeab3631134/manager.min.js"
                }
              }
            }
          }
        }
      ]
    },
    {
      "cell_type": "code",
      "metadata": {
        "id": "V6e_kXWX38lf"
      },
      "source": [],
      "execution_count": null,
      "outputs": []
    },
    {
      "cell_type": "code",
      "metadata": {
        "id": "o3SptL8J38o8"
      },
      "source": [],
      "execution_count": null,
      "outputs": []
    },
    {
      "cell_type": "code",
      "metadata": {
        "id": "l3ADvoW238tD"
      },
      "source": [],
      "execution_count": null,
      "outputs": []
    }
  ]
}